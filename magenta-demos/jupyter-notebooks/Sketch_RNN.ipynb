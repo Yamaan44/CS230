{
  "nbformat": 4,
  "nbformat_minor": 0,
  "metadata": {
    "colab": {
      "name": "Sketch_RNN.ipynb",
      "version": "0.3.2",
      "provenance": []
    },
    "kernelspec": {
      "display_name": "Python 2",
      "language": "python",
      "name": "python2"
    }
  },
  "cells": [
    {
      "metadata": {
        "id": "tDybPQiEFQuJ",
        "colab_type": "text"
      },
      "cell_type": "markdown",
      "source": [
        "In this notebook, we will show how to load pre-trained models and draw things with sketch-rnn"
      ]
    },
    {
      "metadata": {
        "id": "k0GqvYgB9JLC",
        "colab_type": "code",
        "colab": {}
      },
      "cell_type": "code",
      "source": [
        "# import the required libraries\n",
        "import numpy as np\n",
        "import time\n",
        "import random\n",
        "import cPickle\n",
        "import codecs\n",
        "import collections\n",
        "import os\n",
        "import math\n",
        "import json\n",
        "import tensorflow as tf\n",
        "from six.moves import xrange"
      ],
      "execution_count": 0,
      "outputs": []
    },
    {
      "metadata": {
        "id": "UI4ZC__4FQuL",
        "colab_type": "code",
        "colab": {}
      },
      "cell_type": "code",
      "source": [
        "# libraries required for visualisation:\n",
        "from IPython.display import SVG, display\n",
        "import PIL\n",
        "from PIL import Image\n",
        "import matplotlib.pyplot as plt\n",
        "\n",
        "# set numpy output to something sensible\n",
        "np.set_printoptions(precision=8, edgeitems=6, linewidth=200, suppress=True)"
      ],
      "execution_count": 0,
      "outputs": []
    },
    {
      "metadata": {
        "id": "D7ObpAUh9jrk",
        "colab_type": "code",
        "colab": {}
      },
      "cell_type": "code",
      "source": [
        "!pip install -qU svgwrite"
      ],
      "execution_count": 0,
      "outputs": []
    },
    {
      "metadata": {
        "id": "4xYY-TUd9aiD",
        "colab_type": "code",
        "colab": {}
      },
      "cell_type": "code",
      "source": [
        "import svgwrite # conda install -c omnia svgwrite=1.1.6"
      ],
      "execution_count": 0,
      "outputs": []
    },
    {
      "metadata": {
        "id": "NzPSD-XRFQuP",
        "colab_type": "code",
        "colab": {
          "base_uri": "https://localhost:8080/",
          "height": 34
        },
        "outputId": "daa0dd33-6d59-4d15-f437-d8ec787c8884"
      },
      "cell_type": "code",
      "source": [
        "tf.logging.info(\"TensorFlow Version: %s\", tf.__version__)\n"
      ],
      "execution_count": 5,
      "outputs": [
        {
          "output_type": "stream",
          "text": [
            "INFO:tensorflow:TensorFlow Version: 1.8.0\n"
          ],
          "name": "stdout"
        }
      ]
    },
    {
      "metadata": {
        "id": "LebxcF4p90OR",
        "colab_type": "code",
        "colab": {}
      },
      "cell_type": "code",
      "source": [
        "!pip install -q magenta"
      ],
      "execution_count": 0,
      "outputs": []
    },
    {
      "metadata": {
        "id": "NkFS0E1zFQuU",
        "colab_type": "code",
        "colab": {}
      },
      "cell_type": "code",
      "source": [
        "# import our command line tools\n",
        "from magenta.models.sketch_rnn.sketch_rnn_train import *\n",
        "from magenta.models.sketch_rnn.model import *\n",
        "from magenta.models.sketch_rnn.utils import *\n",
        "from magenta.models.sketch_rnn.rnn import *"
      ],
      "execution_count": 0,
      "outputs": []
    },
    {
      "metadata": {
        "id": "GBde4xkEFQuX",
        "colab_type": "code",
        "colab": {}
      },
      "cell_type": "code",
      "source": [
        "# little function that displays vector images and saves them to .svg\n",
        "def draw_strokes(data, factor=0.2, svg_filename = '/tmp/sketch_rnn/svg/sample.svg'):\n",
        "  tf.gfile.MakeDirs(os.path.dirname(svg_filename))\n",
        "  min_x, max_x, min_y, max_y = get_bounds(data, factor)\n",
        "  dims = (50 + max_x - min_x, 50 + max_y - min_y)\n",
        "  dwg = svgwrite.Drawing(svg_filename, size=dims)\n",
        "  dwg.add(dwg.rect(insert=(0, 0), size=dims,fill='white'))\n",
        "  lift_pen = 1\n",
        "  abs_x = 25 - min_x \n",
        "  abs_y = 25 - min_y\n",
        "  p = \"M%s,%s \" % (abs_x, abs_y)\n",
        "  command = \"m\"\n",
        "  for i in xrange(len(data)):\n",
        "    if (lift_pen == 1):\n",
        "      command = \"m\"\n",
        "    elif (command != \"l\"):\n",
        "      command = \"l\"\n",
        "    else:\n",
        "      command = \"\"\n",
        "    x = float(data[i,0])/factor\n",
        "    y = float(data[i,1])/factor\n",
        "    lift_pen = data[i, 2]\n",
        "    p += command+str(x)+\",\"+str(y)+\" \"\n",
        "  the_color = \"black\"\n",
        "  stroke_width = 1\n",
        "  dwg.add(dwg.path(p).stroke(the_color,stroke_width).fill(\"none\"))\n",
        "  dwg.save()\n",
        "  display(SVG(dwg.tostring()))\n",
        "\n",
        "# generate a 2D grid of many vector drawings\n",
        "def make_grid_svg(s_list, grid_space=10.0, grid_space_x=16.0):\n",
        "  def get_start_and_end(x):\n",
        "    x = np.array(x)\n",
        "    x = x[:, 0:2]\n",
        "    x_start = x[0]\n",
        "    x_end = x.sum(axis=0)\n",
        "    x = x.cumsum(axis=0)\n",
        "    x_max = x.max(axis=0)\n",
        "    x_min = x.min(axis=0)\n",
        "    center_loc = (x_max+x_min)*0.5\n",
        "    return x_start-center_loc, x_end\n",
        "  x_pos = 0.0\n",
        "  y_pos = 0.0\n",
        "  result = [[x_pos, y_pos, 1]]\n",
        "  for sample in s_list:\n",
        "    s = sample[0]\n",
        "    grid_loc = sample[1]\n",
        "    grid_y = grid_loc[0]*grid_space+grid_space*0.5\n",
        "    grid_x = grid_loc[1]*grid_space_x+grid_space_x*0.5\n",
        "    start_loc, delta_pos = get_start_and_end(s)\n",
        "\n",
        "    loc_x = start_loc[0]\n",
        "    loc_y = start_loc[1]\n",
        "    new_x_pos = grid_x+loc_x\n",
        "    new_y_pos = grid_y+loc_y\n",
        "    result.append([new_x_pos-x_pos, new_y_pos-y_pos, 0])\n",
        "\n",
        "    result += s.tolist()\n",
        "    result[-1][2] = 1\n",
        "    x_pos = new_x_pos+delta_pos[0]\n",
        "    y_pos = new_y_pos+delta_pos[1]\n",
        "  return np.array(result)"
      ],
      "execution_count": 0,
      "outputs": []
    },
    {
      "metadata": {
        "id": "if7-UyxzFQuY",
        "colab_type": "text"
      },
      "cell_type": "markdown",
      "source": [
        "define the path of the model you want to load, and also the path of the dataset"
      ]
    },
    {
      "metadata": {
        "id": "Dipv1EbsFQuZ",
        "colab_type": "code",
        "colab": {}
      },
      "cell_type": "code",
      "source": [
        "data_dir = 'http://github.com/hardmaru/sketch-rnn-datasets/raw/master/aaron_sheep/'\n",
        "models_root_dir = '/tmp/sketch_rnn/models'\n",
        "model_dir = '/tmp/sketch_rnn/models/aaron_sheep/layer_norm'"
      ],
      "execution_count": 0,
      "outputs": []
    },
    {
      "metadata": {
        "id": "eaSqI0fIFQub",
        "colab_type": "code",
        "colab": {
          "base_uri": "https://localhost:8080/",
          "height": 68
        },
        "outputId": "06df45a6-cc86-4f50-802e-25ae185037f7"
      },
      "cell_type": "code",
      "source": [
        "download_pretrained_models(models_root_dir=models_root_dir)"
      ],
      "execution_count": 10,
      "outputs": [
        {
          "output_type": "stream",
          "text": [
            "INFO:tensorflow:/tmp/sketch_rnn/models/sketch_rnn.zip already exists, using cached copy\n",
            "INFO:tensorflow:Unzipping /tmp/sketch_rnn/models/sketch_rnn.zip...\n",
            "INFO:tensorflow:Unzipping complete.\n"
          ],
          "name": "stdout"
        }
      ]
    },
    {
      "metadata": {
        "id": "G4sRuxyn_1aO",
        "colab_type": "code",
        "colab": {}
      },
      "cell_type": "code",
      "source": [
        "def load_env_compatible(data_dir, model_dir):\n",
        "  \"\"\"Loads environment for inference mode, used in jupyter notebook.\"\"\"\n",
        "  # modified https://github.com/tensorflow/magenta/blob/master/magenta/models/sketch_rnn/sketch_rnn_train.py\n",
        "  # to work with depreciated tf.HParams functionality\n",
        "  model_params = sketch_rnn_model.get_default_hparams()\n",
        "  with tf.gfile.Open(os.path.join(model_dir, 'model_config.json'), 'r') as f:\n",
        "    data = json.load(f)\n",
        "  fix_list = ['conditional', 'is_training', 'use_input_dropout', 'use_output_dropout', 'use_recurrent_dropout']\n",
        "  for fix in fix_list:\n",
        "    data[fix] = (data[fix] == 1)\n",
        "  model_params.parse_json(json.dumps(data))\n",
        "  return load_dataset(data_dir, model_params, inference_mode=True)\n",
        "\n",
        "def load_model_compatible(model_dir):\n",
        "  \"\"\"Loads model for inference mode, used in jupyter notebook.\"\"\"\n",
        "  # modified https://github.com/tensorflow/magenta/blob/master/magenta/models/sketch_rnn/sketch_rnn_train.py\n",
        "  # to work with depreciated tf.HParams functionality\n",
        "  model_params = sketch_rnn_model.get_default_hparams()\n",
        "  with tf.gfile.Open(os.path.join(model_dir, 'model_config.json'), 'r') as f:\n",
        "    data = json.load(f)\n",
        "  fix_list = ['conditional', 'is_training', 'use_input_dropout', 'use_output_dropout', 'use_recurrent_dropout']\n",
        "  for fix in fix_list:\n",
        "    data[fix] = (data[fix] == 1)\n",
        "  model_params.parse_json(json.dumps(data))\n",
        "\n",
        "  model_params.batch_size = 1  # only sample one at a time\n",
        "  eval_model_params = sketch_rnn_model.copy_hparams(model_params)\n",
        "  eval_model_params.use_input_dropout = 0\n",
        "  eval_model_params.use_recurrent_dropout = 0\n",
        "  eval_model_params.use_output_dropout = 0\n",
        "  eval_model_params.is_training = 0\n",
        "  sample_model_params = sketch_rnn_model.copy_hparams(eval_model_params)\n",
        "  sample_model_params.max_seq_len = 1  # sample one point at a time\n",
        "  return [model_params, eval_model_params, sample_model_params]"
      ],
      "execution_count": 0,
      "outputs": []
    },
    {
      "metadata": {
        "id": "9m-jSAb3FQuf",
        "colab_type": "code",
        "colab": {
          "base_uri": "https://localhost:8080/",
          "height": 153
        },
        "outputId": "debc045d-d15a-4b30-f747-fa4bcbd069fd"
      },
      "cell_type": "code",
      "source": [
        "[train_set, valid_set, test_set, hps_model, eval_hps_model, sample_hps_model] = load_env_compatible(data_dir, model_dir)"
      ],
      "execution_count": 12,
      "outputs": [
        {
          "output_type": "stream",
          "text": [
            "INFO:tensorflow:Downloading http://github.com/hardmaru/sketch-rnn-datasets/raw/master/aaron_sheep/aaron_sheep.npz\n",
            "INFO:tensorflow:Loaded 7400/300/300 from aaron_sheep.npz\n",
            "INFO:tensorflow:Dataset combined: 8000 (7400/300/300), avg len 125\n",
            "INFO:tensorflow:model_params.max_seq_len 250.\n",
            "total images <= max_seq_len is 7400\n",
            "total images <= max_seq_len is 300\n",
            "total images <= max_seq_len is 300\n",
            "INFO:tensorflow:normalizing_scale_factor 18.5198.\n"
          ],
          "name": "stdout"
        }
      ]
    },
    {
      "metadata": {
        "id": "1pHS8TSgFQui",
        "colab_type": "code",
        "colab": {
          "base_uri": "https://localhost:8080/",
          "height": 479
        },
        "outputId": "50b0e14d-ff0f-43bf-d996-90e9e6a1491e"
      },
      "cell_type": "code",
      "source": [
        "# construct the sketch-rnn model here:\n",
        "reset_graph()\n",
        "model = Model(hps_model)\n",
        "eval_model = Model(eval_hps_model, reuse=True)\n",
        "sample_model = Model(sample_hps_model, reuse=True)"
      ],
      "execution_count": 13,
      "outputs": [
        {
          "output_type": "stream",
          "text": [
            "INFO:tensorflow:Model using gpu.\n",
            "INFO:tensorflow:Input dropout mode = False.\n",
            "INFO:tensorflow:Output dropout mode = False.\n",
            "INFO:tensorflow:Recurrent dropout mode = True.\n",
            "WARNING:tensorflow:From /usr/local/lib/python2.7/dist-packages/magenta/models/sketch_rnn/rnn.py:137: calling reduce_mean (from tensorflow.python.ops.math_ops) with keep_dims is deprecated and will be removed in a future version.\n",
            "Instructions for updating:\n",
            "keep_dims is deprecated, use keepdims instead\n",
            "WARNING:tensorflow:From /usr/local/lib/python2.7/dist-packages/magenta/models/sketch_rnn/model.py:287: calling reduce_sum (from tensorflow.python.ops.math_ops) with keep_dims is deprecated and will be removed in a future version.\n",
            "Instructions for updating:\n",
            "keep_dims is deprecated, use keepdims instead\n",
            "WARNING:tensorflow:From /usr/local/lib/python2.7/dist-packages/magenta/models/sketch_rnn/model.py:297: softmax_cross_entropy_with_logits (from tensorflow.python.ops.nn_ops) is deprecated and will be removed in a future version.\n",
            "Instructions for updating:\n",
            "\n",
            "Future major versions of TensorFlow will allow gradients to flow\n",
            "into the labels input on backprop by default.\n",
            "\n",
            "See @{tf.nn.softmax_cross_entropy_with_logits_v2}.\n",
            "\n",
            "INFO:tensorflow:Model using gpu.\n",
            "INFO:tensorflow:Input dropout mode = 0.\n",
            "INFO:tensorflow:Output dropout mode = 0.\n",
            "INFO:tensorflow:Recurrent dropout mode = 0.\n",
            "INFO:tensorflow:Model using gpu.\n",
            "INFO:tensorflow:Input dropout mode = 0.\n",
            "INFO:tensorflow:Output dropout mode = 0.\n",
            "INFO:tensorflow:Recurrent dropout mode = 0.\n"
          ],
          "name": "stdout"
        }
      ]
    },
    {
      "metadata": {
        "id": "1gxYLPTQFQuk",
        "colab_type": "code",
        "colab": {}
      },
      "cell_type": "code",
      "source": [
        "sess = tf.InteractiveSession()\n",
        "sess.run(tf.global_variables_initializer())"
      ],
      "execution_count": 0,
      "outputs": []
    },
    {
      "metadata": {
        "id": "bVlDyfN_FQum",
        "colab_type": "code",
        "colab": {
          "base_uri": "https://localhost:8080/",
          "height": 51
        },
        "outputId": "fb41ce20-4c7f-4991-e9f6-559ea9b34a31"
      },
      "cell_type": "code",
      "source": [
        "# loads the weights from checkpoint into our model\n",
        "load_checkpoint(sess, model_dir)"
      ],
      "execution_count": 15,
      "outputs": [
        {
          "output_type": "stream",
          "text": [
            "INFO:tensorflow:Loading model /tmp/sketch_rnn/models/aaron_sheep/layer_norm/vector.\n",
            "INFO:tensorflow:Restoring parameters from /tmp/sketch_rnn/models/aaron_sheep/layer_norm/vector\n"
          ],
          "name": "stdout"
        }
      ]
    },
    {
      "metadata": {
        "id": "EOblwpFeFQuq",
        "colab_type": "text"
      },
      "cell_type": "markdown",
      "source": [
        "We define two convenience functions to encode a stroke into a latent vector, and decode from latent vector to stroke."
      ]
    },
    {
      "metadata": {
        "id": "tMFlV487FQur",
        "colab_type": "code",
        "colab": {}
      },
      "cell_type": "code",
      "source": [
        "def encode(input_strokes):\n",
        "  strokes = to_big_strokes(input_strokes).tolist()\n",
        "  strokes.insert(0, [0, 0, 1, 0, 0])\n",
        "  seq_len = [len(input_strokes)]\n",
        "  draw_strokes(to_normal_strokes(np.array(strokes)))\n",
        "  return sess.run(eval_model.batch_z, feed_dict={eval_model.input_data: [strokes], eval_model.sequence_lengths: seq_len})[0]"
      ],
      "execution_count": 0,
      "outputs": []
    },
    {
      "metadata": {
        "id": "1D5CV7ZlFQut",
        "colab_type": "code",
        "colab": {}
      },
      "cell_type": "code",
      "source": [
        "def decode(z_input=None, draw_mode=True, temperature=0.1, factor=0.2):\n",
        "  z = None\n",
        "  if z_input is not None:\n",
        "    z = [z_input]\n",
        "  sample_strokes, m = sample(sess, sample_model, seq_len=eval_model.hps.max_seq_len, temperature=temperature, z=z)\n",
        "  strokes = to_normal_strokes(sample_strokes)\n",
        "  if draw_mode:\n",
        "    draw_strokes(strokes, factor)\n",
        "  return strokes"
      ],
      "execution_count": 0,
      "outputs": []
    },
    {
      "metadata": {
        "id": "fUOAvRQtFQuw",
        "colab_type": "code",
        "colab": {
          "base_uri": "https://localhost:8080/",
          "height": 123
        },
        "outputId": "c8e9a1c3-28db-4263-ac67-62ffece1e1e0"
      },
      "cell_type": "code",
      "source": [
        "# get a sample drawing from the test set, and render it to .svg\n",
        "stroke = test_set.random_sample()\n",
        "draw_strokes(stroke)"
      ],
      "execution_count": 32,
      "outputs": [
        {
          "output_type": "display_data",
          "data": {
            "text/plain": [
              "<IPython.core.display.SVG object>"
            ],
            "image/svg+xml": "<svg baseProfile=\"full\" height=\"102.106330395\" version=\"1.1\" width=\"134.774027355\" xmlns=\"http://www.w3.org/2000/svg\" xmlns:ev=\"http://www.w3.org/2001/xml-events\" xmlns:xlink=\"http://www.w3.org/1999/xlink\"><defs/><rect fill=\"white\" height=\"102.106330395\" width=\"134.774027355\" x=\"0\" y=\"0\"/><path d=\"M46.3284978271,44.1686502844 m-0.269980989397,-10.2592778206 l1.07992395759,-4.31969583035 3.5097527504,-1.61988586187 l5.66960036755,0.0 2.42982879281,1.61988586187 l0.269980989397,0.809942930937 2.69980967045,-1.61988586187 l0.539961978793,-1.61988586187 1.07992395759,-0.539961978793 l10.7992386818,-1.61988586187 8.09942960739,0.0 l2.15984791517,0.809942930937 1.07992395759,3.23977172375 l0.809942930937,4.58967655897 9.98929619789,-2.42982879281 l6.20956242085,-0.269980989397 1.07992395759,6.74952447414 l5.9395813942,0.539961978793 0.269980989397,8.63939166069 l-1.07992395759,4.58967655897 -1.07992395759,1.34990483522 l-3.77973377705,0.269980989397 -1.34990483522,4.31969583035 l-2.9697906971,5.9395813942 -1.34990483522,1.34990483522 l-4.85965758562,-0.539961978793 -1.07992395759,-4.0497148037 l-3.77973377705,4.58967655897 -17.8187441826,3.23977172375 l-1.61988586187,-0.269980989397 -2.15984791517,-2.15984791517 l-0.809942930937,-1.34990483522 0.0,-1.07992395759 l-7.28948652744,0.269980989397 -6.47954344749,1.34990483522 l-2.15984791517,-1.61988586187 -0.539961978793,-1.61988586187 l-0.539961978793,-5.3996193409 -7.55946755409,-0.269980989397 l1.34990483522,-7.82944858074 2.42982879281,-2.69980967045 m-7.55946755409,-12.1491444111 l0.809942930937,-2.9697906971 0.269980989397,0.269980989397 m2.69980967045,3.77973377705 l1.88986688852,-2.9697906971 m-6.74952447414,3.23977172375 l-4.85965758562,0.269980989397 -5.3996193409,5.12963891029 l-1.34990483522,2.69980967045 0.0,2.9697906971 l2.15984791517,3.23977172375 2.69980967045,0.0 l4.0497148037,-0.809942930937 m-4.85965758562,2.15984791517 l0.269980989397,0.539961978793 7.55946755409,1.07992395759 l3.5097527504,0.0 0.539961978793,-0.269980989397 l0.0,-0.539961978793 m-7.01950550079,-11.3392007351 l1.07992395759,0.0 m23.2183647156,24.0283083916 l-0.269980989397,3.23977172375 -2.69980967045,7.55946755409 l1.34990483522,-1.07992395759 m7.55946755409,-7.01950550079 l-0.269980989397,1.88986688852 -2.15984791517,4.31969583035 l-0.269980989397,1.61988586187 m19.1686499119,-7.55946755409 l1.07992395759,5.9395813942 0.0,4.58967655897 m3.23977172375,-12.1491444111 l2.15984791517,5.3996193409 3.5097527504,5.3996193409 \" fill=\"none\" stroke=\"black\" stroke-width=\"1\"/></svg>"
          },
          "metadata": {
            "tags": []
          }
        }
      ]
    },
    {
      "metadata": {
        "id": "j114Re2JFQuz",
        "colab_type": "text"
      },
      "cell_type": "markdown",
      "source": [
        "Let's try to encode the sample stroke into latent vector $z$"
      ]
    },
    {
      "metadata": {
        "id": "DBRjPBo-FQu0",
        "colab_type": "code",
        "colab": {
          "base_uri": "https://localhost:8080/",
          "height": 123
        },
        "outputId": "e089dc78-88e3-44c6-ed7e-f1844471f47f"
      },
      "cell_type": "code",
      "source": [
        "z = encode(stroke)"
      ],
      "execution_count": 33,
      "outputs": [
        {
          "output_type": "display_data",
          "data": {
            "text/plain": [
              "<IPython.core.display.SVG object>"
            ],
            "image/svg+xml": "<svg baseProfile=\"full\" height=\"102.106330395\" version=\"1.1\" width=\"134.774027355\" xmlns=\"http://www.w3.org/2000/svg\" xmlns:ev=\"http://www.w3.org/2001/xml-events\" xmlns:xlink=\"http://www.w3.org/1999/xlink\"><defs/><rect fill=\"white\" height=\"102.106330395\" width=\"134.774027355\" x=\"0\" y=\"0\"/><path d=\"M46.3284978271,44.1686502844 m0.0,0.0 l-0.269980989397,-10.2592778206 1.07992395759,-4.31969583035 l3.5097527504,-1.61988586187 5.66960036755,0.0 l2.42982879281,1.61988586187 0.269980989397,0.809942930937 l2.69980967045,-1.61988586187 0.539961978793,-1.61988586187 l1.07992395759,-0.539961978793 10.7992386818,-1.61988586187 l8.09942960739,0.0 2.15984791517,0.809942930937 l1.07992395759,3.23977172375 0.809942930937,4.58967655897 l9.98929619789,-2.42982879281 6.20956242085,-0.269980989397 l1.07992395759,6.74952447414 5.9395813942,0.539961978793 l0.269980989397,8.63939166069 -1.07992395759,4.58967655897 l-1.07992395759,1.34990483522 -3.77973377705,0.269980989397 l-1.34990483522,4.31969583035 -2.9697906971,5.9395813942 l-1.34990483522,1.34990483522 -4.85965758562,-0.539961978793 l-1.07992395759,-4.0497148037 -3.77973377705,4.58967655897 l-17.8187441826,3.23977172375 -1.61988586187,-0.269980989397 l-2.15984791517,-2.15984791517 -0.809942930937,-1.34990483522 l0.0,-1.07992395759 -7.28948652744,0.269980989397 l-6.47954344749,1.34990483522 -2.15984791517,-1.61988586187 l-0.539961978793,-1.61988586187 -0.539961978793,-5.3996193409 l-7.55946755409,-0.269980989397 1.34990483522,-7.82944858074 l2.42982879281,-2.69980967045 m-7.55946755409,-12.1491444111 l0.809942930937,-2.9697906971 0.269980989397,0.269980989397 m2.69980967045,3.77973377705 l1.88986688852,-2.9697906971 m-6.74952447414,3.23977172375 l-4.85965758562,0.269980989397 -5.3996193409,5.12963891029 l-1.34990483522,2.69980967045 0.0,2.9697906971 l2.15984791517,3.23977172375 2.69980967045,0.0 l4.0497148037,-0.809942930937 m-4.85965758562,2.15984791517 l0.269980989397,0.539961978793 7.55946755409,1.07992395759 l3.5097527504,0.0 0.539961978793,-0.269980989397 l0.0,-0.539961978793 m-7.01950550079,-11.3392007351 l1.07992395759,0.0 m23.2183647156,24.0283083916 l-0.269980989397,3.23977172375 -2.69980967045,7.55946755409 l1.34990483522,-1.07992395759 m7.55946755409,-7.01950550079 l-0.269980989397,1.88986688852 -2.15984791517,4.31969583035 l-0.269980989397,1.61988586187 m19.1686499119,-7.55946755409 l1.07992395759,5.9395813942 0.0,4.58967655897 m3.23977172375,-12.1491444111 l2.15984791517,5.3996193409 3.5097527504,5.3996193409 \" fill=\"none\" stroke=\"black\" stroke-width=\"1\"/></svg>"
          },
          "metadata": {
            "tags": []
          }
        }
      ]
    },
    {
      "metadata": {
        "id": "-37v6eZLFQu5",
        "colab_type": "code",
        "colab": {
          "base_uri": "https://localhost:8080/",
          "height": 124
        },
        "outputId": "5ddac2f2-5b3b-4cd7-b81f-7a8fa374aa6b"
      },
      "cell_type": "code",
      "source": [
        "_ = decode(z, temperature=0.8) # convert z back to drawing at temperature of 0.8"
      ],
      "execution_count": 34,
      "outputs": [
        {
          "output_type": "display_data",
          "data": {
            "text/plain": [
              "<IPython.core.display.SVG object>"
            ],
            "image/svg+xml": "<svg baseProfile=\"full\" height=\"103.441761217\" version=\"1.1\" width=\"122.975787192\" xmlns=\"http://www.w3.org/2000/svg\" xmlns:ev=\"http://www.w3.org/2001/xml-events\" xmlns:xlink=\"http://www.w3.org/1999/xlink\"><defs/><rect fill=\"white\" height=\"103.441761217\" width=\"122.975787192\" x=\"0\" y=\"0\"/><path d=\"M38.2935093547,43.1177271903 m-0.340951383114,-9.55003380775 l2.20347970724,-3.26370030642 1.45378634334,-0.861101225019 l5.35445392132,-1.95433869958 2.85991221666,-0.426612757146 l3.23420614004,0.61924610287 1.76099523902,1.17085948586 l-0.000224313243962,2.8007131815 1.62095278502,-1.93868651986 l7.70326256752,-3.35318088531 5.08853077888,-1.3608917594 l6.57757937908,0.000288826431643 6.3368922472,1.7680811882 l1.8955771625,5.07947385311 8.86431097984,3.68271976709 l2.44708895683,1.14726290107 1.33326768875,2.15126395226 l1.2891574204,4.82484698296 -2.93176651001,0.191802792251 l-1.01530641317,0.369459055364 -3.72778713703,0.490534305573 l1.92548766732,8.07218194008 -0.636532381177,3.88820767403 l-10.0819528103,3.1732109189 -12.5187420845,-2.19246834517 l-7.21166193485,-3.72750967741 -3.59191596508,-1.58369138837 l-1.61233827472,3.50915759802 -1.63391545415,1.96250066161 l-8.23710858822,2.57059127092 -3.92850697041,-0.0894535146654 l-5.39045572281,-3.61232995987 -1.41789451241,-3.1729221344 l0.000157722988661,-0.189666822553 0.767163261771,-0.44281270355 l0.000143757897604,-1.46493420005 m-11.7328548431,-9.84380543232 l4.56918567419,0.274272467941 1.39962747693,6.07070614933e-05 l-0.000191727031051,-0.00354142626747 0.118541941047,0.397051982582 l5.49370406588e-05,1.10314272344 m-3.87571752071,-0.000533753554919 l-0.000263419005933,0.872648358345 2.12115556002,-0.000199357964448 l-1.79571181536,0.699473321438 m-0.64867913723,-2.49047070742 l-0.153107512742,-0.0678024441004 0.593399144709,-1.15580543876 l0.782524943352,-0.21773930639 0.209943745285,0.896871387959 m4.61298912764,-1.09024040401 l0.000133186440507,0.0945561006665 -1.10620357096,0.290551614016 l-1.61601245403,-0.89173167944 1.09008438885,0.000581867607252 l-0.000276200280496,1.61469995975 -0.341594591737,-3.26650621219e-06 m10.2935230732,16.7232847214 l-2.47041195631,7.12780237198 -6.05746209621,8.1383305788 l-2.34212562442,2.54901111126 m18.4888255596,-13.7993752956 l0.278686545789,12.296475172 0.774371773005,2.02842161059 m18.0001282692,-15.3073883057 l2.6828032732,13.0685150623 1.7698790133,3.72885197401 m5.57813405991,-17.1058559418 l5.43337762356,10.6714761257 1.84081166983,4.72313702106 m-20.4520964622,-33.4079837799 l1.07226662338,-0.0129359017592 4.18061882257,-1.2942481041 l8.89779388905,0.31430978328 5.08294522762,-6.81180199535e-05 l0.693141296506,-0.624739639461 \" fill=\"none\" stroke=\"black\" stroke-width=\"1\"/></svg>"
          },
          "metadata": {
            "tags": []
          }
        }
      ]
    },
    {
      "metadata": {
        "id": "M5ft6IEBFQu9",
        "colab_type": "text"
      },
      "cell_type": "markdown",
      "source": [
        "Create generated grid at various temperatures from 0.1 to 1.0"
      ]
    },
    {
      "metadata": {
        "id": "BuhaZI0aFQu9",
        "colab_type": "code",
        "colab": {
          "base_uri": "https://localhost:8080/",
          "height": 130
        },
        "outputId": "d87d4b00-30c2-4302-bec8-46566ef26922"
      },
      "cell_type": "code",
      "source": [
        "stroke_list = []\n",
        "for i in range(10):\n",
        "  stroke_list.append([decode(z, draw_mode=False, temperature=0.1*i+0.1), [0, i]])\n",
        "stroke_grid = make_grid_svg(stroke_list)\n",
        "draw_strokes(stroke_grid)"
      ],
      "execution_count": 35,
      "outputs": [
        {
          "output_type": "display_data",
          "data": {
            "text/plain": [
              "<IPython.core.display.SVG object>"
            ],
            "image/svg+xml": "<svg baseProfile=\"full\" height=\"109.167141361\" version=\"1.1\" width=\"855.145939683\" xmlns=\"http://www.w3.org/2000/svg\" xmlns:ev=\"http://www.w3.org/2001/xml-events\" xmlns:xlink=\"http://www.w3.org/1999/xlink\"><defs/><rect fill=\"white\" height=\"109.167141361\" width=\"855.145939683\" x=\"0\" y=\"0\"/><path d=\"M29.7053295095,39.4360223625 m0.0,0.0 m16.1931095365,9.11189330139 l-0.430677421391,-9.75838422775 1.96302816272,-4.08743828535 l3.28724741936,-2.16639906168 3.46784085035,-0.56769374758 l2.76729106903,1.09958194196 1.68719366193,2.68000364304 l1.63419246674,-2.90343075991 3.54131817818,-2.79347509146 l4.37278091908,-1.52358442545 4.2433527112,0.000187904770428 l3.07494580746,2.17523321509 2.25902572274,3.82675617933 l2.97709047794,-2.64247715473 5.32538235188,-2.29709714651 l8.23962509632,0.671901479363 3.48539531231,2.96066790819 l2.11198493838,4.53378260136 6.12883150578,-0.239270906895 l4.12750542164,1.80258080363 2.66514718533,3.77114355564 l0.722363293171,5.09737730026 -2.24873661995,4.05797272921 l-4.71694976091,2.99289524555 -9.25603747368,1.72814279795 l-2.41340532899,3.47479909658 -4.16155904531,2.58024483919 l-10.2249443531,1.15622729063 -5.72356820107,-1.33691340685 l-4.00688707829,-2.53945022821 -2.78430819511,-3.21447014809 l-2.27061867714,2.31787532568 -7.91600525379,2.31087744236 l-7.8881829977,-1.77312031388 -3.31067323685,-2.93344199657 l-1.52584299445,-3.78435075283 0.185479801148,-3.35075974464 l1.46444693208,-2.46967077255 2.55124717951,-1.61379426718 m-5.40680587292,-5.55568099022 l-6.60821020603,-2.69901752472 -6.95395886898,0.32160308212 l-3.53062003851,2.52334415913 -1.80316388607,4.37100768089 l2.35760444411e-05,4.01239335537 1.57525971532,2.3370847106 l5.67566931248,2.90025055408 6.54041528702,1.03476859629 l4.7045519948,0.00019018583771 2.14112102985,-1.06347158551 m-12.1410906315,-10.5323970318 l-0.224175248295,0.0875008665025 0.185436401516,-0.301856193691 l-0.0400889152661,0.125651611015 -0.253872592002,0.0177170464303 l-0.0882873311639,-0.145861748606 0.0290060951374,-0.0630185799673 l-0.166863184422,-0.106141660362 -0.00968348758761,0.00989826628938 l0.0350572355092,-0.188198629767 -0.0911569409072,0.108968270943 m-3.0873477459,4.98392015696 l2.20548167825,-0.0979575980455 0.91290794313,-0.692011713982 m17.9461431503,12.7676832676 l-2.38711595535,5.76360523701 -2.44621053338,4.31064426899 l-4.84719514847,4.99649733305 m16.0634601116,-11.627317667 l-0.629824101925,8.23695957661 -1.23707152903,4.17214393616 m26.5593695641,-11.6272139549 l0.289721526206,9.08083200455 -0.583063103259,6.14097833633 m7.45128631592,-14.9871885777 l3.75367999077,7.38326430321 4.81143891811,6.71582937241 l0.883001759648,2.32183337212 m31.010898299,-32.3512353856 l-0.471757948399,-9.5985096693 1.98229521513,-4.05913829803 l3.26325803995,-2.06589698792 3.85729581118,-0.145231904462 l1.99283435941,1.75997197628 0.977974832058,3.34068357944 l1.92226082087,-3.42878192663 4.52348262072,-3.61680537462 l6.52867019176,-1.65425866842 4.17658120394,0.851657316089 l2.30817317963,1.84400990605 2.09160163999,3.51588517427 l2.69697219133,-2.58552134037 5.47722935677,-2.41247028112 l8.2284206152,0.566375441849 3.46826195717,2.68737256527 l1.99111491442,3.86673629284 -9.03020645637e-05,2.50655859709 l-1.55643343925,3.07951658964 5.6440538168,1.20588317513 l3.75496536493,3.39067161083 1.30724176764,4.78439956903 l-1.86737760901,4.5695745945 -4.68806833029,3.67109835148 l-9.52748179436,1.7185395956 -5.20434558392,-0.727175474167 l-3.8992229104,-2.15029522777 -2.91161775589,-2.77409881353 l-1.32376804948,2.74050503969 -2.3773650825,2.26134732366 l-9.42554533482,1.88578858972 -5.29440045357,-1.63754597306 l-3.33819210529,-2.9383829236 -1.08657792211,-2.13670343161 l-1.57552480698,1.80760800838 -7.46881604195,1.37149468064 l-4.29556339979,-1.35393440723 -2.60499209166,-2.76282548904 l-0.921285301447,-2.31161773205 0.0198789453134,-1.71568885446 l1.62683829665,-2.2991579771 3.38873207569,-1.70867845416 l0.312754884362,0.000350284499291 m-6.6208678484,-6.29810035229 l-7.86456823349,-2.29480937123 -6.72587752342,0.752197727561 l-3.3692163229,2.72742033005 -1.90077766776,4.64515239 l-0.000188241265278,3.78650575876 1.90426126122,2.23866686225 l6.42451941967,2.17145487666 8.07768762112,0.000252777226706 l4.69141453505,-1.81276038289 m-11.0780775547,-8.70444953442 l0.290280468762,3.75543186237e-05 0.277142506093,-0.542702302337 l-0.132997604087,0.0127849774435 -0.0901312194765,0.118723167107 l-0.22159345448,-0.254820846021 -0.107876397669,-0.00172132728039 l-0.000116507480925,-0.199968628585 m-1.94287642837,3.35573196411 l1.05388350785,-0.383235290647 0.36980021745,-0.715707167983 m18.8099348545,15.8433330059 l-2.00371310115,5.73145389557 -5.20450651646,8.83411228657 l-2.52917796373,2.62366056442 m15.2185952663,-14.2415761948 l0.263553671539,8.32018196583 1.19921810925,5.70334434509 m23.9159035683,-14.5713913441 l-0.391059070826,8.16834509373 -1.6826787591,7.8336763382 m7.47723996639,-14.9156820774 l2.33888477087,3.52017700672 5.94453394413,8.40073525906 l2.28665396571,2.150529176 m30.2722003336,-30.941106353 l-0.429322719574,-9.86344218254 1.86670154333,-3.85920852423 l4.67794924974,-2.76743620634 2.60059028864,-0.767783373594 l1.77699327469,0.000100128172562 2.15181037784,2.05671221018 l1.71122923493,3.84761124849 2.58289307356,-3.24549466372 l4.74297910929,-2.93430685997 3.93370717764,-1.55510112643 l7.43154704571,1.06597900391 2.87277072668,1.9090372324 l1.83888077736,2.55464345217 2.66873389482,-1.92060723901 l9.12802219391,-1.8232730031 8.41836750507,7.09773361683 l2.5561851263,1.04827724397 2.20624238253,2.88991242647 l0.361280888319,7.5771433115 -2.08258718252,3.62755417824 l-5.67887425423,5.80037951469 -3.0460703373,1.47672191262 l-4.68357682228,0.616565309465 -4.7820097208,-1.10551983118 l-3.80455046892,-2.40262851119 -3.79599690437,4.31383252144 l-5.16960680485,2.21303671598 -6.34148240089,0.559549555182 l-7.4850666523,-3.29007744789 -2.94625043869,-3.00633817911 l-5.05474030972,2.86687970161 -10.6347501278,-5.28418838978 l-2.44520634413,-3.5239520669 -0.399174056947,-3.93088549376 l0.683937445283,-1.43173933029 1.98166564107,-0.955231413245 m-3.50511819124,-4.11453127861 l-4.61739987135,-4.80893373489 -3.7542745471,-2.41229221225 l-6.78713321686,0.0530759291723 -2.26593613625,1.21248133481 l-1.41442075372,3.48073810339 5.40689643458e-05,2.91081339121 l1.20368756354,2.27373152971 4.1640239954,3.35599333048 l5.9450173378,2.29178369045 4.70469087362,0.116337379441 l1.99974805117,-1.10054939985 m-10.2126741409,-9.03722703457 l-0.320631787181,-0.14089490287 0.0239394186065,-0.0636716419831 l0.0574045348912,0.13569646515 -0.194818377495,-0.13321925886 l-7.77184413892e-05,-0.152882933617 -0.230941455811,-0.108128720894 l0.359665043652,0.00486229924718 -0.344195216894,0.112862028182 l-0.178292300552,-0.0468987924978 m-1.72953009605,3.94648939371 l1.43376201391,0.000170116618392 0.929427072406,-1.31317466497 m22.0099925995,18.1913244724 l-2.94611304998,5.82427203655 -2.92225688696,4.28550988436 l-4.69945967197,3.78827542067 m16.2304925919,-11.3976788521 l-2.18705117702,7.99764752388 -3.05158793926,6.53221428394 m27.2459983826,-15.396682024 l-1.15734368563,8.75058114529 -1.6839055717,7.57955908775 m10.6294894218,-15.5793249607 l3.83798778057,7.69806087017 4.60035949945,5.95936954021 l1.90530508757,1.60002455115 m-39.4531416893,-32.4044895172 l0.567835941911,0.797437354922 1.80008113384,0.422277636826 l3.50074797869,0.61873909086 m54.9318855148,3.55005994751 l-0.48986043781,-9.57853019238 1.78717896342,-4.24832910299 l3.2891780138,-2.2358044982 3.37802112103,-0.470596700907 l2.87303686142,1.43100067973 1.96168750525,2.97469973564 l1.74150958657,-2.8949457407 3.18200170994,-2.34849274158 l6.49962544441,-1.21445573866 4.63034331799,0.934136658907 l3.15717309713,2.70305991173 0.269920472056,2.53297388554 l3.44716846943,-2.9019588232 17.1003448963,-4.31268543005 l2.73247808218,3.32362860441 1.05512961745,3.32411706448 l2.69266605377,-1.77076146007 5.07205069065,-0.772738009691 l5.82156956196,1.37779146433 2.32634663582,3.35078954697 l0.527161099017,1.97474464774 -0.510031506419,4.485257864 l-2.65798091888,4.10455971956 -5.18090069294,2.36131682992 l-0.227703489363,5.5181735754 -2.39102452993,3.06481450796 l-4.64713722467,1.87229216099 -5.36838233471,0.626867264509 l-11.6902458668,-0.833593383431 -5.91376543045,-2.13349893689 l-1.28816008568,-1.10326953232 -13.8059389591,0.454843901098 l-4.66159313917,-1.80071741343 -2.69159942865,-2.72212594748 l-0.767288580537,-1.48467808962 -4.65164363384,-2.59849727154 l-3.00829797983,-2.75310128927 -1.6424100101,-2.78798878193 l-0.378072522581,-3.25473695993 1.29744946957,-2.49559491873 m-1.88684985042,-3.52282494307 l-4.5618930459,-3.22746902704 -6.80707752705,-0.38351457566 l-3.79411190748,1.52517989278 -3.34720432758,3.81195306778 l-1.15920126438,4.300583601 0.276818666607,3.3979293704 l1.39839842916,1.93498939276 2.26335704327,1.54631868005 l10.1131057739,1.00593619049 4.31369274855,-0.943786874413 l3.85398536921,-2.15539693832 m-15.1021325588,-6.09337627888 l1.01752489805,9.82513029157e-05 -0.000383662591048,0.709421932697 l-0.11881314218,-0.451657138765 -0.60870565474,-0.134916938841 l0.184526927769,0.413872264326 0.138537213206,-0.594984181225 m0.436792038381,1.68086320162 l1.28519743681,0.000133594849103 m-3.08144599199,1.21160402894 l1.38787016273,0.534560643137 2.05729797482,-0.488392114639 l0.80141633749,-0.911850184202 m21.954061985,16.3411569595 l-0.226282309741,2.15760529041 -3.75251799822,9.62242126465 l-1.7896746099,2.88932561874 m13.7406289577,-12.1961665154 l0.000464542681584,5.89408755302 -0.991975367069,5.24748027325 m28.4839510918,-11.1843681335 l1.90370321274,9.37289535999 -0.274303276092,4.30730521679 m8.02275121212,-15.2201581001 l3.79750609398,8.4467458725 1.12933702767,4.56926256418 l-0.285139698535,1.45033583045 m27.4062584813,-26.1167650057 l-0.454838015139,-9.73907291889 2.30668500066,-4.3891620636 l2.56754010916,-1.57185256481 3.9445105195,0.000122030214698 l2.29391232133,1.53134897351 1.78623959422,3.30369800329 l1.82238548994,-3.79033952951 3.736333251,-4.07208114862 l5.91363370419,-1.48287534714 3.19631069899,0.283777862787 l2.9532533884,2.08331301808 3.12458515167,4.59034413099 l8.44296693802,-7.15086042881 3.27151119709,-1.25472322106 l5.26185333729,0.284343156964 3.79477381706,2.29219302535 l3.61927807331,4.54651981592 1.40730187297,5.53381681442 l2.95377224684,8.59035849571 -0.191028770059,4.07199174166 l-2.05809891224,3.41587394476 -2.86975681782,2.62850314379 l-10.8973348141,5.04841983318 -4.90793198347,0.559078790247 l-3.43247175217,-1.62186741829 -2.40276575089,-3.50730627775 l-1.03595301509,2.61736810207 -2.6582378149,2.59596079588 l-9.4685781002,3.70551854372 -4.81921464205,-0.000266182360065 l-5.04220306873,-2.64087080956 -3.1734469533,-3.40265065432 l-0.862579569221,-3.86472672224 -1.78074523807,2.54803061485 l-2.15568825603,1.40509963036 -6.05139553547,-0.317780524492 l-3.02028119564,-1.98056071997 -1.09587699175,-1.36328965425 l0.000193742998817,-4.83987778425 1.6121506691,-5.29859542847 m-5.85002064705,-6.08105480671 l-2.76794373989,-5.1805305481 -1.54289513826,-1.48854225874 l-5.49764037132,-1.46356374025 -4.46446627378,0.635201781988 l-2.83785283566,3.06024223566 -2.27246269584,6.35646879673 l1.91411182284,6.72103404999 4.37161654234,3.82076978683 l3.09881240129,1.15671753883 5.91010928154,-0.000125398810269 l5.00411748886,-2.287119627 2.84462571144,-3.88782352209 m-16.5699839592,-10.493093729 l-0.889905020595,0.000283394147118 -0.000188480989891,1.73678919673 l1.35370120406,-0.362220257521 0.0570877129212,-0.994410589337 l-0.491695404053,0.000104946739157 -0.404127053916,0.251065064222 m-0.171822179109,2.57775008678 l0.580011345446,0.0473825633526 m-2.87008851767,2.29768812656 l1.89059868455,-3.27929285504e-06 2.76800483465,-1.87725901604 l0.107436636463,1.24054163694 -1.39649137855,1.45400181413 l-2.64970570803,-4.58323029306e-05 m17.2863280773,14.5946407318 l-3.00492465496,7.59749650955 -4.69500422478,8.55375885963 m13.6411249638,-10.6359517574 l0.521344803274,8.08247327805 2.50229328871,5.35393536091 m27.0504665375,-10.9274339676 l0.0641794968396,5.28773963451 1.19380742311,4.86923992634 m6.06138586998,-13.3782303333 l4.36937302351,5.32555758953 4.36501771212,3.25743317604 l3.49452465773,1.20250172913 m25.4438747128,-31.8448295599 l-0.489141047001,-9.85245168209 0.762592107058,-2.63979524374 l5.11623978615,-3.87088954449 2.54338413477,0.27687812224 l3.01392406225,3.98113071918 -0.163868609816,0.483806841075 l2.64729976654,-3.59498798847 6.95061087608,-4.16856169701 l4.01550590992,1.61011070013 1.99674367905,2.0859348774 l6.87150835991,3.34803789854 0.82279548049,2.81306147575 l0.000216353128053,0.0452685495839 3.67506206036,-2.62883514166 l5.92781841755,-1.39890834689 2.19686567783,0.268698018044 l3.11451673508,2.77020424604 0.503601953387,8.33617091179 l7.19531834126,0.497844554484 2.26009428501,5.30613601208 l-2.27486148477,7.01896846294 -4.91282314062,7.865254879 l-4.02932047844,2.20057010651 -9.94852781296,-2.4296143651 l-0.897577032447,-0.598006956279 -1.46222919226,-3.07208836079 l-1.76875904202,1.94809347391 -7.28569328785,0.572699271142 l-8.0955862999,-1.18293948472 -3.77315431833,-2.29523777962 l-1.97089359164,-3.23508381844 -3.22393000126,2.35150769353 l-4.69572484493,0.283130053431 -8.15008401871,-2.80698150396 l-2.068785429,-3.80637377501 -1.48794770241,-6.29917621613 l8.90012870514e-05,-2.93421804905 0.712187290192,-1.15675993264 m3.11688542366,-6.90318703651 l-3.56737881899,0.954351648688 -4.86584216356,2.59918779135 l-1.29632338881,1.3245357573 -1.12194425128e-05,4.02501434088 l0.972676053643,1.67482659221 4.32250201702,1.85683399439 l3.61527770758,0.000325609507854 4.40783917904,-1.15955777466 m-8.03031742573,-6.5970659256 l-2.75488196166e-05,-0.490940958261 0.554442182183,-0.23581456393 l1.93079203367,0.0790815707296 m-3.39804470539,3.68757158518 l1.68028742075,-0.243742931634 1.04389257729,-1.54198765755 m-3.52268218994,1.04998029768 l6.69495602779e-05,-0.233872774988 0.286163315177,-0.416613928974 l-0.233791731298,-0.278580840677 m13.2277500629,20.3137683868 l-0.000295072895824,3.43473404646 -3.21007341146,11.0442650318 l2.99159109592,9.74656164646 m9.43561851978,-18.1159424782 l1.74822226167,8.57873976231 1.2021780014,2.35732868314 l-5.49566129848e-05,2.66986399889 m19.0136671066,-10.6541204453 l1.60271629691,4.53188747168 3.09156745672,7.52981603146 m-0.517722554505,-11.7312347889 l3.56935948133,8.5483109951 1.70664608479,2.39605545998 m31.2870362735,-28.6725089415 l-0.644734799862,-9.46924209595 2.05526173115,-3.76361966133 l3.58938992023,-2.03613981605 2.7306753397,0.284199547023 l1.63311421871,2.14684784412 2.99265176058,-3.74682366848 l1.52436718345,-0.890767797828 3.34706634283,-0.000134083611556 l9.8451924324,2.18920722604 4.88801568747,-2.71915793419 l3.66812855005,-1.10295437276 6.29782795906,0.304605737329 l1.40156939626,0.831579267979 2.58525073528,2.689627707 l1.29332020879,3.7857195735 8.85624408722,-0.400547683239 l3.87933284044,4.22107487917 -0.343322455883,7.11046695709 l-2.12495684624,2.97910630703 -6.1724615097,4.12825971842 l0.159830283374,0.654195919633 -3.2418641448,5.07926940918 l-7.15261399746,4.48811352253 -11.4381694794,-2.26287022233 l-3.03805440664,-1.77404075861 -8.79857003689,-3.11792880297 l-3.79433661699,-2.42015689611 -3.48651021719,1.75797864795 l-6.59069240093,-0.963940098882 -3.28595429659,-2.84691691399 l-1.71615451574,-4.05972838402 0.291848871857,-3.57777833939 l-1.92832648754,-5.34260094166 0.274399723858,-5.64782559872 l1.64613753557,-0.880876556039 0.547341480851,0.000378195763915 m0.247450470924,1.87103107572 l0.697099938989,-1.50772854686 -1.82973518968,-2.2924490273 l-3.12434583902,-1.46354347467 -2.75063842535,-0.591482184827 l-6.91269040108,3.90040963888 -1.56233027577,3.60497295856 l0.132569810376,4.71817165613 1.22499622405,2.75921285152 l1.60685196519,1.37238800526 6.51544690132,0.705862492323 l2.79010742903,0.000284586058115 m-4.22854483128,-9.70022916794 l-0.205665100366,0.19364213571 0.473520457745,-0.41749637574 l-0.210551060736,0.450825989246 0.101340366527,-0.394251905382 m2.02024206519,-1.47184088826 l-0.297954808921,-0.337220206857 1.40057966113,0.277317613363 l-0.000244672737608,-0.0222647935152 -6.53165852782e-05,-0.790453404188 l-0.625278055668,0.000236964988289 m8.98828327656,22.4428200722 l0.000302138669213,6.42139971256 -1.24923430383,5.07305622101 l-1.55302479863,3.49881589413 m13.632004261,-11.8996930122 l0.000334507603839,4.8226749897 1.36350914836,5.69317042828 m28.0454182625,-11.6929614544 l2.24011942744,8.82776975632 0.000443901590188,4.12390679121 m7.0032542944,-16.085422039 l2.71901577711,4.83165174723 5.15559613705,6.89488828182 l8.00705730915,6.38741791248 m-46.1294984818,-33.6705040932 l3.11693638563,1.85423120856 6.82341992855,1.45535498857 l5.95037937164,1.51745706797 9.5558398962,1.53811305761 m34.3533914043,0.384086991473 l-0.447976067662,-10.0155353546 0.302049573511,-3.28031301498 l2.81005531549,-2.67158865929 1.76405265927,-0.609240680933 l5.34733176231,-0.000585454254178 7.18241035938,1.16196632385 l1.16899743676,1.26294896007 0.272209402174,2.96845108271 l0.645215287805,-0.0601457757875 3.84906411171,-4.65139865875 l8.89704763889,-1.98289513588 2.58823335171,3.5287925601 l0.82173153758,8.19590449333 5.11237502098,-3.95114451647 l3.26503932476,1.37153506279 1.47820100188,3.16042661667 l1.31176233292,-1.75865605474 1.73324599862,-1.03398710489 l10.3559732437,2.03609824181 4.72182959318,6.93067789078 l-1.88449800014,5.41574776173 -1.63882702589,2.18682795763 l-2.34659343958,1.72820612788 2.27063208818,8.3692920208 l-13.7192857265,0.846040248871 -8.96025180817,-2.07000166178 l-1.13527141511,-1.79227411747 -7.73133814335,6.22624158859 l-6.60857498646,-0.692061781883 -4.40116554499,-2.65994310379 l-15.0404882431,-3.06047171354 -2.11172059178,-2.10614338517 l-0.193654168397,-5.30474364758 -4.61485147476,0.808883979917 l-4.26959216595,-5.68720757961 -0.728444606066,-4.08395409584 l0.00027196811061,-4.10542160273 4.97896194458,-6.55650138855 l1.57198756933,-1.05732493103 5.76676189899,0.00014336896129 m-7.1722048521,-1.65933087468 l-2.22405865788,-2.84481018782 -5.247631073,-0.19824648276 l-0.859087407589,3.43465656042 -0.0001471214091,0.108185838908 l0.000113315791168,2.95790702105 -2.05659002066,1.97034433484 l0.290721300989,0.625836253166 -0.107968719676,0.915675088763 l-0.000133475314215,1.92661434412 1.51843845844,2.0740108192 l2.72748470306,0.87749145925 4.04287010431,-0.000340816695825 m-2.68928706646,-8.80544483662 l2.05663338304,-0.47481033951 0.848739668727,0.779518261552 l-0.000187064451893,-0.605416893959 m-2.00152903795,0.740610212088 l-0.518360249698,6.72696432957e-05 m1.00112631917,0.746235847473 l-0.425320155919,0.00237359679886 0.099625820294,-0.1971453242 l0.796082243323,0.00039875285438 m14.3498146534,23.7289738655 l1.36541470885,9.29734051228 -1.19626536965,0.510138757527 l-1.45986095071,0.000385452185583 m5.98274886608,-7.01533377171 l0.824889242649,6.71349585056 -3.1598597765,-1.30074858665 l-1.24407440424,0.000226840202231 m38.2854986191,-6.35864078999 l0.000264587051788,10.7313525677 -4.15387779474,-0.862200707197 l-1.08497537673,-1.79272443056 m43.8333147809,-21.6596088491 l-0.494866743684,-10.0038778782 2.46749475598,-3.56993675232 l2.99545943737,-1.78481563926 2.67707675695,-0.624356903136 l2.01758995652,0.93728043139 2.32281222939,2.4425779283 l2.55368322134,-2.5085914135 8.90064895153,-3.97077023983 l1.73533648252,4.8289296031 2.8050750494,-1.70043408871 l7.13403940201,-3.89524459839 4.41389471292,-0.828291252255 l2.29632213712,-0.120155895129 2.41224393249,6.76052868366 l5.33228456974,-2.93728768826 9.68118607998,-1.11125655472 l2.92913645506,3.57653170824 0.000209679310501,8.4863191843 l-5.28772473335,1.0826703161 1.55380114913,4.17071312666 l-1.04516364634,7.3328012228 -6.63033723831,4.75960046053 l-2.96155124903,1.12505994737 -10.8468794823,2.13775351644 l-7.77685940266,0.281675625592 -1.88446849585,-1.70860618353 l-0.425313413143,-2.19970449805 -10.5499577522,5.49374103546 l-7.5151014328,1.79354920983 -4.82628375292,-1.63348734379 l-2.64736264944,-2.67920196056 -1.459595263,-5.26741504669 l1.51602745056,-3.79040807486 1.5031157434,-0.681176036596 l-2.69110590219,1.19712784886 -9.45614635944,-5.67707657814 l-1.64527088404,-4.13471460342 0.260796062648,-4.14953917265 l3.67974698544,-1.80490121245 5.79337179661,-0.903586521745 m-1.4376835525,-0.464159026742 l-8.2199972868,-0.249353852123 -3.8835054636,0.197635311633 l-5.17633855343,2.10257977247 -3.29105943441,3.14129680395 l-0.710577070713,3.59790056944 1.13023668528,2.22052484751 l2.67944037914,2.11056411266 5.62615394592,2.61982411146 l8.77160966396,-9.74437352852e-05 4.0233361721,-3.27328622341 l-0.772716626525,-3.40194314718 m-6.87438607216,-1.17976263165 l-1.15916728973,0.294522531331 -1.33342280984,2.70763039589 l4.35927003622,-1.21443644166 0.88691920042,0.939862728119 l-0.237154513597,0.000496763859701 m-12.3888647556,2.20670372248 l2.9851526022,0.286728348583 m9.83256757259,-3.22865962982 l-0.898156985641,0.000247289117397 -5.01031279564,-1.63395881653 l5.9354531765,0.195673387498 -5.38553476334,1.95426300168 l2.67479211092,0.274960566312 -1.12420834601,1.66975647211 l4.18696701527,0.26547241956 1.15854881704,0.652434378862 l0.29347859323,-0.540861524642 m5.65039336681,13.4713935852 l-2.24807009101,2.01641514897 -6.1052185297,5.93002438545 m17.5551891327,-8.40173125267 l8.51014971733,4.32296961546 0.405688360333,2.52385288477 l0.391219742596,2.82905131578 m9.61053133011,-9.80142772198 l-2.20842197537,5.58016896248 -2.51939982176,6.43821835518 m18.4619963169,-11.7739987373 l4.74275916815,6.09073579311 3.36376011372,2.13296577334 l0.302164833993,1.45864546299 m16.3524197546,-28.8455489911 l-0.448669753969,-10.4883241653 3.80719065666,-4.75343614817 l3.4451982379,-1.57346978784 2.83006519079,-0.754346325994 l0.972873419523,0.276997890323 1.93705275655,3.35959345102 l0.837171077728,4.65882658958 1.39852210879,-2.45235621929 l5.55333554745,-3.94058853388 4.56697136164,-1.18633724749 l7.91859745979,1.47115647793 2.61793613434,3.8221976161 l0.287106465548,0.0491888960823 6.77050173283,-3.5890775919 l5.53679585457,0.108756897971 8.20228397846,5.56493759155 l1.63334712386,3.77577841282 -5.88435159443e-05,1.91579028964 l8.62691640854,-0.1383080706 3.59249025583,2.60357260704 l2.25539922714,5.56009232998 -4.46203500815e-06,5.53754687309 l-8.93541276455,5.36846101284 -2.31132775545,-2.87073403597 l-4.11208450794,8.41440200806 -4.10866439342,3.10210824013 l-6.35765135288,-1.72225549817 -9.24051940441,-7.52385437489 l0.00102128331491,3.04609060287 -1.93601742387,4.67665046453 l-2.16449797153,1.72657996416 -15.8885347843,-7.76427447796 l-2.91787773371,-3.26679944992 -0.701560676098,-2.132294029 l-1.37849852443,3.64784985781 -0.838278904557,0.000544692993572 l-9.1660875082,-0.155619904399 -4.9765047431,-2.3849798739 l-1.83603182435,-2.6846536994 -0.186615977436,-3.78283292055 l0.3764006868,-0.736934766173 2.26674124599,-2.15052172542 l-0.524329096079,-1.9356225431 m4.110699296,11.0970377922 l-0.414290949702,5.00487685204 -2.77298480272,12.0773792267 l-0.000529159406142,-0.20296620205 1.14839330316,-2.67511665821 l3.33723276854,-1.49892777205 3.00903856754,-4.27417099476 l2.34681546688,-4.39262241125 m-0.286801476032,8.78790855408 l4.24093574286,-0.239953342825 1.46229237318,-6.66887998581 l-0.263307243586,-2.07951888442 m21.8515825272,8.58702838421 l0.000172177642526,5.04085063934 5.44633805752,0.904329642653 l1.17789231241,-3.10121685266 m2.30595648289,-2.35917374492 l2.5802975893,5.36141693592 3.0175358057,1.72609820962 l4.1097009182,-4.18409913778 0.611527375877,-4.14139211178 m-56.7565059662,-26.2551665306 l-7.10421442986,4.10832464695 m3.58069360256,-3.42244625092 l2.57559627295,0.0659306580201 1.82690501213,-1.07146479189 l1.21631257236,0.135312378407 1.80353060365,-3.13724726439 l1.8784403801,5.77407002449 m-10.7022881508,-6.52455568314 l3.00833642483,2.82424300909 0.773004665971,3.92075449228 l7.35140681267,-5.96268177032 18.2786393166,-0.0852887798101 l2.13274657726,5.30428886414 m-27.2727251053,-4.34146672487 l-5.58532834053,2.04260885715 4.70829278231,2.00790330768 l14.6985292435,1.47805765271 21.4975523949,-4.9561008811 l17.0124685764,-1.60964936018 \" fill=\"none\" stroke=\"black\" stroke-width=\"1\"/></svg>"
          },
          "metadata": {
            "tags": []
          }
        }
      ]
    },
    {
      "metadata": {
        "id": "4xiwp3_DFQvB",
        "colab_type": "text"
      },
      "cell_type": "markdown",
      "source": [
        "Latent Space Interpolation Example between $z_0$ and $z_1$"
      ]
    },
    {
      "metadata": {
        "id": "WSX0uvZTFQvD",
        "colab_type": "code",
        "colab": {
          "base_uri": "https://localhost:8080/",
          "height": 123
        },
        "outputId": "cd67af4e-5ae6-4327-876e-e1385dadbafc"
      },
      "cell_type": "code",
      "source": [
        "# get a sample drawing from the test set, and render it to .svg\n",
        "z0 = z\n",
        "_ = decode(z0)"
      ],
      "execution_count": 36,
      "outputs": [
        {
          "output_type": "display_data",
          "data": {
            "text/plain": [
              "<IPython.core.display.SVG object>"
            ],
            "image/svg+xml": "<svg baseProfile=\"full\" height=\"102.427235403\" version=\"1.1\" width=\"129.209674299\" xmlns=\"http://www.w3.org/2000/svg\" xmlns:ev=\"http://www.w3.org/2001/xml-events\" xmlns:xlink=\"http://www.w3.org/1999/xlink\"><defs/><rect fill=\"white\" height=\"102.427235403\" width=\"129.209674299\" x=\"0\" y=\"0\"/><path d=\"M45.3384363328,43.5051581264 m-0.452138632536,-9.77501809597 l2.03085362911,-3.97754997015 3.22940081358,-2.13030472398 l3.34937185049,-0.549519881606 3.03544700146,1.03015981615 l1.86362072825,2.57969945669 0.780161619186,3.53019356728 l2.1853415668,-4.06615108252 4.26904439926,-3.4337630868 l4.67913240194,-1.71290412545 6.60053551197,1.39207661152 l3.12328606844,3.32881778479 1.64581760764,4.30747896433 l1.66340589523,-2.42596834898 4.83349770308,-3.09380531311 l8.95976603031,-0.101152388379 3.74731659889,2.81529784203 l2.11217939854,4.75281655788 -0.000127968651213,3.66132438183 l-1.92343503237,3.43129038811 -3.45004707575,2.55242466927 l4.29342120886,2.66260296106 2.29538664222,3.71460616589 l-2.51197427511,7.25810468197 -4.81018513441,3.19969326258 l-6.15283250809,1.24540887773 -5.87072968483,-1.10845685005 l-3.88364940882,-2.44267135859 -2.71454960108,-3.2853615284 l-1.47847786546,3.02408844233 -2.69171059132,2.46111229062 l-9.01027977467,1.40321701765 -5.29277384281,-1.98676526546 l-3.27686578035,-3.3949843049 -1.64836674929,-3.90924364328 l-1.7591419816,2.16089919209 -7.13671207428,1.79116770625 l-4.0870693326,-1.45861074328 -2.86578983068,-3.24800878763 l-1.28001779318,-4.36746478081 0.917304307222,-3.28990161419 l2.40293368697,-2.337372154 3.31872552633,-1.347989887 m-1.57756790519,2.65094280243 l-3.88701856136,-1.38844666253e-05 -7.50084757805,-0.112177049741 l-4.8392188549,3.04312050343 -1.57285869122,3.54620665312 l1.29967153072,3.64414304495 2.70649075508,1.9920989871 l6.60523235798,1.31642699242 6.26941561699,0.000380952296837 l2.41084605455,-1.05596162379 m-9.76148545742,-8.94221127033 l0.801242291927,-0.719162598252 0.227163601667,-0.668974816799 l1.45263820887,-0.772453099489 0.686555355787,1.11731491983 l-0.000271127846645,1.04628778994 -0.420347750187,-1.05525135994 l0.00705829588696,-0.679942369461 0.0388225959614,-7.9448809629e-05 m-4.65803176165,5.36885678768 l1.3134150207,-0.354075282812 0.595141127706,-0.964132547379 m15.4014265537,9.37708854675 l-1.11283801496,3.98971945047 -3.03238868713,8.66982519627 l-2.50560283661,4.53023791313 m12.7978253365,-13.0035865307 l0.297358967364,8.83989453316 0.882922559977,2.84348547459 m25.6239175797,-11.4856803417 l0.916055515409,8.49858522415 1.07881553471,3.09132516384 m4.73307162523,-12.2114264965 l3.77005875111,6.97701454163 4.23795700073,6.54473781586 \" fill=\"none\" stroke=\"black\" stroke-width=\"1\"/></svg>"
          },
          "metadata": {
            "tags": []
          }
        }
      ]
    },
    {
      "metadata": {
        "id": "jQf99TxOFQvH",
        "colab_type": "code",
        "colab": {
          "base_uri": "https://localhost:8080/",
          "height": 194
        },
        "outputId": "4265bd5f-8c66-494e-b26e-d3ac874d69bb"
      },
      "cell_type": "code",
      "source": [
        "stroke = test_set.random_sample()\n",
        "z1 = encode(stroke)\n",
        "_ = decode(z1)"
      ],
      "execution_count": 44,
      "outputs": [
        {
          "output_type": "display_data",
          "data": {
            "text/plain": [
              "<IPython.core.display.SVG object>"
            ],
            "image/svg+xml": "<svg baseProfile=\"full\" height=\"85.6374906376\" version=\"1.1\" width=\"106.426024958\" xmlns=\"http://www.w3.org/2000/svg\" xmlns:ev=\"http://www.w3.org/2001/xml-events\" xmlns:xlink=\"http://www.w3.org/1999/xlink\"><defs/><rect fill=\"white\" height=\"85.6374906376\" width=\"106.426024958\" x=\"0\" y=\"0\"/><path d=\"M44.4386315346,25.5399619788 m0.0,0.0 l5.9395813942,-0.539961978793 9.17935311794,2.42982879281 l0.809942930937,2.42982879281 2.69980967045,-2.15984791517 l5.3996193409,-1.07992395759 2.42982879281,0.0 l0.269980989397,1.07992395759 3.77973377705,0.539961978793 l2.69980967045,3.5097527504 2.42982879281,1.61988586187 l1.07992395759,1.88986688852 0.269980989397,2.9697906971 l-8.90937209129,4.85965758562 -7.82944858074,1.34990483522 l-12.6891064644,0.0 -4.58967655897,-0.539961978793 l-3.23977172375,-2.42982879281 -8.36941063404,-4.58967655897 l-3.23977172375,-6.74952447414 m10.5292582512,6.74952447414 l0.539961978793,0.539961978793 0.0,9.44933414459 l-1.61988586187,7.28948652744 m15.9288775921,-13.4990489483 l2.15984791517,0.269980989397 3.77973377705,17.2787833214 m-14.3089914322,-17.8187441826 l0.0,15.1189351082 m17.2787833214,-13.4990489483 l1.07992395759,0.809942930937 1.61988586187,3.23977172375 l4.85965758562,14.5789730549 m-37.2573757172,-31.8577551842 l0.0,-0.539961978793 -0.809942930937,-0.539961978793 l-4.0497148037,-1.61988586187 -5.12963891029,-0.539961978793 l-1.34990483522,0.809942930937 -0.809942930937,1.61988586187 l0.269980989397,3.23977172375 1.07992395759,0.809942930937 l3.77973377705,0.539961978793 \" fill=\"none\" stroke=\"black\" stroke-width=\"1\"/></svg>"
          },
          "metadata": {
            "tags": []
          }
        },
        {
          "output_type": "display_data",
          "data": {
            "text/plain": [
              "<IPython.core.display.SVG object>"
            ],
            "image/svg+xml": "<svg baseProfile=\"full\" height=\"83.0564136058\" version=\"1.1\" width=\"93.7295763449\" xmlns=\"http://www.w3.org/2000/svg\" xmlns:ev=\"http://www.w3.org/2001/xml-events\" xmlns:xlink=\"http://www.w3.org/1999/xlink\"><defs/><rect fill=\"white\" height=\"83.0564136058\" width=\"93.7295763449\" x=\"0\" y=\"0\"/><path d=\"M29.7001612084,25.492028445 m6.12457633018,-0.492028445005 l8.83016347885,1.8819282949 2.64706224203,1.26904651523 l2.73448884487,1.89952537417 2.48898088932,2.15412139893 l4.31182414293,2.03947201371 5.9728372097,1.81413322687 l3.41846108437,2.09005489945 2.50078171492,3.16048324108 l0.000239199325733,4.14908617735 -2.05914735794,3.12297672033 l-4.39917087555,2.27648496628 -10.0312280655,0.553998202085 l-5.18458724022,-1.24503679574 -8.12663495541,-3.6948376894 l-3.65948140621,-2.44298309088 -2.6890322566,-2.95634448528 l-2.10033684969,-3.72734755278 -0.519202388823,-7.05223739147 l0.59235367924,-1.256929636 2.58313268423,-1.88882425427 m29.5964217186,15.4435396194 l2.82048881054,11.0222280025 0.000133922794703,4.44387584925 m-15.5658245087,-9.26815748215 l-5.14172506882e-05,8.00958454609 -4.64057683945,0.478398874402 m-4.6766269207,-14.1202735901 l-7.85498832556e-05,7.89820194244 -1.58904016018,6.39098823071 m-10.0955557823,-20.9512782097 l-1.61133436904e-05,4.93145227432 -1.85778081417,7.03386187553 l-0.00016616017092,2.28863850236 -1.21746793389,-8.9298328021e-05 l-0.910100564361,-0.915008336306 \" fill=\"none\" stroke=\"black\" stroke-width=\"1\"/></svg>"
          },
          "metadata": {
            "tags": []
          }
        }
      ]
    },
    {
      "metadata": {
        "id": "tDqJR8_eFQvK",
        "colab_type": "text"
      },
      "cell_type": "markdown",
      "source": [
        "Now we interpolate between sheep $z_0$ and sheep $z_1$"
      ]
    },
    {
      "metadata": {
        "id": "_YkPNL5SFQvL",
        "colab_type": "code",
        "colab": {}
      },
      "cell_type": "code",
      "source": [
        "z_list = [] # interpolate spherically between z0 and z1\n",
        "N = 10\n",
        "for t in np.linspace(0, 1, N):\n",
        "  z_list.append(slerp(z0, z1, t))"
      ],
      "execution_count": 0,
      "outputs": []
    },
    {
      "metadata": {
        "id": "UoM-W1tQFQvM",
        "colab_type": "code",
        "colab": {}
      },
      "cell_type": "code",
      "source": [
        "# for every latent vector in z_list, sample a vector image\n",
        "reconstructions = []\n",
        "for i in range(N):\n",
        "  reconstructions.append([decode(z_list[i], draw_mode=False), [0, i]])"
      ],
      "execution_count": 0,
      "outputs": []
    },
    {
      "metadata": {
        "id": "mTqmlL6GFQvQ",
        "colab_type": "code",
        "colab": {
          "base_uri": "https://localhost:8080/",
          "height": 122
        },
        "outputId": "062e015f-29c6-4e77-c6db-e403d5cabd59"
      },
      "cell_type": "code",
      "source": [
        "stroke_grid = make_grid_svg(reconstructions)\n",
        "draw_strokes(stroke_grid)"
      ],
      "execution_count": 47,
      "outputs": [
        {
          "output_type": "display_data",
          "data": {
            "text/plain": [
              "<IPython.core.display.SVG object>"
            ],
            "image/svg+xml": "<svg baseProfile=\"full\" height=\"100.934829576\" version=\"1.1\" width=\"849.682112095\" xmlns=\"http://www.w3.org/2000/svg\" xmlns:ev=\"http://www.w3.org/2001/xml-events\" xmlns:xlink=\"http://www.w3.org/1999/xlink\"><defs/><rect fill=\"white\" height=\"100.934829576\" width=\"849.682112095\" x=\"0\" y=\"0\"/><path d=\"M27.1187053225,35.2671950377 m0.0,0.0 m13.0374220134,9.79158362638 l-0.430889762938,-9.7997802496 2.00483411551,-3.91961753368 l3.22967767715,-2.08889693022 3.8136985898,-0.140564581379 l2.15966850519,1.62367656827 1.27273306251,3.22166860104 l1.9076114893,-3.87629717588 3.5531526804,-3.30765992403 l4.16431605816,-1.77130743861 6.35548114777,1.10698916018 l3.02580952644,3.06086301804 1.76272720098,4.19391512871 l2.35232964158,-2.66813576221 5.30079305172,-2.75331646204 l7.97846615314,0.0315397535451 3.65118801594,2.62664079666 l2.36603185534,4.55013006926 -0.00015252780031,3.3990162611 l4.6878066659,-0.409161970019 7.13881909847,3.40607851744 l1.92540153861,4.13274973631 -0.538350641727,5.41802704334 l-3.64968091249,3.96858096123 -5.66417813301,2.28073984385 l-10.1654601097,0.0870759878308 -4.34666156769,-1.36468291283 l-2.86264628172,-2.32804119587 -2.09214970469,-3.05656373501 l-1.35858923197,2.90957152843 -2.70823419094,2.77841061354 l-5.42612731457,1.83732450008 -9.85740959644,-0.828164294362 l-4.16504055262,-2.84363895655 -2.13879853487,-3.67370605469 l-1.56009182334,2.08399221301 -6.46791398525,1.63203313947 l-7.27452397346,-2.80484586954 -2.2995314002,-3.13347578049 l-0.59168022126,-2.1301831305 0.7524125278,-3.01649153233 l2.27645516396,-2.35838070512 3.32045763731,-1.18294522166 m-0.0593921402469,2.67038762569 l-3.02462697029,0.000253469006566 -6.66158020496,0.300092250109 l-4.78001058102,2.7918356657 -1.8806232512,3.2894924283 l-0.1516551245,2.51558512449 3.40490996838,2.85268723965 l6.9273763895,1.39374136925 6.11215054989,0.000250162211159 l2.24065437913,-1.18799977005 m-9.50150847435,-7.92122125626 l0.440329685807,-0.236576609313 0.158886630088,-0.55701635778 l0.512708090246,0.000158787624969 -0.000207889715966,0.574065670371 l-0.720178484917,-0.480661019683 -0.13291683048,-0.0151882390492 l-0.0667130714282,-0.186888296157 -0.122619476169,-0.0349359097891 m-3.41164112091,5.73586821556 l1.94084182382,-0.459557212889 0.754593610764,-0.874182283878 m15.1270258427,7.29717850685 l-1.32291138172,4.53813284636 -2.10129275918,4.39243614674 l-5.13725459576,6.13002538681 m14.5650994778,-11.490893364 l0.319420099258,8.060079813 1.59337610006,4.47326511145 m24.403693676,-12.6378548145 l-0.262960828841,8.25273752213 -1.43182456493,6.79758667946 m8.01874637604,-14.5605707169 l2.20994830132,2.99431622028 6.57771945,8.3162266016 l1.44373193383,2.57445424795 m27.3938483301,-31.9078249541 l1.17706395686,-9.25403892994 2.54819363356,-3.6765936017 l3.78935933113,-1.74180582166 4.18004542589,0.374292805791 l2.08857670426,1.9794946909 1.15550294518,3.32341194153 l2.36685201526,-3.08963537216 4.82613176107,-3.13255667686 l4.59665685892,-1.60324439406 6.59976303577,1.11931197345 l3.10501426458,3.15936535597 1.64836481214,4.05574798584 l3.02211254835,-2.48064652085 5.7890021801,-2.14063793421 l8.5117161274,1.48653954268 3.64824861288,3.76028388739 l1.75657555461,5.13001441956 0.944817662239,8.5441827774 l-2.3581366241,3.80072087049 -4.35741901398,2.29431957006 l-8.58107149601,2.65610933304 -5.40320694447,0.115083884448 l-4.38933074474,-1.51198357344 -3.5810893774,-2.46698543429 l-2.63937443495,-3.04701924324 -1.68329656124,2.77369469404 l-2.83226430416,2.37255752087 -8.55645298958,1.57668918371 l-5.172123909,-1.57606422901 -3.4252807498,-3.16797494888 l-2.1272584796,-3.97131472826 -4.52391862869,2.38791525364 l-7.03262925148,-0.378000326455 -3.08737367392,-2.68905192614 l-1.39788091183,-3.9615803957 0.75482673943,-3.46145898104 l2.43055701256,-2.60488688946 m3.61666858196,5.00046014786 l-0.74852399528,0.219447277486 -3.1118246913,0.216326247901 l-3.67067456245,0.929656550288 -3.25136482716,2.63074427843 l-1.65407493711,3.35662424564 0.919080674648,3.15412014723 l2.49237075448,1.68696135283 6.15284442902,0.989663526416 l5.75077176094,-0.834224820137 3.37007850409,-1.90263018012 m-9.62189435959,-6.61811590195 l-0.11732596904,0.183310490102 0.409563183784,-0.32747194171 l-0.456444807351,-0.00141317228554 m-0.992967635393,2.33967974782 l1.01842746139,-0.355437844992 m15.8050370216,7.40734577179 l-2.20674172044,5.78322172165 -5.30917167664,9.31752085686 m12.7810931206,-10.9563279152 l1.24976411462,8.41043949127 1.26234576106,3.01220655441 m27.781894207,-11.806473732 l0.0909691024572,7.92199075222 -1.45515307784,7.43224620819 m23.0375022255,-28.9489558309 l2.56667286158,-8.52953016758 3.18319350481,-3.08847755194 l4.30100291967,-1.45107507706 3.4677875042,1.18922616821e-05 l2.66959786415,1.56113266945 1.85742944479,2.88182228804 l3.31823199987,-2.82994359732 4.99437481165,-2.46804609895 l6.75223946571,-1.04811251163 4.20931905508,1.03799961507 l3.24963718653,2.9364451766 1.91404879093,3.79126250744 l3.38006913662,-2.274017483 5.97274363041,-1.62461549044 l8.51345360279,2.48938590288 3.12908262014,4.21604245901 l1.24384477735,5.71628987789 -2.72621154785,9.43199038506 l-3.67442011833,3.58102917671 -8.87926638126,2.76463806629 l-14.4145596027,-0.411546677351 -4.61001187563,-1.72317832708 l-11.0872340202,-2.13506639004 -4.42782998085,-2.12108120322 l-3.2777389884,-3.07246387005 -6.46567344666,-4.11265999079 l-2.45526507497,-3.29613983631 -1.67020559311,-4.49929535389 l0.213099885732,-3.19337904453 0.876129642129,-1.1444978416 m4.28452432156,7.13222444057 l-1.38097196817,0.973608568311 -2.3439233005,2.82276451588 l-1.20062485337,4.16179835796 0.934416130185,3.16863626242 l3.29999625683,2.71053105593 4.98468846083,1.48285061121 l3.4369623661,0.000342769235431 m7.35727012157,-0.000995833834168 l1.19224630296,3.77826780081 0.920288413763,7.44838356972 m12.9596877098,-11.0329699516 l2.11744830012,7.14693903923 1.53269782662,3.09750854969 m13.6684453487,-10.0001442432 l2.47817143798,7.3173302412 1.65617242455,2.90545940399 m7.24262177944,-11.254607439 l1.89781695604,2.09361538291 5.21768987179,7.87518322468 l2.22417190671,2.14269652963 m10.5320628406,-28.5802784829 l3.71741324663,-7.60398030281 3.80826741457,-2.49724298716 l6.17685317993,-0.754846706986 3.32501709461,0.761842131615 l1.92707300186,1.89577624202 2.39728346467,-1.69581547379 l5.03752946854,-2.02060014009 6.49785757065,-0.95483109355 l4.07025188208,0.786114558578 3.39234769344,2.25935071707 l2.38294959068,3.06156307459 3.69465142488,-1.48382917047 l10.3777182102,-1.08346953988 5.25100946426,1.78596615791 l3.2040348649,4.00521755219 1.52546644211,5.33561170101 l-4.27362829447,13.3623194695 -4.15844410658,3.39999824762 l-10.6596505642,2.28218242526 -20.2442765236,-1.94845363498 l-4.35518443584,-1.77966505289 -12.3919570446,-5.78080415726 l-5.24185240269,-2.98465073109 -2.71481573582,-3.20759564638 l-1.77736833692,-4.20356065035 -0.0859408359975,-3.0486753583 l1.79033130407,-2.31387525797 m3.9243710041,7.66759335995 l-0.00026570085538,2.19966173172 0.200964473188,4.7343185544 l1.82232230902,5.13538002968 2.41345018148,2.94090092182 l3.3286190033,1.66780427098 6.10159695148,-1.14711582661 m8.86698424816,-0.584323182702 l-0.187891703099,4.87958580256 -1.19896322489,8.48693847656 m18.6748981476,-12.8897428513 l2.70891278982,7.9766279459 1.62890985608,3.17304760218 m8.36934626102,-11.6471230984 l1.72586664557,2.75048792362 4.64893907309,9.28655326366 m-31.9032454491,-25.8997631073 l0.191438123584,0.416610501707 1.29435807467,1.19108788669 l0.740930512547,0.000294348847092 -0.000103320144262,0.291533675045 m46.6802831118,-5.2828616739 l4.64107662439,-6.58100783825 4.42532330751,-1.88747882843 l6.27585232258,0.0440970202908 2.53859102726,1.24725989997 l1.73822969198,2.21205115318 3.09069544077,-2.00398638844 l5.48926889896,-1.93162098527 6.8738681078,-0.915335416794 l4.17999863625,0.770196989179 3.02995294333,2.31302410364 l2.21863523126,3.23541224003 9.37181770802,-1.59345075488 l8.65650594234,2.02885314822 2.99049824476,3.54411631823 l1.02846629918,5.30069589615 -6.49916648865,12.7882421017 l-5.05911111832,2.74942964315 -13.0139875412,0.962842777371 l-12.4966418743,-2.0949138701 -14.8110282421,-3.30850839615 l-10.7900094986,-4.00700628757 -3.9139637351,-2.59990483522 l-2.28389948606,-3.11620026827 -0.123413177207,-4.67518359423 l1.57413452864,-2.66828387976 3.16728800535,-1.54677674174 m0.807409733534,6.2439250946 l-0.000137579845614,1.29012614489 -0.744912922382,3.4734454751 l-0.443433485925,4.15416955948 0.498356223106,3.8446983695 l2.5333455205,3.46402078867 4.12233710289,2.4427755177 m15.5293154716,-1.32603630424 l0.670952498913,4.68536138535 m17.0808112621,-8.42097222805 l2.56825894117,7.34110355377 1.6241671145,3.15200895071 m7.6861000061,-10.963947773 l1.52380362153,2.32852891088 3.79256129265,8.72820198536 m24.1768986359,-28.789527141 l5.31452655792,-5.44354319572 4.97311741114,-1.4956818521 l5.26733636856,-0.000140226447911 3.31855237484,1.18950165808 l2.31004551053,1.83330148458 3.35168093443,-1.53965786099 l5.15053331852,-1.21388323605 5.66440343857,8.74539091456e-05 l3.31648677588,1.38680428267 2.85065203905,2.61079251766 l9.76395249367,-0.872894376516 7.28021323681,1.61320880055 l2.86659866571,2.96331167221 1.46350577474,4.95735406876 l2.93275957119e-05,6.59514546394 -2.51405477524,3.78609806299 l-9.31575357914,4.0104034543 -13.1808209419,0.928246453404 l-11.7370533943,-1.47267267108 -16.7665731907,-4.1704377532 l-9.38610076904,-3.74084919691 -2.84513235092,-2.39411279559 l-1.84247240424,-3.44918042421 -0.191697962582,-3.57241749763 l1.78636699915,-2.76398032904 1.46713003516,-0.759932398796 m22.5628733635,14.1912460327 l-0.000196768778551,7.42296040058 m16.5609657764,-1.92013174295 l-0.000242075766437,5.32480955124 m-18.041728735,-11.9332134724 l0.145859858021,2.14825034142 0.698667690158,9.21508133411 l0.158236976713,4.83948081732 m-9.20799732208,-25.3711986542 l-0.610894523561,0.770595222712 -3.08807253838,4.13812875748 l-5.41226506233,5.58207392693 -4.77530032396,3.91862273216 m84.744899418,-17.8235109024 l5.7739841938,-4.23468917608 5.43177843094,-1.06618657708 l5.54596662521,-0.000181701216206 3.38776260614,1.30380377173 l2.57605999708,1.8299856782 3.11240166426,-1.25296711922 l4.68400925398,-0.965175554156 6.00146889687,4.9518639571e-05 l3.56735348701,1.3958504796 2.82396435738,2.61861473322 l8.20266008377,0.203673001379 6.30891561508,3.44735264778 l2.00369760394,3.57655584812 0.305378194898,4.87837016582 l-2.00468719006,3.79115760326 -9.19346153736,4.28689152002 l-12.8565919399,0.755528211594 -12.0547759533,-1.63142174482 l-16.527017355,-3.84759813547 -8.55478405952,-3.81703972816 l-2.76336073875,-2.54944890738 -0.774154141545,-4.88619834185 l2.52752572298,-3.56009453535 3.55443030596,-1.26071631908 m23.4467196465,13.8306045532 l0.289542675018,8.32357287407 m4.31723028421,-3.80238652229 l-0.000235118714045,5.91222822666 m-13.1806373596,-7.7929443121 l-0.000243210015469,5.95702290535 -0.881291180849,6.79500579834 m15.5316770077,-10.9481799603 l0.000249637396337,5.83976387978 -0.608433075249,6.94582045078 m56.6448402923,-30.9459557514 l6.11638605595,-3.03143024445 7.51360356808,0.813832208514 l4.04485851526,0.204813610762 3.10298293829,1.09479665756 l2.63646960258,1.43250033259 3.42272818089,-1.10750757158 l5.73866188526,-0.000125451406348 3.7318789959,1.02869749069 l3.08557957411,1.96662932634 5.03284335136,3.70982378721 l3.66621792316,5.39475977421 -7.54374968892e-05,4.4574546814 l-1.99277698994,3.55467438698 -3.69269967079,2.7282127738 l-8.71915519238,2.2612144053 -11.8308055401,-1.08384683728 l-14.8135495186,-4.25099313259 -8.55374753475,-3.99129241705 l-2.75687396526,-2.79272317886 -1.69385194778,-3.65911900997 l0.66859908402,-4.92167145014 2.38538399339,-2.36348778009 l3.51761221886,-1.24050274491 m21.1169791222,17.6609277725 l-0.000242139340116,8.64883184433 m4.0480273962,-5.02637445927 l-0.000195033626369,6.80589437485 m-13.9205420017,-9.02022838593 l-7.08674770067e-05,6.50568783283 -1.01587407291,6.17273032665 m-6.34910643101,-18.2565236092 l-0.000249688109761,4.88237768412 -1.61719381809,8.80857944489 l-0.000222410344577,1.89141541719 m86.8495387212,-25.2169817497 l6.22647404671,-1.7845338583 7.82957732677,0.000284445432044 l3.44534009695,2.55523532629 2.23012164235,2.52896368504 l2.73585528135,-1.70503109694 5.0576788187,-1.35140001774 l7.3544305563,0.453230664134 2.96599090099,1.95717304945 l1.96573764086,3.4147977829 -5.23280641573e-05,3.9761775732 l-1.77947357297,3.26848506927 -3.10903578997,2.34420746565 l-4.35673177242,1.40987813473 -12.1151173115,-0.946095138788 l-3.3923599124,-1.72256052494 -8.92660975456,-1.7102958262 l-7.4975758791,-2.51546770334 -2.65822201967,-2.34665989876 l-1.12191297114,-5.77023625374 2.01158240438,-3.24395120144 l3.17744404078,-1.35334283113 m22.0957398415,15.831720829 l1.8357104063,12.0058119297 m-5.15342354774,-8.83311331272 l1.90137133002,9.37031209469 m-12.894179821,-9.91069853306 l0.608745664358,7.58583605289 m-7.28176951408,-12.399764061 l0.166557468474,7.71549105644 -0.563814230263,6.27165079117 m-8.18194806576,-19.4706177711 l1.0412741176e-05,2.97888219357 -1.96067154408,6.2123465538 l-0.000327044435835,3.01003426313 -0.914907455444,2.30471238494 l-0.978835597634,0.949132442474 -2.46643796563,0.649456679821 l-3.15734446049,-1.20499104261 m100.926423398,-22.6548116095 l6.156924963,-0.494612790644 8.74896407127,2.01139375567 l2.55785167217,1.11674107611 2.93462246656,1.93931728601 l2.61461764574,2.0298679173 4.20460045338,1.92306101322 l5.87332725525,2.02785387635 3.26484084129,2.06408262253 l2.41125553846,3.18024903536 0.000298915820167,4.37956005335 l-2.0513240993,2.96634316444 -4.32935774326,2.25321441889 l-9.74605977535,0.403678826988 -5.05829632282,-1.2657161057 l-8.15528035164,-3.49032193422 -6.37343764305,-2.74165600538 l-3.0562710762,-2.30500355363 -2.4989554286,-3.33197504282 l-1.29332125187,-5.06933450699 -7.59717295296e-05,-4.39446717501 l0.742656514049,-1.31249725819 2.93806910515,-1.57321736217 m26.9059157372,16.6572034359 l7.49078799345e-05,6.32824778557 m-1.42999947071,-1.53215572238 l-0.000375936251658,6.30935907364 m-15.0192940235,-7.27915465832 l-0.00014244445083,6.68412566185 -0.773198977113,3.14221769571 m-8.9761775732,-16.4064240456 l0.0001741046799,5.67916691303 -1.34430274367,7.07525312901 l-1.99446344595e-05,1.37251511216 m-7.0357054472,-24.4111537933 l-0.00062948645791,-0.0897578895092 -2.74209618568,0.271937120706 l-1.57854631543,0.941880792379 -2.26086854935,-0.00031321294955 l-5.76941430569,0.758311003447 -1.89244806767,1.15529693663 l-1.38556540012,1.7514154315 -0.628689453006,2.07178413868 l0.691026374698,1.80990159512 7.46489822865,-0.000705750790075 l5.41545748711,-1.92475929856 \" fill=\"none\" stroke=\"black\" stroke-width=\"1\"/></svg>"
          },
          "metadata": {
            "tags": []
          }
        }
      ]
    },
    {
      "metadata": {
        "id": "vFwPna6uFQvS",
        "colab_type": "text"
      },
      "cell_type": "markdown",
      "source": [
        "Let's load the Flamingo Model, and try Unconditional (Decoder-Only) Generation"
      ]
    },
    {
      "metadata": {
        "id": "HH-YclgNFQvT",
        "colab_type": "code",
        "colab": {}
      },
      "cell_type": "code",
      "source": [
        "model_dir = '/tmp/sketch_rnn/models/flamingo/lstm_uncond'"
      ],
      "execution_count": 0,
      "outputs": []
    },
    {
      "metadata": {
        "id": "-Znvy3KxFQvU",
        "colab_type": "code",
        "colab": {}
      },
      "cell_type": "code",
      "source": [
        "[hps_model, eval_hps_model, sample_hps_model] = load_model_compatible(model_dir)"
      ],
      "execution_count": 0,
      "outputs": []
    },
    {
      "metadata": {
        "id": "cqDNK1cYFQvZ",
        "colab_type": "code",
        "colab": {
          "base_uri": "https://localhost:8080/",
          "height": 221
        },
        "outputId": "d346d57c-f51a-4286-ba55-705bc27d4d0d"
      },
      "cell_type": "code",
      "source": [
        "# construct the sketch-rnn model here:\n",
        "reset_graph()\n",
        "model = Model(hps_model)\n",
        "eval_model = Model(eval_hps_model, reuse=True)\n",
        "sample_model = Model(sample_hps_model, reuse=True)"
      ],
      "execution_count": 53,
      "outputs": [
        {
          "output_type": "stream",
          "text": [
            "INFO:tensorflow:Model using gpu.\n",
            "INFO:tensorflow:Input dropout mode = False.\n",
            "INFO:tensorflow:Output dropout mode = False.\n",
            "INFO:tensorflow:Recurrent dropout mode = False.\n",
            "INFO:tensorflow:Model using gpu.\n",
            "INFO:tensorflow:Input dropout mode = 0.\n",
            "INFO:tensorflow:Output dropout mode = 0.\n",
            "INFO:tensorflow:Recurrent dropout mode = 0.\n",
            "INFO:tensorflow:Model using gpu.\n",
            "INFO:tensorflow:Input dropout mode = 0.\n",
            "INFO:tensorflow:Output dropout mode = 0.\n",
            "INFO:tensorflow:Recurrent dropout mode = 0.\n"
          ],
          "name": "stdout"
        }
      ]
    },
    {
      "metadata": {
        "id": "7wzerSI6FQvd",
        "colab_type": "code",
        "colab": {}
      },
      "cell_type": "code",
      "source": [
        "sess = tf.InteractiveSession()\n",
        "sess.run(tf.global_variables_initializer())"
      ],
      "execution_count": 0,
      "outputs": []
    },
    {
      "metadata": {
        "id": "6mzk8KjOFQvf",
        "colab_type": "code",
        "colab": {
          "base_uri": "https://localhost:8080/",
          "height": 51
        },
        "outputId": "c450a6c6-22ee-4a58-8451-443462b42d58"
      },
      "cell_type": "code",
      "source": [
        "# loads the weights from checkpoint into our model\n",
        "load_checkpoint(sess, model_dir)"
      ],
      "execution_count": 55,
      "outputs": [
        {
          "output_type": "stream",
          "text": [
            "INFO:tensorflow:Loading model /tmp/sketch_rnn/models/flamingo/lstm_uncond/vector.\n",
            "INFO:tensorflow:Restoring parameters from /tmp/sketch_rnn/models/flamingo/lstm_uncond/vector\n"
          ],
          "name": "stdout"
        }
      ]
    },
    {
      "metadata": {
        "id": "X88CgcyuFQvh",
        "colab_type": "code",
        "colab": {}
      },
      "cell_type": "code",
      "source": [
        "# randomly unconditionally generate 10 examples\n",
        "N = 10\n",
        "reconstructions = []\n",
        "for i in range(N):\n",
        "  reconstructions.append([decode(temperature=0.5, draw_mode=False), [0, i]])"
      ],
      "execution_count": 0,
      "outputs": []
    },
    {
      "metadata": {
        "id": "k57REtd_FQvj",
        "colab_type": "code",
        "colab": {
          "base_uri": "https://localhost:8080/",
          "height": 149
        },
        "outputId": "8bd69652-9d1d-475e-fc64-f205cf6b9ed1"
      },
      "cell_type": "code",
      "source": [
        "stroke_grid = make_grid_svg(reconstructions)\n",
        "draw_strokes(stroke_grid)"
      ],
      "execution_count": 57,
      "outputs": [
        {
          "output_type": "display_data",
          "data": {
            "text/plain": [
              "<IPython.core.display.SVG object>"
            ],
            "image/svg+xml": "<svg baseProfile=\"full\" height=\"127.715112643\" version=\"1.1\" width=\"822.751792897\" xmlns=\"http://www.w3.org/2000/svg\" xmlns:ev=\"http://www.w3.org/2001/xml-events\" xmlns:xlink=\"http://www.w3.org/1999/xlink\"><defs/><rect fill=\"white\" height=\"127.715112643\" width=\"822.751792897\" x=\"0\" y=\"0\"/><path d=\"M25,31.6749245953 m0.0,0.0 m29.458208438,25.2691196524 l0.0325444270857,-0.0231732660905 1.04706428945,0.415350608528 l2.56192594767,0.81096239388 1.6894698143,0.354095175862 l1.51694312692,2.32169622905e-05 0.748551264405,-0.215358361602 l1.21745474637,-0.836464762688 2.29563608766,-2.66363292933 l0.898385420442,-2.29895725846 0.411714501679,-2.21723675728 l0.13494736515,-2.61043429375 -0.111788604409,-4.12980228662 l-0.120743969455,-6.36989653111 0.321359932423,-2.24959403276 l0.459819026291,-1.22433163226 0.627976357937,-0.836113095284 l1.26694187522,-0.792242139578 0.838888064027,-0.125197814777 l1.5458907187,0.0925225671381 1.60288482904,0.964696407318 l1.31957128644,1.90108254552 0.810691043735,2.35404282808 l-0.0686964252964,1.22582651675 -0.327908731997,0.806986913085 l-0.579560399055,0.599444434047 -0.254689585418,0.0929194502532 l0.0189893774223,-0.0619984650984 -0.0607493007556,-0.142645873129 l0.186024513096,-0.507291294634 0.142185967416,-0.837500914931 l-0.0591609952971,-0.649811029434 -0.640717223287,-0.384565219283 l-1.0520093143,-6.04856541031e-05 -1.26556247473,0.277725569904 l-0.740073993802,0.444832332432 -0.580341480672,0.714580491185 l-0.556158982217,1.24937415123 -0.355015844107,2.08110511303 l-0.47483060509,2.00233563781 -0.528394728899,7.05363750458 l-0.426943898201,1.90633296967 -0.585354156792,1.53476655483 l-2.04790070653,3.52708220482 -0.96997231245,0.726360678673 l-1.69135630131,0.827197059989 -1.64771825075,0.37658225745 l-2.0467685163,0.110702356324 -0.999851897359,-0.168058201671 m0.174490343779,-1.1613060534 l0.225091092288,1.16631388664 5.47373656445e-05,5.45386493206 l-0.618838109076,3.85409206152 -1.39099687338,8.57470929623 l-0.114179579541,1.63497745991 0.295973792672,1.28498390317 l0.338912084699,0.51358114928 m4.13933694363,-21.3615727425 l0.357387140393,3.66887181997 0.164170321077,3.10560554266 l-0.277461260557,4.82256770134 -0.418339446187,2.10247397423 l0.000177712299774,3.47563415766 0.285429675132,2.07842335105 l0.207031555474,0.586624033749 0.29298549518,0.235761310905 m7.45270133018,-39.254693985 l-0.10098349303,1.1266720295 -1.11037768424,2.0946085453 l-0.881141722202,0.788178518414 -1.18403472006,0.839640945196 l-1.52996152639,1.19458071887 -2.28313758969,2.18454450369 l-1.31931632757,1.92388027906 -0.637758150697,1.81058987975 l-0.95981426537,3.96872401237 -0.68612806499,5.23990511894 l0.0451821833849,1.89237952232 m8.87616574764,-21.5186858177 l0.598286017776,-0.403366722167 0.612766556442,0.232932344079 l0.829727351665,1.76129609346 0.123293986544,5.28578281403 l-0.876463726163,2.38325148821 -1.04647368193,1.96632802486 l-1.46784231067,1.57148167491 -1.30652040243,0.474730357528 l-2.18808442354,0.328420475125 -1.54065221548,-0.14694753103 l-1.8484377861,-0.87950065732 m2.73940712214,11.1131393909 l0.779824703932,2.07190468907 2.24778920412,3.88899952173 l0.852978378534,2.48462811112 0.602671429515,1.17155730724 l0.241339486092,1.00000068545 m-3.31114917994,-1.44545778632 l2.15816885233,0.0851719733328 1.12306036055,0.179182905704 m-3.56041014194,-0.305188633502 l-0.560029260814,0.251017026603 -0.410523116589,0.565858073533 m1.55241668224,-1.48920595646 l1.10824540257,0.58224953711 2.84651905298,1.65052130818 m-3.66291314363,-2.24304169416 m78.5972679537,-23.5924103969 l-0.800447762012,1.19417071342 -1.29839196801,3.17360877991 l-1.4057816565,6.41939520836 -0.23096518591,3.5764336586 l0.0904473662376,1.43192753196 0.56121788919,1.63443207741 l0.524589046836,0.828164443374 0.809967294335,0.710838660598 l2.41852670908,0.932984650135 3.39887231588,0.514420457184 l3.94706845284,-0.447824895382 1.83929532766,-0.594859682024 l4.25888448954,-2.17586740851 1.60247340798,-1.26467183232 l0.888562351465,-1.01742483675 1.1472260952,-2.15333417058 l0.356440246105,-2.53145307302 -0.312594845891,-2.64085292816 l-0.722987577319,-1.64343908429 -1.02183558047,-1.29861578345 l-1.2664064765,-0.964671224356 -3.68066161871,-1.52325376868 l-4.32155787945,-0.556684993207 -2.56457746029,-1.35669063184e-05 l-1.340470016,0.491228699684 -1.19024582207,0.82556322217 l-1.37486070395,1.40169098973 m5.03129243851,-0.78221783042 l-0.178084019572,-2.66755253077 -1.10467121005,-7.91498959064 l-1.87564969063,-8.01401376724 -0.618937574327,-4.64156776667 l-0.421930514276,-1.62166163325 -0.581837818027,-1.56112134457 l-0.863464325666,-1.16512060165 -1.03169128299,-0.82039989531 l-1.24624542892,-0.547062978148 -2.65495985746,-0.505693927407 l-2.83957779408,0.312541909516 -2.54475057125,1.15088514984 l-1.37709453702,1.09161384404 -1.2762285769,1.40147805214 l-1.02016739547,1.62703692913 -0.456101186574,1.41425073147 l-0.0379354716279,1.4215515554 0.288836080581,1.0273425281 l0.761433541775,0.811074078083 1.12716563046,0.267778281122 l4.68063980341,-1.51522755623 1.59633740783,-0.516975559294 l2.39000722766,0.436183921993 m8.79757761955,36.1714935303 l0.00181636874913,8.10366511345 0.411352142692,5.12045562267 m2.65659928322,-15.6388759613 l-0.834329426289,10.7725656033 0.000154228910105,4.98737424612 m6.78359627724,-14.6021044254 l-0.151779372245,4.55346286297 0.425377823412,13.7041437626 l0.548390969634,3.63647639751 m55.8511659672,-38.5625492176 l0.561716482043,0.788548961282 2.76630491018,2.37190589309 l1.44347727299,0.465765409172 1.37771978974,0.111212721094 l5.30758678913,-0.317387059331 2.48238667846,-0.86556725204 l1.49632707238,-0.821917876601 1.32277175784,-1.04674644768 l0.663008987904,-1.29284366965 0.302247591317,-1.18551194668 l-0.0599987292662,-2.31777787209 -0.774165093899,-1.66326597333 l-1.63157045841,-1.46254882216 -3.1410112977,-1.01949125528 l-3.29555928707,0.151472995058 -2.33650907874,0.756285712123 l-2.34446167946,1.14931069314 -2.07325905561,1.6949737072 l-1.15234315395,1.4176183939 -0.725947618484,1.51888355613 l-0.255530495197,1.72478660941 0.183280277997,0.727467313409 l1.25606745481,1.07768453658 m9.17668581009,-8.25213849545 l0.0332616921514,-1.99175879359 0.0840628892183,-2.4857096374 l0.483940541744,-2.46546268463 0.695010200143,-2.12588369846 l0.879845172167,-1.86043307185 0.887767150998,-1.17227964103 l1.18911005557,-1.13456174731 1.33237615228,-0.57358045131 l2.0177076757,-0.350379012525 2.89298176765,0.200958140194 l1.48271068931,0.958140566945 1.832588166,2.83930301666 l0.540181659162,2.23837539554 0.115918014199,2.5947740674 l-0.232026483864,1.71452537179 -0.550393350422,1.47495090961 l-1.11766114831,1.34793147445 -1.40988856554,0.723219066858 l-1.73487097025,-0.128262257203 -1.9854336977,-0.803415924311 l-1.49262994528,-1.41128599644 -1.01832285523,-1.81462436914 l-0.366988144815,-2.19203859568 0.0888981297612,-1.81356623769 l0.73055639863,-2.26618796587 m-7.16650307178,19.9116516113 l-0.152783291414,3.61575812101 -0.534743368626,8.86299490929 l-0.91991700232,7.70380675793 -0.676571130753,3.2925054431 l-0.541814826429,1.75041288137 m7.92194485664,-24.644780159 l1.46447554231,8.93567144871 0.839364528656,8.8981962204 l0.263951588422,6.82073235512 -0.499748513103,2.66457587481 m81.544191521,-54.6361780346 l-0.958731770515,0.114539833739 -1.35895937681,1.32865905762 l-1.01192630827,1.55930355191 -0.776171386242,2.2245106101 l-0.201425906271,1.65123999119 0.42280472815,2.071467489 l0.821357443929,0.774684548378 3.43964666128,0.486551299691 l1.523732692,-0.709772855043 0.955362319946,-1.19288481772 l1.03027388453,-2.78954476118 0.0998401641846,-1.42923727632 l-0.202957242727,-1.18249841034 -1.21210888028,-1.97896271944 l-1.207973212,-0.979695320129 -1.12453080714,-0.44497705996 m-2.49161720276,7.7928429842 l-0.341828800738,2.84292727709 -1.49960279465,9.46726977825 l-0.191087797284,7.79129505157 0.409078411758,6.25811219215 m5.20138442516,-25.2787995338 l0.274074953049,11.5508282185 0.273618828505,3.94290298223 l-0.32230887562,4.41851049662 0.354591086507,-0.00120816002891 m-4.8531499505,-22.5950908661 l-1.1601600796,-1.22842021286 -4.66292530298,-3.13798606396 l-2.60235995054,-1.20841510594 -1.76904037595,-0.533070601523 l-4.07912433147,-0.601753182709 -5.7162719965,-0.0193160807248 l-1.38076201081,0.335504375398 -2.58805036545,2.07141235471 l-1.24107189476,1.49639964104 -0.946673303843,2.69842147827 l-0.22197432816,1.44371256232 0.166094284505,2.00015813112 l0.372418873012,0.874955058098 0.646157190204,0.791597142816 l1.26964703202,0.794891491532 2.51506328583,0.83437897265 l1.8906493485,0.256103016436 4.70155060291,-0.883881673217 l5.34704148769,-1.75168335438 5.89289665222,-1.84191659093 l1.34576261044,-0.0995711237192 0.863875597715,0.302082765847 l1.17221482098,1.60853713751 0.432814843953,1.14944398403 m0.601682811975,8.2486552 l0.45402392745,3.81427645683 2.5374263525,9.69368517399 l1.61324620247,4.97482150793 0.79488620162,3.96115988493 l0.386255718768,5.33666670322 0.352097079158,1.01243957877 l0.142723312601,2.68945932388 -0.541317276657,2.36783802509 m-8.18831086159,-30.497906208 l-0.355983786285,1.31772339344 -3.11152845621,11.6893064976 l-1.96918457747,7.2734695673 -0.804664194584,4.8837056756 l4.4861162678e-05,3.50881993771 0.487122200429,2.35717147589 l-0.0499639194459,2.55458265543 -0.284238234162,1.25557079911 m3.5471868515,-30.3981947899 l1.17560900748,1.46862983704 1.74175471067,1.42041966319 l2.72552937269,1.35783985257 3.52863758802,1.14555381238 l5.29351770878,1.09116144478 4.00626063347,0.3643579036 l2.08536401391,-0.113116772845 1.1685436219,-0.313967689872 l0.94683714211,-1.38093739748 0.703748390079,-4.84690368176 l-0.20731234923,-3.7191131711 -0.496985018253,-1.03415891528 l-1.43305703998,-1.65907233953 -2.38261774182,-1.19058459997 l-6.21133208275,-1.516020298 -3.56307864189,-0.124761648476 m59.8128087138,-12.7432679594 l-0.033643101342,11.1036920547 -0.423183850944,2.70498007536 m3.50463718176,2.47018367052 l0.00143156663398,0.413313135505 -1.13444849849,2.2542513907 l-0.476514808834,1.99210241437 -0.000150827027028,2.66793042421 l-9.87715975498e-05,3.6794641614 0.655047520995,3.72916042805 l0.786031261086,1.80577352643 2.7154764533,3.12993168831 l2.07219287753,1.51313364506 2.56171882153,1.12545132637 l3.12361240387,0.817526876926 3.74028593302,0.552713945508 l5.05397975445,-5.42009547644e-05 2.82282471657,-0.752285420895 l1.25636175275,-0.528859421611 1.39939442277,-0.949395224452 l1.83050259948,-1.70913219452 1.76804542542,-2.831338346 l0.808100253344,-3.06363463402 -0.505880787969,-2.50121831894 l-1.49093806744,-2.59079933167 -1.40829846263,-1.56794190407 l-2.65294700861,-1.39760345221 -3.55597704649,-0.831722542644 l-6.41353547573,-0.55650960654 -4.9788543582,0.013534266036 l-3.31735163927,-0.000109860029625 -4.56305861473,0.266254711896 l-1.0768148303,-0.295330509543 -0.548561736941,-0.821619555354 l-0.704940110445,-2.36880093813 6.58164208289e-05,-3.80482316017 l0.538089349866,-2.1759968996 0.703893005848,-3.92789781094 l-0.0866332370788,-3.18470299244 -0.629252046347,-2.97306776047 l-0.653302446008,-1.6381829977 -1.31062120199,-0.784529149532 l-2.10793614388,-4.40401618107e-05 -1.57331421971,0.831236764789 l-1.49484798312,1.56522735953 -1.02235630155,2.34810575843 l0.0704328902066,2.29295819998 1.29273071885,-0.358704961836 l1.36667877436,-0.588382594287 1.6647541523,-1.58746019006 l0.798011869192,-0.30593354255 1.66175931692,-0.0833119545132 m13.4819841385,36.4035010338 l-0.220377985388,13.7363576889 0.785567164421,6.96601688862 l0.175801012665,5.05626261234 -1.21641337872,-0.00573732540943 m1.6547717154,-26.5798068047 l0.0837594550103,3.05323719978 0.430138632655,1.8636675179 l8.70407347975e-05,10.5252325535 0.808201879263,7.17664480209 l0.139218205586,5.027333498 -2.54930955634e-05,1.16275250912 l0.373996198177,0.863151922822 1.34232491255,0.510643050075 m65.76900526,-30.6916937348 l-0.0336422864348,16.1615741253 0.498184971511,3.25785398483 l-0.00058910005464,5.75634717941 0.294578764588,3.05834084749 m4.59041535854,-29.1657686234 l0.393172800541,5.10442376137 -0.116459932178,5.39585351944 l0.609971173108,11.34552598 9.99257463263e-05,5.77671587467 m-5.94944655895,-28.5452628136 l0.607566274703,0.017267910298 0.954608544707,0.952618792653 l0.704719051719,1.50139272213 2.30636879802,3.43980491161 l1.43158778548,2.98756450415 0.662596151233,0.828366577625 l1.47609576583,0.922955423594 2.19045057893,2.06446839002e-05 l1.78190305829,-0.946165025234 0.774527564645,-0.770009532571 l1.17696277797,-2.2150836885 0.483646802604,-2.20895677805 l2.24599102694e-05,-3.7042427063 -0.411984324455,-1.23756319284 l-0.846116170287,-1.29265889525 -1.14891707897,-1.10198736191 l-4.28305149078,-1.55799880624 -2.4823333323,-0.29325697571 l-4.7835868597,0.330139361322 -1.07640936971,0.476170815527 l-0.775981396437,0.542637594044 -0.588096641004,0.926009863615 l0.000127322209664,2.76292681694 0.60273360461,0.71444876492 l0.553625300527,0.31627163291 m9.57714080811,-2.83030718565 l-0.281260050833,-0.840510427952 -0.714135095477,-2.24990472198 l-0.791594013572,-4.52430158854 -0.000118346124509,-5.37934482098 l0.454608462751,-3.0728662014 1.23426452279,-4.13100868464 l1.18359453976,-1.8442030251 0.693881437182,-0.677352845669 l1.50911659002,-0.594390295446 3.08949112892,-4.39243058281e-05 l2.6812517643,0.500894412398 0.538073331118,0.516457818449 l0.367518700659,0.658082813025 0.210192780942,0.519526824355 l0.138321295381,1.40753567219 -0.610360838473,0.521890558302 l-0.960502848029,0.372968912125 -1.81687667966,0.142480861396 l-0.824373811483,-0.203016884625 0.000115932061817,0.0347543717362 l-8.84011024027e-05,2.16377675533 -1.01396732032,2.76995450258 l-0.546116232872,0.800452008843 -1.19152531028,3.69995385408 l-0.355080813169,5.17754435539 0.00673199247103,3.48893105984 l-0.237933285534,1.82131767273 -0.388857908547,1.00992776453 m64.4206940626,-29.1638280899 l-0.793324485421,-0.278702322394 -3.46961319447,0.0136304227635 l-1.46551534534,0.385809130967 -2.92788594961,1.64465218782 l-1.80630013347,1.46624282002 -1.44461199641,2.09184274077 l-0.713580325246,2.42886051536 -0.076123685576,1.9525077939 l0.726417154074,1.86148390174 1.24772615731,1.41337528825 l2.8630182147,1.96063697338 2.75311142206,0.918453633785 l3.0052703619,0.445590429008 3.38198363781,0.0650055194274 l2.84834593534,-0.529858097434 2.45678544044,-0.979732125998 l2.02349081635,-1.44585981965 1.48520991206,-2.06509843469 l0.823033303022,-2.65166580677 -0.245210044086,-3.19367796183 l-0.687534362078,-1.9718849659 -1.49650871754,-2.27329224348 l-1.41013711691,-1.22884124517 -1.82078838348,-0.968004316092 l-1.91786810756,-0.546497777104 -1.68970376253,-0.174245014787 l-2.07640528679,0.633658021688 -1.2149271369,0.858073458076 l-1.2829387188,1.49692356586 m-1.54412120581,15.0531220436 l-0.393161512911,1.93461313844 7.39914275982e-05,6.1692070961 l0.447160229087,14.1346585751 0.377246253192,2.82557100058 m7.59645998478,-25.4515242577 l-0.240021720529,1.35987207294 1.89644649625,14.1218960285 l0.000219148369069,5.00874340534 0.226947758347,-0.517870858312 l0.962357595563,-1.1062913388 0.385332219303,-0.382486619055 l0.879385843873,-0.11619605124 0.193156730384,-0.0401508389041 m-8.82580220699,3.82946848869 l-0.342955328524,0.929766148329 -0.108942100778,2.34360992908 l-0.000111086128527,1.13959662616 m1.73275619745,-5.18870532513 l3.94967973232,3.27388375998 1.18111215532,1.27404972911 m-5.63505530357,-5.59464395046 l-1.00074984133,0.565736033022 -1.79857358336,2.15527907014 l-0.785324722528,1.43087267876 m10.0596654415,-41.6457080841 l0.132520059124,-1.2000400573 0.463651567698,-0.899922996759 l2.88538128138,-4.72528100014 2.63012766838,-2.86524683237 l1.46183818579,-1.01753741503 1.53110891581,-0.571189336479 l2.64783501625,-0.288490094244 3.29240322113,-0.35072863102 l1.46022200584,0.0563966808841 1.06394328177,0.449155718088 l0.677471607924,0.892700925469 0.454149879515,1.93187072873 l0.0461373431608,3.07185262442 -0.527732893825,2.10653781891 l-0.731193125248,1.32250353694 -1.73621490598,1.7959870398 l-1.57498463988,1.04367509484 -2.11891621351,0.707050561905 l-4.76166278124,0.346715822816 -1.91933736205,-0.298311971128 l-2.3162008822,-1.00028127432 -1.35036379099,-0.886110439897 l-0.797193944454,-1.11879967153 0.724076032639,-1.46248400211 m20.276529789,-4.74510639906 l3.99683654308,1.61074563861 3.24272215366,1.54693111777 l1.72528877854,1.16760082543 -7.92133748531,0.479456670582 l-4.63598310947,-0.12253430672 m70.7238908528,-9.69405606156 l0.79856492579,-0.125033613294 3.45074057579,0.529203936458 l2.00258553028,0.879179909825 1.3245780766,0.934910401702 l2.17645943165,2.62739688158 1.59636437893,2.20984056592 l4.4953340292,7.62121140957 1.69478595257,4.20186132193 l0.243486911058,1.29398047924 -0.291136782616,0.937356203794 l-0.915480107069,1.02079957724 -1.93522632122,1.37977167964 l-2.60870933533,1.08179330826 -2.45512917638,0.512819476426 l-3.26971441507,0.161257721484 -1.24488659203,-0.1556428615 l-2.59638518095,-0.732277929783 -2.84276872873,-1.48400560021 l-1.09907783568,-0.928235650063 -0.771931558847,-1.059640944 l-0.983171090484,-2.25878506899 -0.359855890274,-2.12153583765 l0.000154746376211,-2.46473804116 0.469205081463,-2.19942003489 l1.62344753742,-3.55363994837 1.97932928801,-2.71078795195 l3.53601157665,-3.35897266865 2.69094765186,-1.6978636384 l1.87124356627,-1.34106054902 1.63576021791,-0.753924921155 l1.5111361444,-0.24801030755 2.41559833288,0.289740338922 l1.0981131345,0.532747507095 0.714374259114,0.915592685342 l0.371714904904,0.884672701359 0.00803504080977,0.883289426565 l-0.504685118794,1.1702106148 -0.860913470387,1.03752538562 l-1.19510918856,0.777974054217 -1.414167732,0.557228177786 l-1.80846571922,0.400658585131 -3.28826576471,0.0693649845198 l-2.76826858521,-0.67628018558 -0.807776004076,-0.636017248034 m-3.25872808695,-1.48731008172 l-4.28385227919,-2.43986696005 -2.77984440327,-0.782894864678 l-5.13444662094,-0.329804457724 -2.86042422056,0.522050820291 l-4.55300331116,1.81226566434 -1.05256184936,0.693264454603 l-0.406320504844,0.585696026683 -0.153921600431,1.34240731597 l0.817164853215,2.12551563978 1.04771845043,1.4596568048 l1.2229514122,1.07063896954 1.82803660631,0.957837030292 l2.19420015812,0.584149882197 3.9168637991,0.0507301837206 l5.18354296684,-0.976024717093 2.36516103148,-0.582859553397 l1.50441482663,-0.610966719687 0.55081769824,-0.444683134556 m2.22353965044,16.4024925232 l-0.202962141484,6.41108036041 0.67201949656,18.1398689747 l-0.281344559044,6.29608511925 -0.39662733674,2.02650979161 l-0.766443833709,2.12385579944 -0.414381437004,-1.25357151031 l-0.296283066273,-1.3635289669 1.58686518669,0.278331767768 l2.71675735712,1.07202745974 0.0119620549958,-0.0261291465722 l-1.39818921685,-0.369330383837 -3.54554533958,-0.934906303883 l1.70503407717,-0.286243576556 m1.76969438791,-33.0425691605 l-0.114673264325,1.88351139426 0.975665748119,4.45077717304 l0.757985636592,6.29630565643 1.45450451328e-05,6.81279122829 l-0.341756567359,3.47958981991 7.95950018073e-05,5.05942821503 l0.791508182883,0.065332101658 1.01968146861,-1.775778234 l0.452378802001,-0.424483455718 1.34166672826,1.21299669147 l-0.155722890049,-0.500417463481 -0.941625088453,-0.993789508939 l0.0095664919354,0.290016420186 0.596047304571,0.522091686726 l1.1239220947,0.541246086359 -0.184331052005,0.395331457257 l-0.527030415833,-0.0978239160031 m62.4272904099,-31.4960562619 l-0.772337019444,0.750757232308 -1.80500403047,2.6624545455 l-1.18421293795,2.19121277332 -0.467365793884,2.10095182061 l-0.0981960538775,2.23026111722 0.787890478969,1.42736777663 l4.72435384989,4.04366910458 2.20520883799,0.803350582719 l4.19223636389,0.664893165231 9.87744271755,-0.164344329387 l2.28689566255,-0.861133337021 2.51249313354,-1.66894361377 l1.4036463201,-1.91753804684 0.647245571017,-1.49358585477 l-0.387050248682,-2.57607340813 -1.72130182385,-1.96802869439 l-2.13346138597,-1.69196307659 -2.41663038731,-1.37383818626 l-3.24211508036,-1.42137676477 -3.59564274549,-0.934684351087 l-3.48399937153,-0.281173642725 -4.35980021954,1.13438591143e-05 l-2.37510100007,0.443353168666 m5.60111343861,16.1615669727 l0.163126122206,0.87062433362 -0.356305800378,5.51203072071 l7.00424061506e-05,6.3413476944 -0.357598103583,3.73837321997 l-4.81810866404e-05,2.86089301109 -0.534770004451,3.18622946739 m6.22478663921,-21.3248705864 l0.0893919635564,13.0363404751 0.39492122829,4.36392396688 l-0.0135176011827,2.11010530591 0.000219284847844,1.58515661955 l-0.923369899392,0.4934970662 m-4.09702390432,-39.2774510384 l0.591842345893,-2.99154073 0.506966933608,-2.08171233535 l0.000137684728543,-8.28066527843 -1.17758542299,-2.9608631134 l-1.76273435354,-1.89077466726 -2.09027990699,-0.920008122921 l-3.15350264311,-0.393666103482 -1.88343718648,-7.25424024495e-05 l-3.32118391991,0.970056280494 -0.83619594574,0.518580265343 l-0.774457380176,0.956135243177 -0.614892989397,1.53531894088 l6.54160385238e-05,1.38620153069 1.18077300489,1.69244274497 l0.824604853988,0.525401644409 2.0239841938,-1.29485670186e-05 l1.09660029411,-0.800605416298 0.856117084622,-1.79868176579 l0.289739761502,-2.2385789454 -0.0306037790142,-0.972466319799 l4.44979923486e-05,-0.985879600048 1.43980816007,-0.444105155766 l2.46169045568,0.205991193652 0.659569129348,0.780478641391 l0.792060494423,1.99548572302 0.00343563733622,2.79422909021 l-0.979941040277,8.04238200188 -0.229087118059,3.52613925934 m-7.10653781891,-15.9653151035 l-0.642810240388,-0.166901927441 -1.94447159767,-0.141986785457 l-1.35786727071,0.422911643982 -1.07593774796,0.696746185422 l-1.17334879935,1.50094166398 -0.722969472408,2.20284074545 l0.000129243499032,1.60063147545 0.459835864604,0.549725554883 l1.19938403368,0.330937430263 2.59841948748,-0.17346251756 l2.61799901724,-1.165753901 1.26307100058,-1.00491315126 l1.20629496872,-1.90920457244 0.409673303366,-1.97204053402 l-0.341668576002,-0.716896280646 -1.69304147363,-6.42361419523e-05 l-1.33264824748,4.59902094008e-05 -2.55667001009,0.572446286678 l-0.899034887552,0.542530305684 -0.464958846569,0.655062124133 l0.129576213658,0.968171730638 0.695661604404,0.496070981026 m2.07970187068,1.6372255981 l-1.62933021784,1.76428347826 -0.822135135531,1.6787597537 l-0.66892594099,2.04569935799 -1.25278145075,1.95277228951 l0.000110420714918,0.320713333786 0.699546933174,-0.992272347212 l1.37846440077,-2.21151828766 1.00736103952,-1.5215626359 l1.66341811419,-1.79645046592 0.420863293111,-0.892041251063 l0.434372238815,-0.379492789507 m88.7656952938,33.8566040966 l-0.0336437462829,6.10702693462 1.07201687992,8.04415762424 l0.468653216958,2.51586258411 0.000214536303247,5.17198383808 m5.69184064865,-23.6435961723 l0.000213964613067,11.2822318077 1.30427956581,6.77139639854 l0.254983752966,2.59681016207 -0.228346697986,1.14255569875 m-6.68843984604,1.14827245474 l-1.17674291134,1.11146919429 -0.836412832141,1.44930616021 l-0.400780551136,1.25925526023 -0.146321989596,1.74998059869 m4.90459024906,-5.99162220955 l0.980379059911,0.827265828848 0.981535464525,1.61614626646 l1.4729180932,1.34299233556 1.12659819424,0.615130960941 m-1.56707778573,-5.60484111309 l-0.0481420569122,0.972302854061 m-4.57619518042,-2.24274232984 l-0.127611765638,1.78324982524 0.744062140584,2.8029435873 m0.9995765239,-4.17313992977 l-0.170032959431,0.884481221437 0.599691607058,2.57961928844 l0.510171353817,0.955408066511 m-0.493804775178,-4.8642256856 l-0.510254688561,1.16493865848 -2.41233379938e-07,2.80309677124 l0.407617017627,1.23210325837 m-8.36762845516,-34.599916935 l0.0321266474202,1.97213768959 0.733120441437,1.96688041091 l2.21377894282,2.90578842163 2.95239418745,1.85569018126 l2.85947024822,0.955328792334 3.06364148855,0.56248344481 l3.60593646765,-9.16091084946e-05 1.23279973865,-0.307606998831 l1.23568385839,-0.959504023194 1.13350115716,-1.58936083317 l0.782643258572,-4.18377935886 -2.98610984828e-05,-4.15406286716 l-1.2079603225,-3.32394212484 -1.10638894141,-1.81025758386 l-1.85835435987,-1.56990855932 -1.16426855326,-0.454741343856 l-3.25000375509,-2.21436312131e-05 -1.06760501862,0.0818374101073 l-1.54943197966,0.532702095807 -1.64125040174,1.05539523065 l-2.40178793669,2.16035187244 -1.22492983937,1.47042319179 l-1.7845544219,3.37948322296 m5.64370751381,3.19819927216 l-0.482329316437,0.385317802429 -2.01649799943,1.19875147939 l-0.120484381914,0.560055412352 0.0078938738443,6.58686667521e-05 l0.382767468691,0.401659086347 -0.68116530776,0.688958838582 l0.128657482564,0.330713018775 1.24244444072,-1.73296689354e-05 l2.79485404491,-0.156356077641 1.12483888865,-0.324978046119 l1.00334122777,-0.581404007971 1.3749319315,-1.39734700322 l0.364782698452,-0.338026583195 0.453613139689,-0.533532127738 l0.0766571052372,-1.2328016758 m-4.38203305006,-5.6817394495 l-0.149303283542,-1.6838863492 -0.000171269330167,-6.50372803211 l-0.0355581426993,-8.79210710526 -0.859044119716,-4.08924221992 l-1.02311551571,-1.4267487824 -1.39900028706,-1.01992294192 l-2.08348631859,-0.501941330731 -3.37872713804,2.52755694419e-05 l-2.61669635773,1.79647192359 -1.07992060483,1.37293741107 l-1.38304337859,3.17009598017 -0.222221240401,1.17835879326 l0.138456551358,1.0133934021 2.95350581408,2.4306088686 l4.07112568617,0.472516082227 3.10725390911,-5.81647918807e-05 l1.52662292123,-0.284984856844 0.467337928712,-0.454955436289 l0.000135693790071,-1.97942629457 -0.929044783115,-2.48740062118 l-0.598498173058,-0.769411325455 -0.779059752822,-0.567689798772 \" fill=\"none\" stroke=\"black\" stroke-width=\"1\"/></svg>"
          },
          "metadata": {
            "tags": []
          }
        }
      ]
    },
    {
      "metadata": {
        "id": "L-rJ0iUQFQvl",
        "colab_type": "text"
      },
      "cell_type": "markdown",
      "source": [
        "Let's load the owl model, and generate two sketches using two random IID gaussian latent vectors"
      ]
    },
    {
      "metadata": {
        "id": "of4SWwGdFQvm",
        "colab_type": "code",
        "colab": {}
      },
      "cell_type": "code",
      "source": [
        "model_dir = '/tmp/sketch_rnn/models/owl/lstm'"
      ],
      "execution_count": 0,
      "outputs": []
    },
    {
      "metadata": {
        "id": "jJiSZFQeFQvp",
        "colab_type": "code",
        "colab": {
          "base_uri": "https://localhost:8080/",
          "height": 255
        },
        "outputId": "f84360ca-c2be-482f-db57-41b5ecc05768"
      },
      "cell_type": "code",
      "source": [
        "[hps_model, eval_hps_model, sample_hps_model] = load_model_compatible(model_dir)\n",
        "# construct the sketch-rnn model here:\n",
        "reset_graph()\n",
        "model = Model(hps_model)\n",
        "eval_model = Model(eval_hps_model, reuse=True)\n",
        "sample_model = Model(sample_hps_model, reuse=True)\n",
        "sess = tf.InteractiveSession()\n",
        "sess.run(tf.global_variables_initializer())\n",
        "# loads the weights from checkpoint into our model\n",
        "load_checkpoint(sess, model_dir)"
      ],
      "execution_count": 59,
      "outputs": [
        {
          "output_type": "stream",
          "text": [
            "INFO:tensorflow:Model using gpu.\n",
            "INFO:tensorflow:Input dropout mode = False.\n",
            "INFO:tensorflow:Output dropout mode = False.\n",
            "INFO:tensorflow:Recurrent dropout mode = False.\n",
            "INFO:tensorflow:Model using gpu.\n",
            "INFO:tensorflow:Input dropout mode = 0.\n",
            "INFO:tensorflow:Output dropout mode = 0.\n",
            "INFO:tensorflow:Recurrent dropout mode = 0.\n",
            "INFO:tensorflow:Model using gpu.\n",
            "INFO:tensorflow:Input dropout mode = 0.\n",
            "INFO:tensorflow:Output dropout mode = 0.\n",
            "INFO:tensorflow:Recurrent dropout mode = 0.\n",
            "INFO:tensorflow:Loading model /tmp/sketch_rnn/models/owl/lstm/vector.\n",
            "INFO:tensorflow:Restoring parameters from /tmp/sketch_rnn/models/owl/lstm/vector\n"
          ],
          "name": "stdout"
        }
      ]
    },
    {
      "metadata": {
        "id": "vR4TDoi5FQvr",
        "colab_type": "code",
        "colab": {
          "base_uri": "https://localhost:8080/",
          "height": 141
        },
        "outputId": "db08cb2c-952c-4949-d2b0-94c11351264b"
      },
      "cell_type": "code",
      "source": [
        "z_0 = np.random.randn(eval_model.hps.z_size)\n",
        "_ = decode(z_0)"
      ],
      "execution_count": 60,
      "outputs": [
        {
          "output_type": "display_data",
          "data": {
            "text/plain": [
              "<IPython.core.display.SVG object>"
            ],
            "image/svg+xml": "<svg baseProfile=\"full\" height=\"120.184078347\" version=\"1.1\" width=\"98.8725474746\" xmlns=\"http://www.w3.org/2000/svg\" xmlns:ev=\"http://www.w3.org/2001/xml-events\" xmlns:xlink=\"http://www.w3.org/1999/xlink\"><defs/><rect fill=\"white\" height=\"120.184078347\" width=\"98.8725474746\" x=\"0\" y=\"0\"/><path d=\"M41.5331514304,47.8121304913 m-0.132065089419,-0.818965733051 l-1.78446769714,-4.37339872122 -0.449359863997,-1.68071240187 l0.000442053933511,-3.18809241056 0.000388614498661,-3.89637112617 l0.346569791436,-1.25295981765 1.10776923597,-1.88584446907 l1.73459753394,-1.50131702423 2.03410193324,-0.757536664605 l1.99948683381,-0.00102532932942 0.786211192608,0.968269556761 l0.787319988012,2.56595700979 0.000546700066479,4.06032085419 l-0.822296440601,3.35661351681 -1.45263329148,2.40721821785 l-1.8565261364,1.62552013993 -2.165376544,0.877661034465 l-1.34748280048,0.000444044126198 m15.3083527088,-0.802424028516 l-1.47368788719,-1.27479910851 -1.06197156012,-2.65573889017 l0.000208061137528,-4.3788933754 0.000424580211984,-4.40278887749 l0.612830072641,-1.24189786613 0.911226272583,-0.867653787136 l2.1902307868,-0.0012513724505 2.43894606829,-4.11187374993e-05 l1.87056452036,0.885151997209 1.50832056999,1.92514464259 l0.857977494597,2.64217227697 0.00038065478293,4.15196985006 l-0.435804836452,1.60096615553 -1.34428799152,2.02306777239 l-1.8200494349,1.43815994263 -2.15610936284,0.813227519393 l-1.99906826019,-0.00274521386018 -0.792735591531,-0.654452368617 m-5.3206551075,-0.570695027709 l0.650407522917,3.24591726065 0.431762933731,3.05901706219 l1.05495944619,0.348732098937 1.48608103395,-3.38784664869 l0.99411688745,-2.4404284358 m-12.5001680851,-17.9557824135 l-1.74334436655,-0.494269132614 -2.9695045948,-0.319730080664 l-1.87135264277,0.192461144179 -3.49551528692,1.5555383265 l-2.48406752944,2.06320300698 -1.80969551206,2.53702431917 l-1.31562590599,3.0613130331 -1.043523103,5.44697701931 l0.000178788177436,6.89047813416 0.852816924453,4.29370284081 l2.60408937931,6.39090538025 2.51832842827,4.09500092268 l5.35060226917,7.79427945614 2.07839220762,4.61394906044 l1.2106475234,4.54003036022 0.788104310632,4.97067660093 l0.452739298344,5.35718619823 0.114500746131,3.70851904154 l-0.181541219354,2.67283350229 m2.99266695976,-69.4676494598 l3.46948355436,-0.592494606972 4.990683496,-0.0154769234359 l7.8266787529,0.000340488804795 3.68951737881,0.682502835989 l3.12869757414,1.26171424985 2.70443201065,1.93808957934 l2.12300464511,2.56196171045 1.39556929469,3.11388999224 l0.762749612331,3.80722731352 0.000205539708986,6.73621177673 l-0.92931471765,4.54613059759 -1.62916317582,4.4717541337 l-4.26714062691,10.0283360481 -1.95177778602,5.89771330357 l-1.39518469572,6.74194931984 -0.816034302115,6.8567699194 l0.000380763995054,5.70140123367 0.916537940502,3.6203455925 m-24.9645543098,-40.7061433792 l-0.676299929619,1.41931325197 \" fill=\"none\" stroke=\"black\" stroke-width=\"1\"/></svg>"
          },
          "metadata": {
            "tags": []
          }
        }
      ]
    },
    {
      "metadata": {
        "id": "ZX23lTnpFQvt",
        "colab_type": "code",
        "colab": {
          "base_uri": "https://localhost:8080/",
          "height": 124
        },
        "outputId": "247052f2-a0f3-4046-83d6-d08e0429fafb"
      },
      "cell_type": "code",
      "source": [
        "z_1 = np.random.randn(eval_model.hps.z_size)\n",
        "_ = decode(z_1)"
      ],
      "execution_count": 61,
      "outputs": [
        {
          "output_type": "display_data",
          "data": {
            "text/plain": [
              "<IPython.core.display.SVG object>"
            ],
            "image/svg+xml": "<svg baseProfile=\"full\" height=\"103.156437427\" version=\"1.1\" width=\"76.648305431\" xmlns=\"http://www.w3.org/2000/svg\" xmlns:ev=\"http://www.w3.org/2001/xml-events\" xmlns:xlink=\"http://www.w3.org/1999/xlink\"><defs/><rect fill=\"white\" height=\"103.156437427\" width=\"76.648305431\" x=\"0\" y=\"0\"/><path d=\"M30.8883420622,36.6583835035 m-0.995773300529,-0.962532013655 l-1.25780984759,-0.218019597232 -1.40090942383,0.992660149932 l-0.372393801808,1.26535490155 0.000324942920997,2.54081487656 l2.14915663004,1.37105837464 2.84446626902,-0.038248966448 l1.78298652172,-1.40427827835 0.542310960591,-1.2151530385 l0.000573818178964,-1.9342289865 -1.05938784778,-0.939038023353 l-1.65580317378,-0.310601554811 -1.80457934737,-0.000348676258 m14.6391928196,-0.161158926785 l-2.02486693859,-0.307609159499 -1.20914362371,0.38025662303 l-0.739323794842,1.18445441127 0.000388190856029,2.24003642797 l0.622321628034,1.16408839822 1.26943454146,0.639028996229 l2.31054648757,-0.00103231774119 1.11591532826,-1.05773642659 l0.44213116169,-1.17794558406 0.000388732260035,-1.77200719714 l-1.0331839323,-0.994495749474 -1.20821401477,-0.38865339011 m-16.152588129,-3.77420336008 l-0.467010885477,-1.32236272097 0.000216794560401,-2.23593533039 l0.536889433861,-0.951604396105 1.89497917891,-1.54288008809 l1.02331995964,-0.484534986317 1.67512059212,2.78331547976 l1.01098768413,2.12751790881 1.01871103048,0.583166591823 l2.8339150548,-0.00180373142939 3.3438757062,-0.00134693458676 l1.97848573327,-0.408469550312 1.85415565968,-2.65968948603 l1.46219432354,-1.96148216724 0.988113284111,-0.702736005187 l0.665459409356,1.20057038963 0.367847532034,3.80023956299 l0.896093249321,2.48109221458 1.19089074433,2.09763258696 l1.12107351422,2.68811970949 0.558211691678,2.99764633179 l0.000272821780527,4.86015558243 -0.471499115229,2.04992577434 l-1.32380709052,2.65444427729 -2.05463215709,2.4544724822 l-1.53617039323,1.19459815323 -2.56061851978,1.20031863451 l-1.98727488518,0.490378327668 -3.72636377811,-0.00252463243669 l-3.93502652645,-0.00249128468568 -4.22447443008,-1.91017463803 l-1.24039359391,-0.983265340328 -1.62764251232,-2.204002738 l-1.05991430581,-2.19169437885 -0.900488123298,-3.36152017117 l0.000405741848226,-5.28376400471 0.902573391795,-2.9702681303 l1.1107198149,-2.02355161309 1.63499593735,-1.74139678478 m1.9375500083,13.9832317829 l0.312917456031,1.85824751854 0.11474234052,4.12313699722 l-0.0538875116035,7.91432976723 -0.643966719508,4.88242715597 l0.000561536653549,5.3577375412 1.29527136683,2.97560691833 l1.7825640738,2.00202897191 m16.6705226898,-28.1058692932 l0.00361886399332,1.26658275723 0.000215576201299,6.46810352802 l-0.537006482482,6.70796096325 -0.929316952825,6.25021696091 l-1.0363136977,3.4180906415 -1.37526676059,2.76081353426 l-1.60482779145,1.93586409092 -1.80750474334,1.16599790752 l-2.25972115993,0.696989372373 -3.09742212296,-0.00153533750563 l-3.02612900734,-1.44728317857 -1.41145452857,-1.26603841782 l-0.82351744175,-1.33597552776 m3.1371742487,-28.3551907539 l-0.547703653574,1.39112636447 0.000170127077581,3.94152343273 l-0.315908491611,3.29748153687 0.000404399033869,5.2682608366 l0.397268608212,3.4574136138 0.783703550696,2.95529693365 l1.17390699685,2.57992863655 1.51531383395,2.06996172667 l1.84660971165,1.4368082583 2.14215010405,0.769138410687 l2.56978332996,-0.00158462222316 1.12708255649,-0.430434010923 l1.45648032427,-1.51706874371 1.08785569668,-2.03530088067 l0.758628696203,-2.57168382406 0.000484488446091,-6.29753828049 l-1.50331735611,-7.86222159863 -0.973793566227,-2.93035626411 l-1.37418434024,-2.40955933928 m-8.96973013878,5.24879395962 l0.316646844149,3.97685259581 -0.293312165886,5.00504136086 l-1.03661946952,4.10920888186 -1.09365604818,2.68685340881 l-1.08828380704,1.99293076992 m12.7954661846,-18.26218009 l-0.208275709301,1.44114002585 0.000343079009326,6.0398119688 l0.660030916333,4.37685281038 1.24237768352,3.50796490908 l1.68879404664,2.58156120777 1.7774233222,1.44173279405 \" fill=\"none\" stroke=\"black\" stroke-width=\"1\"/></svg>"
          },
          "metadata": {
            "tags": []
          }
        }
      ]
    },
    {
      "metadata": {
        "id": "7FjQsF_2FQvv",
        "colab_type": "text"
      },
      "cell_type": "markdown",
      "source": [
        "Let's interpolate between the two owls $z_0$ and $z_1$"
      ]
    },
    {
      "metadata": {
        "id": "u6G37E8_FQvw",
        "colab_type": "code",
        "colab": {}
      },
      "cell_type": "code",
      "source": [
        "z_list = [] # interpolate spherically between z_0 and z_1\n",
        "N = 10\n",
        "for t in np.linspace(0, 1, N):\n",
        "  z_list.append(slerp(z_0, z_1, t))\n",
        "# for every latent vector in z_list, sample a vector image\n",
        "reconstructions = []\n",
        "for i in range(N):\n",
        "  reconstructions.append([decode(z_list[i], draw_mode=False, temperature=0.1), [0, i]])"
      ],
      "execution_count": 0,
      "outputs": []
    },
    {
      "metadata": {
        "id": "OULjMktmFQvx",
        "colab_type": "code",
        "colab": {
          "base_uri": "https://localhost:8080/",
          "height": 149
        },
        "outputId": "94b7b68e-9c57-4a1b-b216-83770fa4be81"
      },
      "cell_type": "code",
      "source": [
        "stroke_grid = make_grid_svg(reconstructions)\n",
        "draw_strokes(stroke_grid)"
      ],
      "execution_count": 63,
      "outputs": [
        {
          "output_type": "display_data",
          "data": {
            "text/plain": [
              "<IPython.core.display.SVG object>"
            ],
            "image/svg+xml": "<svg baseProfile=\"full\" height=\"127.634528333\" version=\"1.1\" width=\"823.798878973\" xmlns=\"http://www.w3.org/2000/svg\" xmlns:ev=\"http://www.w3.org/2001/xml-events\" xmlns:xlink=\"http://www.w3.org/1999/xlink\"><defs/><rect fill=\"white\" height=\"127.634528333\" width=\"823.798878973\" x=\"0\" y=\"0\"/><path d=\"M25,39.7206334291 m0.0,0.0 m30.5419966019,11.0517369621 l-0.130790295079,-0.821970626712 -1.56297296286,-3.44355881214 l-0.810060948133,-2.39335089922 0.000479867303511,-3.22102040052 l0.00033964850445,-3.4874728322 0.361222736537,-1.25992178917 l1.79179653525,-2.81430184841 0.968853756785,-0.829446166754 l0.976286008954,-0.349083021283 1.55968084931,-0.00183026262675 l1.69345319271,0.000776153538027 1.94590568542,0.8236579597 l1.20501965284,1.21577709913 1.11128941178,2.25825056434 l0.554293617606,2.93825089931 0.000441627125838,4.22034591436 l-0.898757427931,2.63696163893 -1.72121822834,2.13380008936 l-2.23780155182,1.35028481483 -2.57068812847,0.560129880905 l-2.11540162563,-0.000537940577487 m13.1173753738,-1.12937137485 l-1.45248651505,-2.17158839107 -0.858646780252,-3.06270509958 l0.000175498753379,-4.44179207087 0.000373504044546,-4.57446634769 l0.627821683884,-1.24458014965 2.52491861582,-1.80173784494 l2.6212644577,-0.278210286051 2.24212855101,-0.000668502034387 l2.06600576639,0.917371958494 1.75203874707,1.91701054573 l1.115347296,2.70106256008 0.000310058385367,4.01920646429 l-0.420222841203,1.88330933452 -1.32658526301,2.41520762444 l-2.9484218359,2.84097313881 -2.43803426623,1.01730525494 l-2.31468617916,-0.00315562268952 -0.943105444312,-0.416952967644 m-5.04852354527,-1.22439056635 l0.805781632662,3.52566123009 0.493544861674,3.00472974777 l1.0788359493,0.254272762686 1.5034507215,-3.73510450125 l0.94768114388,-2.33487918973 0.478246323764,-1.21703073382 m-13.7574493885,-16.3546526432 l-1.78905293345,-0.4019164294 -3.13840001822,-0.238769985735 l-3.06999534369,0.323610752821 -2.62113779783,1.05864740908 l-1.41331672668,1.06020323932 -2.23443478346,3.11014682055 l-1.25897288322,3.24561059475 -0.690835565329,3.78885805607 l0.000223516690312,7.2227948904 0.456801503897,2.63458311558 l3.6786660552,9.34825003147 2.47850447893,4.08075898886 l4.38423395157,5.09459018707 2.70667612553,3.2701292634 l1.95724636316,4.00763303041 1.35410264134,4.67128992081 l1.00941762328,5.45493721962 0.548808388412,4.55319613218 l0.233230181038,3.7197431922 0.100202523172,1.58373504877 m2.68061488867,-68.3304214478 l3.91832828522,-0.852669924498 5.00140190125,-0.116617726162 l6.57204866409,-0.000800323759904 5.22561311722,0.964443534613 l3.02044928074,1.42885655165 2.4911904335,2.16459602118 l1.7647318542,2.68096029758 1.05926975608,3.27105551958 l0.467811375856,4.00178968906 0.000126303402794,6.92094147205 l-0.868806540966,4.39922660589 -1.62944063544,4.47579175234 l-3.5293468833,6.51094794273 -1.19311966002,2.8612524271 l-1.67739748955,5.55614352226 -1.27475112677,6.94986104965 l-0.828429609537,7.33003377914 0.00036673311115,6.69217407703 l0.982491523027,3.42833697796 m52.8225331692,-51.353654896 l-0.179362148046,-0.903369262815 -1.62920743227,-3.28932881355 l-0.906066149473,-2.49898999929 0.00051035771321,-2.59266883135 l0.000347062414221,-3.56523901224 0.417044311762,-1.28570497036 l0.714336559176,-1.13926000893 1.56329080462,-1.13759756088 l2.05199196935,-0.552231259644 1.97985470295,-0.00113819012768 l1.85451850295,-0.00093373026175 1.81085169315,0.768176540732 l1.10954836011,1.12643048167 1.08412787318,2.30088368058 l0.000448344617325,3.53681355715 -0.878088846803,2.79807418585 l-1.68571338058,2.35794946551 -2.19275161624,1.60138115287 l-2.64548152685,0.894314572215 -1.87815189362,-0.000594626653765 m12.3930037022,-0.617486909032 l-1.52933612466,-1.72315716743 -0.887011662126,-2.75651812553 l0.000182019357453,-4.42476809025 1.3707883656,-2.84632474184 l1.5728290379,-1.57970935106 1.64202809334,-0.91292925179 l2.6449996233,-0.00135166454129 2.36448422074,-0.000639804275124 l1.95006385446,0.951049178839 1.55169978738,2.00336158276 l0.812436565757,2.56968408823 0.000299139574054,3.45813453197 l-0.477933250368,1.59525990486 -2.22390562296,2.8340998292 l-2.29320973158,1.43437877297 -2.74989366531,0.754635408521 l-2.61219710112,-0.00356734264642 -1.03377133608,-0.620433427393 m-4.60207283497,-0.27431782335 l0.608859285712,3.18827778101 0.463679693639,3.00901681185 l1.08114145696,0.45674752444 1.53460562229,-3.44289124012 l1.07980199158,-2.40180313587 0.454280935228,-1.312366575 m-15.1842451096,-15.8654558659 l-1.02997995913,-0.825017020106 -1.45095005631,-1.16798393428 l-2.01779410243,-1.55357927084 -1.23885072768,-0.704525560141 l-1.02319248021,0.634009987116 -0.607139021158,3.50802153349 l0.00012148650967,5.41070580482 0.611173994839,7.88442909718 l0.465482994914,4.43518131971 0.323769040406,4.41545695066 l0.000449147046311,6.0367423296 -0.20706359297,5.07031857967 l-0.503461919725,5.78731417656 0.000560363514523,6.66669249535 l-0.471485070884,7.2888302803 -0.438506193459,5.49879789352 l-0.3237805143,3.67199778557 0.000548661919311,3.57043743134 m11.104183197,-66.2080860138 l2.00373500586,-1.04878537357 4.31662708521,-0.776256173849 l6.5754455328,-0.13563061133 5.74898183346,0.000452322128695 l4.55986618996,0.75202472508 1.8173776567,0.771940723062 l2.62529999018,2.26868197322 1.49997621775,2.55439907312 l1.29644319415,4.92528170347 0.410122610629,4.46929842234 l0.000335159820679,9.58780944347 -0.946886688471,7.90147304535 l-1.84304475784,12.9119610786 -0.206860285252,4.28757786751 l-0.58015242219,8.0197685957 0.000626934779575,7.74769306183 l0.422867685556,3.20501327515 m-31.8870425224,-40.0462150574 l-0.334677062929,2.4007178843 -0.906986519694,4.16456341743 l-2.31765970588,11.4139783382 -1.26206621528,12.5019919872 l0.000203833387786,6.15783154964 0.895226895809,4.23945695162 l1.37828230858,2.98432528973 1.79141759872,2.06503599882 l1.0400044173,0.639289170504 3.35244834423,-0.000165914370882 l2.1275998652,-1.51463985443 1.86899617314,-2.10721492767 l1.48964449763,-2.50050365925 2.00253859162,-6.01501584053 l1.29271104932,-4.70144987106 1.34775206447,-5.31910300255 l1.48310825229,-5.70787489414 1.46649762988,-5.44201374054 l1.33307412267,-5.31456291676 0.000822764777695,-4.21725958586 m61.6559273244,-4.90261296676 l-0.2499358356,-0.973245427012 -1.60147592425,-3.11570316553 l-0.915143117309,-2.26915076375 0.000510644676979,-2.65014767647 l0.000407122388424,-3.32929074764 0.799965336919,-2.80272990465 l1.02645479143,-1.78898558021 1.80115193129,-1.54998466372 l2.13864669204,-0.783110186458 2.08690613508,-0.000792611244833 l1.29247441888,0.572999306023 1.0101403296,1.07275612652 l1.41505673528,3.37395519018 0.00045697313908,3.61302882433 l-0.850557014346,2.77189910412 -1.60299569368,2.33769536018 l-2.06033200026,1.60330280662 -2.36028954387,0.84464840591 l-2.00047671795,-0.00041238963604 m14.4678878784,-0.727621018887 l-1.21217057109,-0.479749143124 -1.25503569841,-2.06456318498 l-0.776283815503,-2.35249176621 0.000341463601217,-4.2325425148 l0.440923385322,-1.39623463154 1.45759403706,-2.08148911595 l3.17541331053,-1.87916249037 2.43172690272,-0.662737637758 l2.28218227625,-0.00152959444677 2.40353003144,1.27158209682 l1.41714215279,2.253934443 0.536127649248,1.76419213414 l0.000395833085349,4.01393771172 -1.02319948375,2.54085719585 l-1.73852324486,2.00481504202 -2.29430690408,1.3871447742 l-2.66951411963,0.752961561084 -2.57734894753,-0.00305337423924 l-0.938251167536,-0.56967690587 m-4.89163458347,-1.46632120013 l0.210061259568,2.89982408285 0.240399204195,2.79074788094 l1.11232385039,0.508820153773 1.56081780791,-3.09830069542 l0.850534439087,-2.11142167449 m-14.8002159595,-14.0419638157 l-0.813121497631,-1.38868972659 -1.11049838364,-3.96340280771 l-0.505487024784,-3.23704987764 0.000288551927952,-2.37556517124 l1.53391569853,0.517037622631 2.6571649313,3.03858995438 l2.16991484165,1.87559768558 1.18328556418,0.274827200919 l5.54041206837,-0.00149044804857 5.69408178329,0.000357615026587 l3.30408960581,0.24512430653 1.945887357,-2.71070301533 l1.79663404822,-2.94593334198 1.37577936053,-0.216344185174 l0.515831895173,1.28580510616 0.424680635333,4.53791797161 l1.40811517835,3.06347995996 1.59811541438,3.12219947577 l1.64884999394,4.01267021894 0.792985782027,3.83861362934 l0.000285899568553,7.31781303883 -0.803893879056,6.8384116888 l-0.787903517485,7.48229324818 0.000427966624557,8.54022800922 l0.88324919343,5.74498534203 1.56025320292,5.11777162552 l1.50770366192,4.06079262495 0.984660312533,2.25875556469 l0.833944156766,1.71725198627 m-36.8954205513,-56.2637424469 l-0.880264267325,4.75460022688 -0.000156003807206,7.00348377228 l-0.401933081448,3.11806887388 4.57078976979e-05,8.77735316753 l0.397430583835,3.61073195934 0.000393991613237,6.71302378178 l-0.326395258307,7.05933451653 -0.685609281063,6.76234662533 l0.000558279789402,6.7300850153 1.50117456913,3.84698092937 l1.97450190783,2.53202825785 1.60549938679,1.16397634149 l2.72168368101,0.922264307737 7.54801988602,-0.00362435501302 l11.3597643375,-1.74923568964 5.38321793079,-0.923054069281 l3.23648869991,-0.960977822542 2.15266346931,-1.11026205122 m51.190585993,-47.3265378666 l-0.325097516179,-1.02766491473 -1.58740475774,-2.81963139772 l-0.496437884867,-1.345551759 0.000412638873968,-2.7965003252 l0.405576601624,-1.29251927137 1.3046002388,-1.81248769164 l1.85239076614,-1.3086719811 2.11656033993,-0.592213869095 l2.13125541806,-0.00167130638147 0.872511565685,1.10240653157 l0.485784336925,1.28879278898 0.000589240153204,3.84875655174 l-0.469766668975,1.6539619863 -1.34652882814,1.96149110794 l-1.95556789637,1.48898854852 -2.12111890316,0.656485408545 l-1.4025361836,-0.000973185524344 m13.8680291176,-0.468883477151 l-1.62300050259,-1.43194362521 -0.866491869092,-2.34035298228 l0.000289935487672,-3.43357771635 0.552035272121,-1.30854547024 l2.46056824923,-2.26933687925 1.98312863708,-0.878949388862 l2.29696109891,-0.000886866546352 1.51191100478,0.975754186511 l0.703489854932,1.25734984875 0.555200017989,3.08780550957 l0.000414031892433,3.26215416193 -0.928832739592,1.94857120514 l-1.74360468984,1.47904142737 -2.20217853785,0.698816031218 l-2.28650078177,-0.00238236098085 -0.983224660158,-0.602921694517 m-6.75321996212,1.98995947838 l1.08711756766,2.97036498785 0.981254652143,3.05295169353 l1.11950844526,0.0291469320655 1.67053714395,-3.58214437962 l1.12432926893,-2.2970187664 m-13.1760501862,-17.3487007618 l-1.2356133759,-0.540585443377 -2.13666036725,-0.62606215477 l-2.72865325212,-0.451680906117 -1.44471153617,1.03411287069 l-1.41858071089,2.26227551699 -1.08871996403,3.08398991823 l-0.635373145342,3.56551110744 0.000254862588918,6.51017785072 l0.816975086927,3.79687815905 1.58213689923,3.63917857409 l2.12310776114,3.17707180977 2.57590562105,2.63250410557 l4.56052452326,2.89865493774 2.45143547654,0.912452340126 l3.26452046633,1.21453985572 4.76753532887,-0.00131403663545 l5.07487356663,-0.000410356478824 4.848485291,-1.50639355183 l1.60657346249,-0.867859721184 2.54594802856,-2.14969351888 l2.26510897279,-3.19025933743 1.56942054629,-3.93314242363 l0.757086724043,-4.51413482428 0.000518959277542,-4.79767590761 l-0.954259112477,-4.39687162638 -1.75258055329,-3.92325818539 l-2.55255997181,-3.41270387173 -2.24680349231,-1.98204368353 l-2.29796424508,-1.28891855478 -3.69983375072,-1.23686976731 l-4.21806931496,-0.704758539796 -6.52426183224,0.000328086462105 l-3.66169333458,1.31763696671 -2.78497308493,1.75000548363 l-1.98926284909,1.98830679059 m-2.2672533989,26.2903118134 l-2.26442545652,5.03026545048 -1.33611038327,4.93435740471 l-0.899339467287,7.86151766777 0.000364848638128,10.8255624771 l0.869973450899,4.99467939138 1.44404008985,4.12132918835 l0.693556368351,1.19369789958 m34.1803383827,-40.5099821091 l1.61985903978,3.51911127567 2.55222588778,5.77716350555 l1.45995393395,5.33966124058 0.854368805885,5.63814997673 l0.000405330647482,8.6294054985 -0.912934094667,5.05016028881 l-1.26058027148,3.6746352911 m-31.4236545563,-31.8677663803 l-0.424903593957,3.28575819731 0.000427355807915,7.48115301132 l-0.759705677629,6.12702131271 0.00069423840614,7.09851145744 l0.704740807414,3.89371156693 1.28362551332,3.27984064817 l1.65737554431,2.38226652145 m79.0006326543,-50.2543777708 l-0.416780263186,-1.06199555099 -1.50154173374,-2.41885885596 l-0.512058436871,-1.24042697251 0.000341886043316,-2.52457529306 l0.480119287968,-1.27412557602 1.47541254759,-1.81541264057 l1.99864700437,-1.15871630609 2.09001272917,-0.000955810974119 l2.06985190511,-0.00165669465787 2.38604336977,1.06304742396 l0.659510344267,1.20526403189 0.000530998622708,2.85619974136 l-0.979917496443,2.28274852037 -1.80628687143,1.95621579885 l-2.18871504068,1.12541407347 -1.98705598712,-0.00102360892924 l-0.793442577124,-0.761455819011 m14.0551292896,0.018154050922 l-1.28400698304,-0.264872927219 -1.28174304962,-1.42978772521 l-0.792377069592,-2.35267400742 0.000455076879007,-3.33696901798 l0.718799754977,-1.26918971539 1.8252658844,-1.31339997053 l1.82425558567,-0.645488128066 2.22258657217,-0.000996469170786 l1.69705957174,1.81822285056 0.583887323737,2.38972380757 l0.000372989234165,2.93521761894 -0.942190289497,1.83343142271 l-1.74762994051,1.439781636 -2.09433615208,0.69405041635 l-1.68228954077,-0.00242134541622 m-6.80452525616,1.8393778801 l0.767102688551,2.79139399529 0.809938758612,3.26507896185 l1.13789461553,0.10934847407 1.70728966594,-3.88145178556 l1.06857158244,-2.15136185288 0.307194553316,-0.866142958403 m-11.6463530064,-15.1853978634 l-1.78724274039,-0.366884544492 -2.92251110077,0.0229575810954 l-1.73177063465,0.586917623878 -2.17962294817,1.6172888875 l-1.83954432607,2.36908912659 -1.32284715772,2.90486127138 l-0.798041969538,3.37996393442 0.000269842712441,6.28434002399 l0.495336428285,2.46001943946 2.21409633756,4.8139166832 l2.40289226174,3.35381478071 2.79570937157,2.61169463396 l3.27091425657,1.9451290369 3.9320191741,1.38729885221 l4.16347324848,0.622758939862 4.93512690067,-0.00103522659629 l3.22333157063,-1.19567900896 3.27739089727,-2.20793962479 l2.80399739742,-3.1093621254 2.32149377465,-3.93592119217 l1.43150240183,-4.48892205954 0.571566745639,-4.67611432076 l0.000471211242257,-4.75792199373 -0.318669490516,-1.7632548511 l-1.28150016069,-3.00914555788 -2.34218865633,-3.1579887867 l-2.21702203155,-1.91340237856 -2.34397724271,-1.3549092412 l-3.5394269228,-1.16656459868 -4.47671055794,-1.29196359921e-05 l-3.45596283674,0.576142668724 -3.19617658854,0.907781124115 l-2.60936528444,1.38878077269 m-6.77404463291,27.6452159882 l-1.11590951681,1.89046144485 -1.23138897121,3.85950535536 l-1.10842049122,7.54696369171 0.000418874697061,8.56761097908 l0.86516790092,5.05858123302 2.45620682836,6.89957857132 l2.18113973737,3.49367856979 0.907825008035,0.863580256701 m26.6404986382,-41.0072231293 l1.84778258204,3.26468706131 2.56323099136,5.76764166355 l1.3730494678,5.01485049725 0.697667524219,5.2431422472 l0.000388381595258,8.38680624962 -0.938927382231,4.72693651915 l-2.12207764387,5.37095546722 -1.82545736432,2.83081948757 m-25.7137441635,-35.8385896683 l-0.505716241896,3.23456138372 0.000396324830945,5.29859304428 l-0.827699750662,5.87381601334 0.000648614732199,7.00699448586 l0.73874861002,4.30275589228 1.29846870899,3.52555632591 l1.61661684513,2.45787337422 2.13002234697,1.85661748052 m76.1827350649,-36.2983267465 l-0.51702812314,-1.08335204422 -1.4322322607,-1.97946250439 l-1.07454836369,-1.57349377871 -0.74816249311,-2.13636830449 l0.000421872464358,-2.75016516447 1.90875545144,-2.07578092813 l2.66664087772,-1.1080801487 2.74583131075,-0.000870406875038 l2.25593686104,-0.00126838378492 1.21775902808,0.614170990884 l1.16811066866,1.59288719296 0.569130554795,2.31776550412 l0.000491006030643,3.33604902029 -0.478843972087,1.52990758419 l-1.49310335517,1.78290426731 -2.20270186663,1.18647806346 l-2.67295718193,-0.00253633130342 -1.12309157848,-0.791810527444 m14.3565130234,-0.458807162941 l-1.4042943716,-0.451873056591 -1.38546466827,-1.71758472919 l-0.826073139906,-1.97881385684 0.00044392530981,-3.35835129023 l0.522440932691,-1.31678819656 1.58863782883,-1.80319085717 l1.64433538914,-1.03909738362 2.60703384876,-0.000442741365987 l2.0737862587,-0.00184107542736 1.79115355015,1.84860631824 l0.686925202608,2.46646910906 0.000392608308175,3.02072137594 l-0.96096470952,2.09842219949 -1.71011134982,1.57539948821 l-2.19580993056,0.924235135317 -1.96822851896,-0.0026500961394 l-0.877259746194,-0.574898757041 m-6.86478078365,1.53834536672 l0.848864242435,3.08800429106 0.778436660767,3.24190884829 l1.13188095391,-0.0674055144191 1.65711596608,-3.73753637075 l0.984783545136,-2.06133186817 0.543485246599,-1.04398831725 m-13.3924627304,-14.4211530685 l-0.969575494528,-1.13456651568 -1.26641452312,-1.45128637552 l-1.78922042251,-1.95494160056 -1.31811231375,-0.613924264908 l-1.14559277892,1.70829430223 -0.695128440857,4.23559367657 l3.42106750395e-05,5.24870812893 0.804761275649,1.96952223778 l1.74275070429,2.14265882969 2.45432406664,1.8966011703 l3.05670946836,1.43580406904 3.29165965319,0.769183039665 l4.03581261635,-0.00109470754978 2.93546110392,-0.847530215979 l2.68586486578,-1.61356434226 2.22474336624,-2.24576830864 l1.69532880187,-2.7893447876 1.76620900631,-4.99587714672 l0.370677523315,-3.75900149345 0.000371719070245,-3.45907002687 l-0.870975628495,-2.6864361763 -1.19229540229,-1.90877482295 l-1.46578758955,-1.38907685876 -1.71806946397,-0.881410166621 l-3.09140354395,-0.000916100179893 -5.5506670475,1.8323995173 l-1.88886195421,1.10790632665 -2.99023747444,2.86274552345 l-1.47118404508,2.3911011219 -0.894187763333,2.46529966593 m-2.15667426586,16.1919915676 l-2.07507938147,4.17045712471 -0.833368301392,2.73119568825 l-0.887925550342,6.74694240093 0.000336674638675,9.98459815979 l0.874853506684,4.69367384911 1.51388078928,4.04951781034 l1.97280317545,3.45547199249 0.953771024942,1.08552604914 l0.925487056375,0.859417393804 m19.6934378147,-41.147646904 l1.85005813837,3.65509659052 2.30564892292,5.62209665775 l1.27959489822,5.14465689659 0.56879658252,4.96952056885 l0.000334055330313,8.30309867859 -0.459054708481,2.76946187019 l-1.26360550523,3.69456291199 -1.67463004589,3.10261458158 l-1.91233977675,2.2072955966 -2.25123330951,1.62933573127 m-16.694663763,-36.6129541397 l-0.412125475705,1.27202302217 0.000406092294725,6.43807590008 l-0.852780416608,6.2772333622 0.000606488865742,6.90450072289 l1.26594632864,4.25829350948 1.70608833432,3.1294542551 l2.03973948956,2.36505180597 2.36145719886,1.59535452724 l2.61937111616,0.859825387597 3.31046849489,-0.00242982365307 m66.0476814943,-41.6967522914 l-0.630320459604,-1.07970029116 -1.38414129615,-1.44314557314 l-1.20434328914,-1.04303881526 -0.660619735718,-1.03845693171 l0.000452837557532,-1.79027080536 1.67989820242,-1.51453509927 l2.53846079111,-0.873821899295 3.04272919893,-0.00060365859099 l2.25103721023,-0.00242953727138 1.78341820836,0.701807439327 l1.67451918125,2.2011873126 0.329182371497,2.29681640863 l0.000358741308446,2.36451879144 -0.953265950084,1.87757670879 l-1.9005446136,1.39409959316 -2.50974535942,0.621254108846 l-2.94954270124,-0.00204546449822 -1.20456770062,-1.17760777473 l-0.72379052639,-1.46287366748 0.000261932636931,-2.22977295518 m15.9408557415,2.14839652181 l-1.37034803629,-0.634720176458 -1.04825638235,-1.79842457175 l-0.48567019403,-1.95490777493 0.000424394529546,-2.78475940228 l0.694731622934,-1.25697925687 1.11008949578,-0.972920656204 l1.43588542938,-0.630341619253 2.6846164465,-0.00116519848234 l2.0672865212,-0.00181803610758 1.73685416579,0.811390653253 l1.35139808059,1.6724511981 0.685455650091,2.25960746408 l0.000316185360134,2.45379984379 -0.958679690957,1.88456609845 l-1.79835289717,1.43165677786 -2.43143931031,0.870523527265 l-2.65807300806,-0.00192889609025 -1.23034536839,-0.871018767357 l-0.767924264073,-1.19280077517 m-4.61312264204,2.72068142891 l0.698530226946,2.81727701426 0.674485564232,3.25220137835 l1.10265344381,0.298127904534 1.49575680494,-3.44419002533 l0.889492854476,-2.27116331458 0.3993229568,-1.11179664731 m-13.8427197933,-13.3704280853 l-1.2237431854,-0.70929788053 -1.89120516181,-0.863794460893 l-2.58308291435,-1.05456314981 -1.32351219654,-0.098920725286 l-0.504367426038,1.23058617115 0.000229653251154,4.19683218002 l0.744956955314,3.27562451363 1.35505959392,2.97720491886 l0.97626388073,3.63566875458 0.557878799736,4.11951363087 l0.000487413090013,5.93688905239 -0.0946762878448,4.79186505079 l-0.335414819419,5.33804118633 -0.61593234539,5.36439836025 l0.000457089226984,6.29867553711 -0.246236566454,4.0409001708 l-0.0920589081943,3.48611533642 m10.3075218201,-52.7445602417 l2.56941258907,-1.51466846466 2.90668696165,-0.989322513342 l3.43285888433,-0.509666241705 3.99251759052,0.00105849219835 l3.50525438786,0.897151753306 2.09050416946,1.42907142639 l1.62909448147,2.0798908174 0.755064934492,1.67989388108 l0.895909070969,4.20485675335 0.000489128033223,6.61213159561 l-1.00733689964,6.54142260551 -0.813137441874,6.95042312145 l-0.754745975137,7.72281169891 0.000587730974075,7.92731404305 l0.985302403569,5.63568949699 1.13147564232,3.41360628605 l0.855265185237,2.15260714293 m-25.7305669785,-30.9905099869 l0.0706202723086,1.2890407443 -0.0253698951565,3.37718844414 l-0.62276609242,4.56329196692 -1.46163731813,4.64337855577 l-1.20627716184,2.9914984107 -1.36925131083,2.92582720518 l-1.38834267855,2.60112762451 -1.37277469039,2.18363925815 l-1.28426834941,1.67273774743 -1.15242682397,1.32617861032 l-1.02851226926,0.814017578959 m29.059844017,-27.4291801453 l-0.247904285789,4.20502752066 0.000344008949469,8.77690732479 l0.440290607512,3.271920681 2.0962497592,6.47288382053 l2.19896391034,3.81886273623 2.35303014517,2.39341273904 l1.11309848726,0.711055397987 m55.1776451302,-45.3851442425 l-0.751753747463,-1.06452710927 -1.36417075992,-0.918807610869 l-1.32935702801,-0.363004282117 -0.657733008265,0.969035997987 l0.000410609172832,2.08173707128 1.58055558801,1.04527361691 l2.02506706119,-0.00362427410437 0.949966013432,-0.968381687999 l0.310658887029,-1.25607326627 0.000632205410511,-1.21998012066 l-1.11182101071,-0.636424645782 m12.5416755676,0.469818599522 l-1.61938518286,-0.445644184947 -1.16884618998,0.325764343143 l-0.630944669247,1.18300415576 0.00035137818486,1.58500850201 l1.19325481355,0.731989964843 1.83346182108,-0.00114672599011 l0.810665488243,-1.10344588757 0.00055762950069,-1.53713300824 l-1.05414286256,-0.860403701663 m-8.03210377693,6.90684080124 l0.50307739526,2.50208556652 1.08822286129,0.868865028024 l0.861584693193,-1.09511807561 0.690302029252,-2.17076838017 m-5.92491209507,-13.9782476425 l-2.73755133152,-0.233703888953 -1.97024449706,0.474371723831 l-2.57601082325,1.46930292249 -1.27536028624,1.16025999188 l-1.41406148672,2.17563837767 -0.9199937433,2.73187577724 l0.00026509309464,4.52482163906 0.837512612343,3.07286292315 l1.59472361207,2.73481667042 2.34488204122,2.50400543213 l2.72221177816,1.78533479571 3.40269088745,1.22107744217 l3.85625064373,0.54707352072 4.81590092182,-0.00139303214382 l3.29679787159,-0.85810251534 4.05374020338,-2.53908485174 l1.27387970686,-1.32283315063 1.05048976839,-1.64842143655 l0.699850767851,-1.89622357488 0.000470024388051,-3.99602383375 l-1.3692907989,-3.29815804958 -1.65363684297,-2.3967756331 l-1.88457101583,-1.89647093415 -3.03887844086,-2.05237701535 l-3.50284725428,-1.48421570659 -2.82186239958,-0.685305818915 l-4.25023883581,-0.000107645028038 -1.08282409608,0.348688773811 m-5.96948325634,12.2877955437 l-1.04313015938,1.0403444618 -1.9506521523,3.84390741587 l-1.17220938206,3.79230856895 -0.478378795087,2.62153923512 l0.000283642511931,7.08209633827 0.76754681766,4.85586583614 l1.43454253674,4.53019946814 1.8475882709,3.88401448727 l2.17781990767,3.1462725997 1.01579889655,1.01225070655 l1.9778047502,1.24997586012 m19.3976044655,-34.1788864136 l1.41823455691,3.02997916937 2.14048057795,5.36864042282 l1.04249283671,4.8798006773 0.000301164564007,5.9561419487 l-0.487733148038,2.72145450115 -2.17538803816,5.72049319744 l-2.00243756175,3.26363116503 -2.35079422593,2.65599489212 l-2.35545888543,1.66222423315 -2.74458885193,1.11508540809 l-2.92175680399,0.474348440766 -3.53183835745,-0.00145876983879 l-3.13926458359,-0.00267292169156 -1.39905393124,-0.64115524292 l-1.41919881105,-1.46951138973 m2.58654266596,-31.420044899 l2.64671416517e-05,3.39411377907 -0.462911203504,4.9263510108 l-0.695133879781,2.34287768602 -1.11330524087,3.31299781799 l-1.3504627347,3.3070987463 -1.25915423036,2.70623862743 l-1.24585904181,2.40021079779 m19.2379868031,-22.808175087 l-0.199472550303,1.32352113724 0.00032557243685,6.62100255489 l0.433918759227,3.01757931709 1.2987267971,4.08638328314 l1.91109642386,3.72742325068 2.23751112819,2.89947330952 l2.0837777853,1.65551543236 m58.3384857869,-33.6488287262 l-0.876092016697,-1.02708421648 -1.29731014371,-0.539417490363 l-1.3404417038,0.381380990148 -0.51209975034,1.14463582635 l0.000357170065399,2.21391484141 1.97841063142,1.1256570369 l2.66367763281,-0.00309213879518 1.07505045831,-0.882010608912 l0.402438938618,-1.23659215868 0.000607694018981,-1.48783966899 l-1.09604239464,-0.869505405426 -1.38212785125,-0.00120175245684 m13.8076913357,-0.0472603039816 l-1.26978740096,-0.452922210097 -1.84547543526,-0.00327180925524 l-1.13165095448,0.599878877401 -0.474757701159,1.18743374944 l0.000385109815397,1.69430673122 1.18735723197,0.902944803238 l1.24237895012,0.246581565589 2.00685173273,-0.0015676971816 l0.894379764795,-1.0955735296 0.157792232931,-1.20785906911 l-0.390456020832,-1.1469065398 -1.18102543056,-0.694138854742 m-9.0473729372,7.45889246464 l0.572684891522,2.28107899427 0.803679376841,2.84115642309 l1.00440368056,0.102620171383 1.52071461082,-3.38606923819 l0.864886716008,-1.73639073968 m-6.91937744617,-13.8740348816 l-1.26494973898,-0.172844994813 -2.34373897314,0.00434943591245 l-1.86968833208,0.617401897907 -2.22391828895,1.55403122306 l-1.92689687014,2.24592328072 -1.3674351573,2.69720345736 l-0.810299366713,3.14028173685 0.000241421948886,5.68590581417 l0.462806001306,2.11201697588 1.39054566622,2.99430578947 l1.99030339718,2.62859255075 2.6132646203,2.1607452631 l3.17680746317,1.55173793435 3.84334206581,0.970321595669 l4.53278571367,-0.00126971644931 1.73444032669,-0.33052586019 l2.86441087723,-1.25082656741 2.40879699588,-1.59085467458 l2.63124912977,-2.74596631527 1.95029124618,-3.48470777273 l0.9773029387,-3.10508340597 0.360063351691,-3.93610447645 l0.000492912186019,-3.96067112684 -0.590093582869,-2.67132371664 l-0.997436493635,-2.08807423711 -1.36532813311,-1.67200744152 l-1.71528801322,-1.31090730429 -3.01587194204,-1.33746027946 l-2.69269764423,-0.652269348502 -4.73012506962,2.72586817118e-05 l-3.33683818579,0.853268355131 -2.39291504025,1.33195385337 m-6.55800163746,21.5277862549 l-1.24352440238,1.02286271751 -1.27860844135,2.85722732544 l-0.672307536006,2.34586119652 -0.801674500108,5.95492422581 l0.000411290166085,8.09978485107 0.436434485018,2.81491339207 l1.22994259,3.59744131565 1.57458588481,2.7224946022 l0.879195034504,0.945283547044 m25.2247023582,-30.7211470604 l1.47153452039,2.62647151947 1.17972947657,2.64084964991 l1.10564693809,4.20002222061 0.56057151407,4.74607467651 l0.000423226229032,7.54796147346 -0.440599247813,2.69727051258 l-1.12323626876,3.22731524706 -1.46953687072,2.54439234734 l-1.12294510007,1.26452416182 m-22.7179026604,-27.745552063 l-0.828561559319,2.26100638509 0.000305618887069,6.39577627182 l0.377051904798,3.02697628736 1.49216085672,5.80932855606 l1.3592684269,3.38474273682 1.64657026529,2.73404806852 l1.85824811459,1.93418651819 2.24474519491,1.35217279196 l2.55223661661,0.704762861133 3.34960848093,-0.000796566600911 l1.34126365185,-0.394208431244 1.74678459764,-1.33935630322 l1.38376072049,-1.81884229183 1.47344216704,-3.36295127869 l0.808649659157,-3.38815391064 0.000505927055201,-6.56934559345 l-0.322452373803,-2.13461071253 -1.05832204223,-3.14537078142 l-0.714406818151,-1.22510574758 -1.44798055291,-1.44074425101 m-15.925116539,3.05309087038 l0.026816574391,3.66672158241 0.000587906724832,7.41976559162 l-0.746965333819,4.5230153203 -0.806965827942,2.93621897697 l-0.896343812346,1.90981268883 m82.8348973958,-40.4269916846 l-0.999728292227,-0.974134355783 -1.27438277006,-0.163945220411 l-1.42698764801,1.0501217097 -0.369896329939,1.2484011054 l0.000311708317895,2.48387634754 2.14833050966,1.31545767188 l3.0698466301,-0.00279536121525 1.73688262701,-1.48626789451 l0.495054088533,-1.24048091471 0.000576097227167,-1.83290377259 l-1.03599637747,-0.972305014729 -1.21719606221,-0.371024534106 l-1.86505272985,-0.000119413325592 m14.1238558292,-0.0576347345486 l-1.7286221683,-0.36389414221 -1.21026992798,0.375123769045 l-0.786892101169,1.14912107587 -0.39383802563,1.65964514017 l0.000397723524657,1.91450074315 1.20808698237,0.947450101376 l1.27094477415,0.236010029912 2.07176074386,-0.00152339867782 l1.13885566592,-1.04630172253 0.403980091214,-1.22902952135 l0.00042817024223,-2.09738865495 -1.05666697025,-1.02290116251 l-1.24261200428,-0.448517128825 m-16.4372742176,-2.80802190304 l-0.595738179982,-1.12592421472 0.000258116124314,-2.44146645069 l0.795838311315,-4.32859450579 0.960134491324,-0.617695897818 l1.09767489135,1.07593804598 1.94048374891,3.67244154215 l0.997191146016,0.947300866246 1.07337631285,0.363829024136 l3.40076208115,-0.00127202874864 3.69897305965,-0.00086203290266 l1.63971945643,-2.13487520814 1.38979494572,-2.8683796525 l1.22766137123,-0.707580447197 0.690216720104,1.2513230741 l0.889390036464,4.01379078627 1.16888657212,2.18552440405 l1.07371598482,1.95721298456 0.665598064661,2.38928005099 l0.000330782604578,3.47689419985 -0.779838487506,2.9570415616 l-1.55338555574,2.8175291419 -1.90223991871,2.11039096117 l-2.51513749361,1.69424295425 -2.98896551132,1.03450156748 l-3.78990828991,-0.00183241310879 -3.7328350544,-0.00271177879767 l-1.71749636531,-0.429943911731 -2.08786830306,-1.19407214224 l-1.98226809502,-2.22397044301 -1.12415261567,-2.07972496748 l-1.16733931005,-4.44190382957 0.000383061960747,-3.63925814629 l1.18776932359,-2.19909548759 0.856132805347,-0.869803652167 l1.48697406054,-0.8121535182 m1.74165770411,12.2782289982 l-1.16126105189,0.527214743197 -1.37112975121,1.99086859822 l-1.38560578227,3.15928220749 -0.651643797755,2.30533927679 l-0.729406774044,5.45907437801 0.000346618617186,6.79511725903 l1.44563481212,4.47979211807 1.78973510861,2.82288223505 l2.26401314139,2.23428621888 1.17920883,0.726220682263 m17.5492656231,-30.1996254921 l1.51164785028,2.34453842044 2.30743199587,4.53960716724 l1.17536053061,4.40133363008 0.374237298965,4.18218284845 l0.000332721538143,5.88147342205 -0.457470715046,2.42084816098 l-1.19290329516,2.8031334281 -1.65060773492,2.36213862896 l-2.07548141479,1.80722430348 -2.35801994801,1.1459364742 l-2.9318985343,0.718569532037 -3.82491499186,-0.00167521226103 l-3.87635111809,-0.00146649850649 -1.81781336665,-0.545956715941 l-2.6452472806,-1.67555943131 m2.53662109375,-29.7807073593 l-0.602197311819,1.36803984642 0.000226694082812,4.14378941059 l-0.628662705421,4.27623867989 0.000455667286587,6.54338359833 l0.538899637759,3.64822655916 0.902795493603,3.07222336531 l1.17154687643,2.38102242351 1.50201693177,1.76833584905 m10.3620994091,-26.689157486 l0.383753217757,3.55042040348 0.000266716233455,6.26250326633 l-1.01631008089,6.61549568176 -1.81167647243,6.2830477953 l-1.03852793574,3.55208754539 \" fill=\"none\" stroke=\"black\" stroke-width=\"1\"/></svg>"
          },
          "metadata": {
            "tags": []
          }
        }
      ]
    },
    {
      "metadata": {
        "id": "OiXNC-YsFQv0",
        "colab_type": "text"
      },
      "cell_type": "markdown",
      "source": [
        "Let's load the model trained on both cats and buses!  catbus!"
      ]
    },
    {
      "metadata": {
        "id": "SL7WpDDQFQv0",
        "colab_type": "code",
        "colab": {}
      },
      "cell_type": "code",
      "source": [
        "model_dir = '/tmp/sketch_rnn/models/catbus/lstm'"
      ],
      "execution_count": 0,
      "outputs": []
    },
    {
      "metadata": {
        "id": "Cvk5WOqHFQv2",
        "colab_type": "code",
        "colab": {
          "base_uri": "https://localhost:8080/",
          "height": 255
        },
        "outputId": "8081d53d-52d6-4d18-f973-a9dd44c897f2"
      },
      "cell_type": "code",
      "source": [
        "[hps_model, eval_hps_model, sample_hps_model] = load_model_compatible(model_dir)\n",
        "# construct the sketch-rnn model here:\n",
        "reset_graph()\n",
        "model = Model(hps_model)\n",
        "eval_model = Model(eval_hps_model, reuse=True)\n",
        "sample_model = Model(sample_hps_model, reuse=True)\n",
        "sess = tf.InteractiveSession()\n",
        "sess.run(tf.global_variables_initializer())\n",
        "# loads the weights from checkpoint into our model\n",
        "load_checkpoint(sess, model_dir)"
      ],
      "execution_count": 65,
      "outputs": [
        {
          "output_type": "stream",
          "text": [
            "INFO:tensorflow:Model using gpu.\n",
            "INFO:tensorflow:Input dropout mode = False.\n",
            "INFO:tensorflow:Output dropout mode = False.\n",
            "INFO:tensorflow:Recurrent dropout mode = False.\n",
            "INFO:tensorflow:Model using gpu.\n",
            "INFO:tensorflow:Input dropout mode = 0.\n",
            "INFO:tensorflow:Output dropout mode = 0.\n",
            "INFO:tensorflow:Recurrent dropout mode = 0.\n",
            "INFO:tensorflow:Model using gpu.\n",
            "INFO:tensorflow:Input dropout mode = 0.\n",
            "INFO:tensorflow:Output dropout mode = 0.\n",
            "INFO:tensorflow:Recurrent dropout mode = 0.\n",
            "INFO:tensorflow:Loading model /tmp/sketch_rnn/models/catbus/lstm/vector.\n",
            "INFO:tensorflow:Restoring parameters from /tmp/sketch_rnn/models/catbus/lstm/vector\n"
          ],
          "name": "stdout"
        }
      ]
    },
    {
      "metadata": {
        "id": "icvlBPVkFQv5",
        "colab_type": "code",
        "colab": {
          "base_uri": "https://localhost:8080/",
          "height": 106
        },
        "outputId": "f7b415fe-4d65-4b00-c0eb-fb592597dba2"
      },
      "cell_type": "code",
      "source": [
        "z_1 = np.random.randn(eval_model.hps.z_size)\n",
        "_ = decode(z_1)"
      ],
      "execution_count": 73,
      "outputs": [
        {
          "output_type": "display_data",
          "data": {
            "text/plain": [
              "<IPython.core.display.SVG object>"
            ],
            "image/svg+xml": "<svg baseProfile=\"full\" height=\"85.0024624268\" version=\"1.1\" width=\"97.0106323063\" xmlns=\"http://www.w3.org/2000/svg\" xmlns:ev=\"http://www.w3.org/2001/xml-events\" xmlns:xlink=\"http://www.w3.org/1999/xlink\"><defs/><rect fill=\"white\" height=\"85.0024624268\" width=\"97.0106323063\" x=\"0\" y=\"0\"/><path d=\"M46.3545013685,33.7004358135 m-1.67252272367,0.394050441682 l-2.03154876828,1.45254462957 -1.77578791976,1.80640622973 l-1.6109457612,2.1960131824 -1.18691310287,2.34753742814 l-0.678012892604,2.30114400387 -0.20122455433,2.21701934934 l0.332671366632,2.12932109833 1.03898189962,1.93650469184 l1.74471467733,1.76480427384 2.42952331901,1.4399163425 l3.00780057907,0.961375236511 3.41435223818,0.406128205359 l3.47424894571,-0.119643304497 3.25872182846,-0.736866593361 l2.82667756081,-1.2964771688 2.19879046082,-1.72045439482 l1.47952780128,-2.00524181128 0.781586319208,-2.26519107819 l0.0863485690206,-2.36544474959 -0.624918863177,-2.38882064819 l-1.35048046708,-2.27941468358 -2.01366201043,-2.13800251484 l-2.45773822069,-1.7978258431 -2.69231259823,-1.3554097712 l-2.68344372511,-0.840844660997 -2.60668128729,-0.349534451962 l-2.29395762086,0.0881606899202 -1.97751566768,0.484185256064 m-4.22170132399,5.59232115746 l-0.858224183321,-0.992628484964 -1.42562314868,-2.25309178233 l-1.4492110908,-2.57754087448 -2.78117597103,-5.97079396248 l-0.8167950809,-2.6043471694 1.32482737303,-0.160294082016 l1.46054670215,0.706794261932 5.88625133038,3.87950181961 l3.83870124817,3.03945600986 1.23776055872,0.720141157508 m9.16391193867,1.79712742567 l1.0277723521,-0.794012546539 4.92988169193,-3.58641952276 l7.03148722649,-4.49979126453 1.72269210219,-0.779656022787 l0.18622552976,1.22162371874 -1.75484806299,3.27743798494 l-3.89630943537,6.59069061279 -1.24373376369,2.57274150848 l-0.521678514779,1.66077747941 m-15.3570437431,4.34784531593 l-0.703595504165,-0.366752743721 -2.21099600196,-0.000145574467751 l-5.26128053665,0.468756966293 -6.46269977093,1.18766956031 l-6.91953063011,2.10482001305 -1.49639204144,0.736465454102 m21.9713330269,-1.93512454629 l-2.08371579647,0.242639295757 -2.40464165807,0.793681591749 l-4.48679834604,2.26089000702 -3.41465473175,2.18791306019 l-2.46110990644,1.95080041885 m16.475225687,-5.77536463737 l-1.67380392551,0.825476571918 -5.39076983929,4.59509968758 l-2.86009788513,3.01156193018 -1.92672237754,2.55981743336 m18.4251654148,-15.2193069458 l1.54628425837,-0.425299890339 5.11826336384,-1.03468291461 l4.404476583,-0.45712724328 5.77219843864,0.0480564497411 m-16.6457545757,5.08838534355 l4.32074040174,0.242472905666 5.61843752861,1.09646350145 l3.88478636742,1.24357588589 2.69302010536,1.29176437855 m-16.8987333775,-1.01418435574 l3.28390866518,1.62312328815 4.95268970728,2.7775490284 l4.96877580881,3.17819237709 \" fill=\"none\" stroke=\"black\" stroke-width=\"1\"/></svg>"
          },
          "metadata": {
            "tags": []
          }
        }
      ]
    },
    {
      "metadata": {
        "id": "uaNxd0LuFQv-",
        "colab_type": "code",
        "colab": {
          "base_uri": "https://localhost:8080/",
          "height": 88
        },
        "outputId": "4de5ee9a-cf14-49f4-e5f5-399a0d0b8215"
      },
      "cell_type": "code",
      "source": [
        "z_0 = np.random.randn(eval_model.hps.z_size)\n",
        "_ = decode(z_0)"
      ],
      "execution_count": 77,
      "outputs": [
        {
          "output_type": "display_data",
          "data": {
            "text/plain": [
              "<IPython.core.display.SVG object>"
            ],
            "image/svg+xml": "<svg baseProfile=\"full\" height=\"67.3315515471\" version=\"1.1\" width=\"97.5152636358\" xmlns=\"http://www.w3.org/2000/svg\" xmlns:ev=\"http://www.w3.org/2001/xml-events\" xmlns:xlink=\"http://www.w3.org/1999/xlink\"><defs/><rect fill=\"white\" height=\"67.3315515471\" width=\"97.5152636358\" x=\"0\" y=\"0\"/><path d=\"M29.9867404057,33.2670614123 m0.805409103632,-0.833975374699 l0.307652484626,-2.26678669453 0.151711469516,-3.54340940714 l0.245695672929,-1.62288993597 1.97277218103,0.558484233916 l9.41576838493,0.598074384034 1.79785534739,-0.0017053897318 l8.29492747784,0.0356167810969 0.235580727458,0.256019569933 l-0.0790408626199,4.21960532665 -0.012879089918,0.991931930184 l0.238454733044,0.568543076515 1.72342002392,0.0859044771641 l3.79813492298,0.127453990281 3.35740298033,0.193893890828 l2.98197507858,0.242248829454 2.23931834102,0.237911213189 l0.467457100749,1.53499528766 -6.0118318288e-05,1.97919502854 l-0.358457006514,0.899271965027 -1.3161124289,0.617377273738 l-1.56984224916,0.285860393196 -10.0039458275,-2.17749629883e-05 l-5.3582406044,-0.0280871801078 -17.0182836056,-0.501958318055 l-2.51457840204,-0.427288264036 -3.71798098087,-0.000259167863987 l-0.701615363359,-0.541000440717 -0.369239896536,-0.776930525899 l0.101714814082,-2.19061970711 0.609980300069,-2.19438523054 l0.583609454334,-0.528184100986 1.46566271782,-0.540503934026 l4.08039957285,-0.000195461961994 m28.6143398285,3.29255849123 l0.701352730393,-0.000361385791621 3.46933543682,0.0793636124581 l3.49189370871,-0.0329374009743 0.17093334347,0.102780237794 l-2.13421202488e-06,0.437825731933 -0.109605332837,1.93959712982 l-0.176565013826,1.56886965036 -0.811747461557,0.48882830888 l-9.52714025974,-0.269736666232 -2.52711653709,-0.335641019046 l-1.11822590232,-0.269015040249 -0.65738119185,-0.333181209862 l-0.345065407455,-0.51040943712 2.87700959234e-05,-1.82359144092 l0.546319633722,-2.12298080325 0.640969648957,-1.13863490522 m-21.3961911201,0.175616070628 l0.123352808878,1.75562694669 0.0747249089181,1.63561850786 l9.42731380463,0.0902032107115 1.62131980062,0.176886226982 l9.18411612511,0.247723404318 8.82574737072,-0.0572470016778 l2.63554483652,-0.0353826978244 0.296976547688,-0.193656068295 l0.000153735891217,-1.33447080851 -0.782406032085,-1.43808186054 l-0.364653207362,-0.214961729944 -15.9434425831,-0.106446798891 l-4.01207536459,-0.365686267614 -8.76956820488,-0.289525035769 l-1.16007901728,-0.147831970826 m2.86592900753,0.15889108181 l0.217890720814,2.00570434332 0.197594668716,0.598792210221 m4.64557051659,-2.32862919569 l0.539546869695,2.49007418752 0.32267279923,-0.0375697994605 m5.02432882786,-2.40153804421 l0.819848701358,2.54082530737 0.324251390994,0.343451648951 m4.47809964418,-2.83502340317 l0.971145778894,2.4656496942 0.412364751101,0.0167141086422 m4.11571443081,-2.65937894583 l0.979021638632,2.4001275003 0.346556939185,0.233826283365 l0.617895312607,-0.000109118318505 m3.05825412273,-2.66095519066 l0.814893916249,2.26838067174 0.360139980912,0.908551961184 l0.277478862554,0.294007174671 m-25.8793306351,2.12347775698 l-0.513627231121,-0.000485890341224 -0.521563515067,0.404155403376 l-0.36268081516,0.635671690106 3.32933063873e-05,0.870118141174 l0.307805500925,0.411691330373 0.911298170686,0.451387614012 l1.59308031201,-0.000136071012093 0.5957833305,-0.689334720373 l-2.61452532868e-05,-1.03384450078 -0.524161532521,-0.614503696561 l-0.852187871933,-0.328905619681 -1.14544011652,-0.000197982080863 l-0.176711063832,0.567854233086 m24.4003796577,0.548551231623 l-1.17612704635,0.419630333781 -0.6187973544,0.660637766123 l-0.190389137715,0.672465264797 0.306343305856,0.88217549026 l0.701067596674,0.531736761332 1.27594053745,0.344648398459 l1.61455705762,-6.17346495346e-05 0.655116811395,-0.625963658094 l4.13193492932e-05,-1.13174140453 -0.550770349801,-0.795240625739 l-1.00279971957,-0.554721839726 -1.46591112018,-0.33558037132 l-1.39785453677,-0.000171943738678 m-27.5255537033,-4.18329238892 l0.861325189471,-0.000235227307712 3.75310570002,-0.000122374522107 l8.99283826351,0.360180735588 5.18573880196,0.210896059871 l5.27216970921,0.231435690075 5.06657361984,0.14730297029 l1.9112432003,0.0967795029283 3.54516118765,0.234489161521 l1.4175029099,0.00369216315448 2.69836604595,0.186217669398 \" fill=\"none\" stroke=\"black\" stroke-width=\"1\"/></svg>"
          },
          "metadata": {
            "tags": []
          }
        }
      ]
    },
    {
      "metadata": {
        "id": "VtSYkS6mFQwC",
        "colab_type": "text"
      },
      "cell_type": "markdown",
      "source": [
        "Let's interpolate between a cat and a bus!!!"
      ]
    },
    {
      "metadata": {
        "id": "qIDYUxBEFQwD",
        "colab_type": "code",
        "colab": {}
      },
      "cell_type": "code",
      "source": [
        "z_list = [] # interpolate spherically between z_1 and z_0\n",
        "N = 10\n",
        "for t in np.linspace(0, 1, N):\n",
        "  z_list.append(slerp(z_1, z_0, t))\n",
        "# for every latent vector in z_list, sample a vector image\n",
        "reconstructions = []\n",
        "for i in range(N):\n",
        "  reconstructions.append([decode(z_list[i], draw_mode=False, temperature=0.15), [0, i]])"
      ],
      "execution_count": 0,
      "outputs": []
    },
    {
      "metadata": {
        "id": "ZHmnSjSaFQwH",
        "colab_type": "code",
        "colab": {
          "base_uri": "https://localhost:8080/",
          "height": 112
        },
        "outputId": "38fe3c7e-698b-4b19-8851-e7f3ff037744"
      },
      "cell_type": "code",
      "source": [
        "stroke_grid = make_grid_svg(reconstructions)\n",
        "draw_strokes(stroke_grid)"
      ],
      "execution_count": 79,
      "outputs": [
        {
          "output_type": "display_data",
          "data": {
            "text/plain": [
              "<IPython.core.display.SVG object>"
            ],
            "image/svg+xml": "<svg baseProfile=\"full\" height=\"91.2642718171\" version=\"1.1\" width=\"833.762525478\" xmlns=\"http://www.w3.org/2000/svg\" xmlns:ev=\"http://www.w3.org/2001/xml-events\" xmlns:xlink=\"http://www.w3.org/1999/xlink\"><defs/><rect fill=\"white\" height=\"91.2642718171\" width=\"833.762525478\" x=\"0\" y=\"0\"/><path d=\"M25,25 m0.0,0.0 m34.7885648068,15.8217988545 l-1.70768797398,0.394326560199 -1.98709502816,1.39832496643 l-1.8858024478,1.81873455644 -1.72703936696,2.22130462527 l-1.25907227397,2.31055215001 -0.718402788043,2.31609672308 l-0.24189863354,2.28290840983 0.230393186212,2.17298224568 l0.899575799704,1.9522215426 1.58570617437,1.83934673667 l2.33861714602,1.53588861227 2.9568567872,1.06947176158 l3.42917084694,0.520680546761 4.56664592028,-0.000210430407606 l3.39892715216,-0.948901027441 2.86075204611,-1.51679575443 l2.18323692679,-1.95775061846 1.4845071733,-2.26167857647 l0.732822492719,-2.37686693668 0.0455579627305,-2.435528934 l-0.657622814178,-2.33118370175 -1.39675825834,-2.27535650134 l-2.00977087021,-2.11376160383 -2.45251193643,-1.75328552723 l-2.64242887497,-1.283313483 -2.64447331429,-0.779226571321 l-2.5469186902,-0.307059139013 -3.40631514788,0.205508377403 l-2.24611267447,0.615477263927 -1.7066423595,0.891111493111 m-1.41870632768,5.79610526562 l-0.981892421842,-0.701759532094 -1.57779186964,-1.86256706715 l-3.94318550825,-5.96731066704 -1.26046702266,-2.31150478125 l-0.750524476171,-1.99218571186 1.31670936942,-0.331926830113 l5.24980604649,2.5949165225 4.44657832384,2.77433514595 l1.48569047451,0.834902450442 m12.0142829418,1.30933701992 l0.924543663859,-0.972671657801 5.24440228939,-3.89542460442 l3.17973524332,-1.83452144265 2.36633822322,-0.941159427166 l0.351397916675,1.17977015674 -1.43672227859,3.12728255987 l-1.51523455977,3.65620046854 -2.21588477492,5.07369637489 l-0.433258190751,1.62227928638 m-15.6633877754,2.73675113916 l-1.03453852236,-0.391437746584 -2.45932713151,-0.000107182286229 l-5.03336369991,0.635710656643 -4.2340490222,1.17464527488 l-4.15684431791,1.76218211651 -2.99315959215,2.01255023479 m18.9975297451,-2.38496765494 l-2.13352456689,0.30238263309 -2.33867675066,0.903116837144 l-4.20184582472,2.53625094891 -3.17722201347,2.4148504436 l-2.34716102481,2.23815530539 m15.4375433922,-6.45224153996 l-1.71578854322,0.833854526281 -1.90653860569,1.54518857598 l-3.17113667727,3.54830682278 -2.14653044939,3.04755568504 m17.5838243961,-14.1745126247 l3.51344525814,-0.229860078543 5.83615481853,0.454912856221 l3.94071519375,0.842000097036 2.94197976589,1.04170843959 m-16.3493454456,1.84369981289 l3.97710770369,0.671474412084 3.52026820183,1.08801908791 l3.00031900406,1.40454411507 2.20906510949,1.55138850212 m-13.7836539745,-1.43525511026 l3.12916815281,1.78138285875 4.6027341485,2.91536957026 l3.78896981478,2.86304265261 m61.1221673153,-27.923102595 l-1.34081676602,0.300077814609 -1.77816852927,1.15137435496 l-1.62679851055,1.47592157125 -1.43992945552,1.77372604609 l-1.08541429043,1.92270770669 -0.644427761436,1.92675754428 l-0.21293323487,1.87265947461 0.254271049052,1.76748842001 l0.883712470531,1.68196752667 1.49429023266,1.57750234008 l2.15454220772,1.35759070516 2.70775288343,0.947909727693 l3.03057283163,0.473473891616 4.73421037197,-0.000199037658604 l3.06011736393,-1.01655952632 2.40617737174,-1.48026823997 l1.62968218327,-1.69074848294 0.972700193524,-1.85510024428 l0.398075133562,-2.01211079955 -0.211320854723,-2.11091920733 l-0.869603008032,-2.04913049936 -1.43723905087,-1.9520162046 l-1.84315979481,-1.64211899042 -2.09660440683,-1.297814399 l-2.31836304069,-0.969325378537 -2.27361395955,-0.537845902145 l-3.29529613256,-0.178839098662 -2.333355546,0.290679857135 l-1.61313489079,0.587641783059 -1.19258515537,0.792306736112 m2.72446841002,8.12675774097 l-1.75951942801,-0.581844598055 -6.07385754585,-1.5052010119 l-6.84001326561,-1.22386828065 -5.02493917942,-0.323068425059 l-2.98428446054,0.201857183129 -3.10902446508,0.914908722043 m23.889541626,4.46558892727 l-1.96429252625,0.0333260954358 -7.01863706112,1.10142633319 l-4.18344855309,0.89569106698 -3.10170590878,1.00869335234 l-2.19626620412,1.02675966918 -1.42079696059,1.03357359767 m20.789937973,-3.38880389929 l-1.54975727201,0.450737923384 -5.71410655975,3.2258990407 l-6.52717471123,4.69007343054 -1.75974026322,1.4480240643 m25.5840778351,-12.9877793789 l3.3687210083,-0.581119991839 6.09343469143,-0.320724770427 l6.22236907482,-0.555112808943 3.84471863508,-0.000113958794827 l3.6867839098,0.509935356677 1.05137556791,0.401513315737 m-23.7228369713,3.16447019577 l4.44630384445,0.708516687155 3.89528036118,0.988985821605 l3.52292358875,1.27116620541 2.90525883436,1.44292399287 l1.08033113182,0.838916897774 m-17.7968907356,-2.42074772716 l3.46976935863,1.88631013036 4.78761792183,3.05467605591 l4.19219851494,3.18067759275 1.21502868831,1.26656219363 m-21.69444561,-19.5003724098 l0.129600903019,-1.12517558038 0.800416022539,-1.7693464458 l1.08374379575,-1.48350641131 1.54425293207,-1.31653442979 l0.714464485645,0.949614867568 -0.000199777332455,2.84882605076 l-0.379973426461,1.37607008219 m5.44975399971,0.450557805598 l1.28930523992,-1.25219404697 1.86940953135,-1.60637646914 l1.43993899226,-0.830921530724 0.455965921283,1.09380014241 l-0.000222284106712,3.12435805798 -0.545425005257,1.51105627418 l-1.38976112008,2.11816653609 m-10.6656336784,1.25718653202 l0.0594600057229,1.17128476501 m77.4217587701,-9.49063634575 l-1.05272300541,0.231363754719 -1.49198234081,0.905212163925 l-1.40259116888,1.21015749872 -1.35581493378,1.60547852516 l-0.94908580184,1.67874529958 -0.551148727536,1.76460593939 l-0.000181085524673,2.11175531149 0.600012429059,1.80026322603 l1.11243955791,1.60005837679 1.56121686101,1.29039749503 l2.03958272934,0.991111323237 4.07528579235,0.758623853326 l4.1394752264,-9.72608449956e-05 2.65082389116,-0.885989665985 l2.07997068763,-1.30379930139 1.4967417717,-1.60956382751 l0.856701657176,-1.72815218568 0.327393598855,-1.77469983697 l-0.188593510538,-1.67157500982 -0.756347477436,-1.59974947572 l-1.3280646503,-1.58470347524 -2.75902628899,-2.09800451994 l-2.55750745535,-1.30546495318 -2.29568257928,-0.757255256176 l-3.31821739674,-0.523357242346 -2.71527081728,-0.000174231372512 l-1.87796056271,0.439582802355 -1.35757192969,0.697766840458 l-0.891847237945,0.870327502489 -0.536807887256,1.00225783885 m7.28169679642,7.41823911667 l-1.13386549056,1.00583069026 -2.14324891567,1.14934362471 l-3.07324916124,0.953980460763 -6.30411922932,1.25460475683 l-3.12406122684,0.380666591227 -2.14499294758,0.48919711262 l-1.58669188619,0.585118532181 m19.4818115234,-3.42844694853 l-1.00470259786,0.859153717756 -2.89884358644,1.74016907811 l-6.63260281086,3.38040500879 -6.09033346176,2.65592575073 l-1.77707061172,0.270040500909 m19.8901057243,-8.22713673115 l-0.465024933219,3.70004922152 -0.812648683786,2.85652309656 l-1.11152715981,2.39800423384 -1.09302386642,1.67222961783 m8.52242469788,-14.2369294167 l4.02571648359,-0.490326806903 10.7411003113,-1.82064339519 l4.86219853163,-0.888512060046 2.03941062093,-5.94121365793e-05 m-19.7138917446,5.66905319691 l3.63939762115,0.867229029536 5.65425992012,1.48675307631 l3.46987426281,0.576598718762 2.48714253306,0.19827703014 l0.91207370162,0.273711569607 m-16.9982790947,-1.46495297551 l2.29849040508,1.7916251719 4.25688445568,2.84828364849 l6.98166489601,3.86535048485 2.39423140883,0.915944203734 m-25.8874845505,-17.981441021 l-0.165865588933,-1.81872278452 0.0212128902785,-1.7885774374 l0.355022512376,-1.69516652822 0.636772811413,-1.37852430344 l0.858012884855,-1.01530522108 1.34456634521,-0.755780935287 l0.563290379941,0.709295868874 0.515430532396,2.34861001372 l0.324794836342,2.8080072999 0.163361411542,0.813717916608 m4.97062534094,0.382200032473 l2.08155214787,-2.71675139666 2.52416580915,-2.19626873732 l0.909035205841,-0.432681627572 0.283276122063,0.808296352625 l-0.629743561149,4.24503594637 -0.648921951652,2.09819972515 m-11.5411925316,3.481361866 l0.49384213984,-0.263805445284 0.243028625846,0.241926703602 l-0.181605480611,0.104862246662 -0.053020324558,-0.208454411477 m4.86806690693,-0.249655712396 l-0.129984933883,0.151077387854 -0.0608192291111,-0.222034845501 m86.2173719062,-6.631798133 l-0.800843164325,0.153561672196 -1.29188746214,0.689508393407 l-1.87164932489,1.52196630836 -1.24036371708,1.49555578828 l-0.811742693186,1.47446125746 -0.339269675314,1.39644056559 l-0.000196008168132,1.99010044336 0.97118370235,2.10257276893 l1.47220343351,1.47307395935 2.82930016518,1.41759335995 l2.70601212978,0.571088455617 3.32877904177,-0.000185658973351 l2.27597624063,-0.743930786848 1.85063719749,-1.13415829837 l1.34743392467,-1.38155281544 0.858136340976,-1.51142820716 l0.396832302213,-1.61945283413 -0.000103396423583,-2.09597498178 l-0.787668451667,-1.64738163352 -1.17966197431,-1.41628310084 l-1.47763192654,-1.1745390296 -2.82909750938,-1.38160035014 l-2.13164299726,-0.623854622245 -3.09203475714,-0.379225313663 l-2.46064782143,-0.000176889825525 -1.64692685008,0.383203476667 l-1.70256391168,0.959909409285 -0.544241219759,0.582911595702 l-0.496056936681,1.19713075459 m8.4709328413,6.17238163948 l-0.839278921485,0.100494790822 -5.22711515427,1.0365845263 l-7.8011906147,1.26599669456 -8.21896255016,1.30399852991 l-1.43203154206,0.464997515082 -0.358604602516,0.334879159927 l0.27479859069,0.202506612986 m22.7743721008,-3.75505268574 l-5.04449546337,2.63064593077 -7.88665950298,3.35116952658 l-3.55101644993,1.01233907044 -1.43359154463,0.150364693254 m21.6535377502,-8.57915341854 l3.43457400799,1.45957648754 3.03476154804,1.3306298852 l8.16144168377,2.23898544908 3.02991241217,0.493617355824 l1.96072459221,0.00105350693048 1.2331417948,-0.273353680968 m-20.4767012596,-3.56553316116 l2.91390925646,1.76036432385 7.66400158405,3.37751179934 l3.07332366705,0.904266089201 1.92246600986,0.258977115154 l1.67873948812,-0.0587911903858 m-23.3199429512,-11.1704611778 l0.265660416335,-0.000231024241657 0.339218974113,-0.103367250413 l-0.218573044986,0.100157354027 -0.146574806422,-0.0211665453389 l-0.0787196494639,-0.000153823748406 -0.00388697895687,-0.000127832345242 l0.0271065742709,-8.92466050573e-05 -0.211513843387,0.00191773695406 l0.402923449874,-0.0676799938083 -0.347743406892,0.0509304506704 l-0.442712008953,-5.03017827214e-05 m7.21222400665,0.00688569503836 l-0.334367677569,-0.0286015076563 -0.0261707790196,-0.108954887837 l-0.213281940669,0.22262096405 0.150782661512,-0.0285805854946 l0.0544943660498,-0.0606665201485 -0.0826898310333,0.0378933479078 l-0.038236877881,0.0754917319864 m-4.43813830614,1.67824208736 l0.736944004893,-0.000126561062643 m-2.98272818327,1.52260988951 l-0.0167129235342,-6.79959430272e-05 0.922482833266,0.231220312417 l0.789243876934,0.0735459011048 0.528379753232,-0.00204021212994 l0.545105077326,0.316700674593 m-3.02394777536,-0.306086111814 l-0.306961145252,-0.443260408938 -3.03595244884,-1.37290433049 l-1.43399506807,-0.644370466471 -2.26288422942,-0.733746215701 l-5.89421570301,-1.1798543483 -7.22966253757,-0.936437994242 l-4.50277596712,-0.000357130884368 -3.92497420311,0.858423635364 l-3.78847926855,1.62663176656 -3.19427222013,2.14010179043 l-1.65021255612,1.71246424317 -0.821161344647,1.53852552176 l-0.000356921191269,1.45562127233 0.461274273694,0.866288095713 l2.25414305925,1.49081006646 4.66654837132,1.4361461997 l6.71365439892,0.81541493535 18.1164383888,-0.702959001064 l2.91923254728,-0.944255664945 4.49356496334,-2.50916898251 l0.781933069229,-0.871339812875 0.585274361074,-1.6334964335 m52.6524120378,-11.8565135153 l-0.574092790484,0.0804120581597 -0.993667468429,0.470500774682 l-1.54801368713,1.20758935809 -1.43520921469,1.92345306277 l-0.436187908053,0.974724292755 -0.000139388548632,1.88541769981 l0.320744626224,0.805025994778 1.24290451407,1.33320763707 l2.36471578479,1.28009840846 3.21704506874,0.702763050795 l3.4132835269,-0.000192888219317 1.83816805482,-0.793727263808 l1.77455559373,-1.6019615531 0.518018268049,-0.877787843347 l0.3697341308,-1.70932278037 -0.000110823402792,-1.60232633352 l-0.720342025161,-1.51504158974 -1.35807752609,-1.25060081482 l-2.42579132318,-1.37903556228 -3.11367541552,-1.03390417993 l-2.74273335934,-0.348013825715 -2.5818297267,-0.000212740524148 l-1.47140160203,0.342714451253 -1.55218437314,0.952822938561 l-0.827332288027,0.903880000114 -0.163919217885,0.536427870393 m8.61066937447,6.01038098335 l2.21028253436,0.148987425491 4.98449325562,-0.140133481473 l9.98504698277,-0.123348878697 5.26606738567,0.608112625778 l4.06922250986,1.17615237832 0.92357814312,0.532421804965 l1.7260864377,2.08409115672 0.287052728236,0.890151783824 l-0.249102115631,1.76988750696 -1.63553655148,1.29464909434 l-1.93185120821,0.790849477053 -2.16329485178,0.485244356096 l-7.32450723648,0.315707214177 -8.97904574871,-1.1678186059 l-4.79459583759,-1.30088463426 -3.4376975894,-1.47159785032 l-1.42260491848,-0.805969014764 -1.42642617226,-1.39356791973 l-0.845452770591,-1.70598641038 -6.31736884316e-05,-1.43114849925 l0.421087108552,-0.457604080439 m7.21279382706,7.05982685089 l-0.676115900278,1.93000853062 -1.2773104012,2.48345851898 l-0.914197936654,1.60535410047 -0.635868012905,0.747172683477 l-0.434014722705,0.353692397475 m12.8865587711,-5.25023043156 l-0.519021935761,3.15577685833 -0.850263684988,1.87241360545 l-0.601446852088,0.863930955529 m10.5453598499,-5.22026777267 l0.0841656047851,3.46492648125 -0.397443249822,1.7654761672 l-0.430482588708,0.650541931391 m6.07006072998,-6.27663612366 l0.677030608058,3.64985495806 0.656012296677,4.55441564322 m3.07793170214,-14.964312315 l4.29661810398,-0.0803036335856 1.87959909439,-0.631983801723 l1.40462502837,-0.854656100273 3.43778342009,-3.08298319578 l1.46836221218,-2.37536773086 0.923022553325,-2.61803239584 l-0.000133172843562,-2.2229142487 -0.543183870614,-1.10248275101 l-2.73510724306,-1.96834921837 -1.65982544422,-0.611692331731 l-1.98662266135,-3.17030890074e-05 -1.65908709168,0.481598377228 l-2.38763928413,1.5406319499 -1.89177960157,2.23336040974 l-0.824167355895,1.64851471782 -1.30166605115,3.81613194942 l-0.551991090178,1.63439914584 -0.773336067796,1.27257049084 l-1.23362213373,0.948034003377 -3.24517905712,1.11873477697 l-2.52919495106,0.329379066825 -3.68511676788,-7.82794995757e-05 m-20.1643967628,-4.76072728634 l-1.35871246457,-3.6555776 -0.793228596449,-1.7220044136 l0.616980865598,-0.216068029404 2.65580445528,2.49533236027 l1.51071131229,1.79097265005 m5.35683393478,-0.957586839795 l0.840554386377,-2.20779687166 1.83694303036,-2.6588255167 l0.246099382639,0.724646449089 -0.139801008627,2.28658497334 l-0.277562849224,3.81807804108 m-10.4155242443,2.37124830484 l-0.155520718545,-4.82040013594e-05 -0.269501563162,-0.000174406141014 l-0.818388015032,-3.77440096599e-05 m6.53351604939,0.0608242908493 l-0.303285233676,0.15636747703 -0.0117910443805,0.1180041302 l0.286922603846,9.95676236926e-05 m87.7685385881,-7.38987424735 l-0.342884659767,-0.0326933152974 -0.781464576721,0.299764573574 l-1.5146137774,1.08983941376 -1.14889115095,1.65027409792 l-0.526527538896,1.91498994827 -0.000194646163436,1.56864196062 l0.762747079134,1.70027554035 1.4701859653,1.35929837823 l2.26000607014,0.891803354025 2.64717042446,0.250900480896 l3.16830068827,-0.00013217929336 1.58382713795,-0.652152076364 l1.60873308778,-1.43516927958 0.870338082314,-1.85597315431 l-3.98949123337e-05,-1.59375399351 -0.623387694359,-1.29846587777 l-1.22111022472,-1.29893094301 -2.28892087936,-1.64672598243 l-2.76133686304,-1.24988779426 -2.80328631401,-0.673827901483 l-1.75786525011,-0.000209121062653 -1.17423318326,0.381322614849 l-0.881445482373,0.635740458965 m14.6353363991,6.00293815136 l2.41817176342,-0.16956999898 6.09776854515,-0.589030832052 l6.4622169733,-0.00010597707842 8.49314272404,1.36653959751 l6.85401618481,2.06924647093 2.10174486041,1.17215514183 l0.620303861797,0.602095499635 0.672941282392,1.52462914586 l-0.000232234560826,1.21634148061 -0.615553706884,1.10490433872 l-1.145844087,0.835621282458 -1.59293353558,0.646070986986 l-2.03251108527,0.478836931288 -4.08995330334,0.398535467684 l-8.32490324974,-0.000197244698938 -8.96855056286,-1.05012558401 l-7.33244717121,-1.84607625008 -3.51475119591,-1.57978340983 l-1.23553015292,-0.817293971777 -0.791219174862,-0.835289508104 l-0.318155512214,-0.78605748713 m6.26292347908,3.39666187763 l0.131401354447,3.56122672558 -0.175877492875,2.16755107045 l-0.179097391665,1.75001040101 -0.146919451654,0.988211706281 l-0.217402037233,0.372143350542 -0.870476514101,0.422401987016 l-0.728901401162,0.190925654024 -0.489773005247,0.047642425634 l-1.26107677817,-0.455859415233 -0.465980246663,-1.04270190001 l-0.000114242848213,-3.08584690094 0.507878661156,-3.92757594585 l0.595298856497,-2.01526939869 m5.36417961121,1.47210583091 l-1.67302448517e-05,4.89188343287 -0.0568000087515,3.34440678358 l0.048707020469,0.948856920004 0.0884676165879,0.00099637247331 l0.0921808183193,-1.3604940474 0.339711904526,-5.68235814571 l0.0749013386667,-2.62658208609 m18.2541799545,1.79534569383 l0.23194713518,5.97216367722 0.31026320532,2.64126986265 l0.375177711248,0.325795486569 1.04522459209,-3.84095072746 l0.200849175453,-4.0104919672 -0.114421825856,-1.22149974108 m5.13552963734,-0.47951631248 l0.166430901736,5.10445892811 0.143521074206,1.5651884675 l0.354095101357,1.30582809448 0.607761032879,1.36004731059 l0.544009320438,-0.916400700808 6.90093111189e-05,-3.43268990517 l-0.792677029967,-4.30229842663 -0.42882591486,-2.25809857249 m-41.8885421753,-8.08446764946 l-0.409216545522,-0.37060584873 -1.15709476173,-0.849002227187 l-3.71320217848,-2.38312721252 -2.47046336532,-0.909365937114 l-4.01041835546,-1.03238753974 -1.6608543694,-0.000180023089342 l-1.77214041352,0.775729715824 -1.60747006536,1.55395060778 l-0.249967575073,0.658059120178 -5.49498508917e-05,0.957198143005 l0.951231643558,1.30363062024 2.32363581657,1.27965882421 l3.52009624243,0.814445093274 4.1314125061,-0.000191049402929 l2.12789684534,-0.166208557785 1.5600463748,-0.246234238148 l3.51080924273,-1.17107413709 1.24685227871,-0.43788254261 l1.92680701613,-2.100304755e-05 m-14.8272609711,-3.54823380709 l-0.805655568838,-0.0676610507071 -3.72652769089,-0.848078429699 l-1.73000872135,-0.718641206622 -3.59921306372,-1.38419464231 l-1.67971760035,-0.9191108495 -2.61820971966,-1.03047594428 l-1.7006623745,-8.30894987303e-05 -0.0272000255063,0.819789096713 l0.466079413891,0.630247443914 2.98617810011,1.99500307441 l3.74104619026,1.24777369201 4.17889297009,0.787334516644 l2.73290574551,0.308775193989 4.80103135109,-9.47939315665e-05 l4.31188702583,2.3783686629e-05 m66.1227589662,-1.05647943569 l-0.119739593938,-0.105961374938 -0.555940084159,0.121613545343 l-2.06629067659,1.05591244996 -1.20084166527,0.999835804105 l-0.968786627054,1.67256370187 -6.67466701998e-05,1.99248716235 l0.900006592274,1.74439519644 1.56985223293,1.30418807268 l1.4161786437,0.608017221093 2.48360559344,-0.000188215381058 l1.46801665425,-0.646522268653 1.56581327319,-1.43860116601 l0.870430469513,-1.83575406671 -1.94354493033e-05,-1.96889668703 l-0.521695129573,-1.12952955067 -1.0117970407,-1.13949641585 l-1.72306478024,-1.21014460921 -2.07011327147,-0.856653302908 l-1.23532764614,-0.222619622946 -1.58522710204,0.14943591319 m16.8751633167,4.57698911428 l0.428184717894,-3.50979303221e-05 2.59873986244,0.359811410308 l3.9526194334,0.835293978453 3.82494300604,0.978889614344 l5.98491430283,1.36429518461 3.04782390594,0.939204320312 l2.58765667677,1.1074513942 0.601587295532,0.499946326017 l0.554011054337,1.11281886697 -0.000333695206791,1.07096150517 l-0.546506941319,0.973040536046 -1.86812028289,1.30404323339 l-1.98989674449,0.76069816947 -3.73029619455,0.678046569228 l-7.72620975971,0.108168935403 -8.25177967548,-1.26456439495 l-6.76170945168,-1.84651374817 -3.14324349165,-1.45440116525 l-1.31325617433,-0.835504606366 -1.1634016782,-1.44741460681 l-0.521465465426,-1.68418884277 -5.97881853537e-05,-1.24428607523 l0.380104109645,-0.435207374394 1.59591108561,-0.47727946192 l3.32414478064,-0.000211071401282 m0.0573362549767,6.66731536388 l-0.869495198131,1.28957331181 -1.72973930836,1.55463770032 l-3.22608709335,2.57343709469 -1.29516944289,0.717179179192 m17.8614914417,-4.42774355412 l-0.957996919751,2.62257218361 -1.54915526509,2.11917757988 l-1.26952648163,1.09225451946 m12.5926852226,-4.88579511642 l1.87153622508,5.66886246204 0.623434223235,0.794622376561 m3.33348542452,-7.06626355648 l3.7110093236,4.1611084342 2.86255061626,2.65964925289 l0.587722472847,0.310596115887 m-4.39843356609,-14.9318861961 l1.2000054121,-0.584535934031 1.50823041797,-0.870185345411 l5.83425223827,-2.87511914968 5.40851831436,-2.3014895618 l3.17800164223,-1.16762503982 2.78766185045,-0.77985458076 l1.48250281811,-0.000242735659413 1.92209109664,0.510813742876 l1.63724914193,1.15657806396 0.713053122163,0.956336706877 l0.215993206948,0.916363149881 -0.336105376482,0.747361704707 l-0.824851617217,0.606937296689 -4.72090423107,1.43812164664 l-6.54159426689,1.03657051921 -3.28347116709,0.886767655611 l-2.84003704786,0.983144566417 -1.89248383045,0.919015854597 l-1.6743311286,0.903004780412 -1.61625400186,0.795787647367 l-1.44555449486,0.499749034643 -3.35794180632,0.195563193411 l-1.68943047523,-0.0953695643693 -2.60629326105,-7.61798446547e-05 m-23.7284946442,-5.49366354942 l0.12106959708,4.92957133247e-05 m5.30744969845,-0.21600663662 l-0.0399327417836,0.000103532738649 m-5.88018596172,1.20698578656 l0.165055189282,-1.57957379088e-05 0.486535690725,0.299330297858 l0.320439860225,0.0622809911147 0.320644937456,-0.000135349664561 l0.0871312338859,-0.000125964388644 -0.284940879792,-0.000133789735628 m-2.35858157277,0.0939030665904 l-0.139367859811,0.00764035969041 -0.571539849043,-4.11544078815e-05 l-1.35752514005,-0.000128615138237 -0.561179146171,0.0450652558357 m2.24003598094,0.133782913908 l-0.837381780148,0.607680268586 -1.17462486029,0.459080375731 l-0.785231813788,0.275797434151 m2.82436072826,-1.18840895593 l-0.5686840415,0.821235477924 -0.963979288936,0.79313531518 l-0.754424259067,0.453111156821 m3.81136834621,-2.72455483675 l3.69599819183,0.0863127503544 1.71905085444,-0.227262713015 m85.5757000672,2.16459211335 l0.334460884333,-0.507520362735 -0.152028156444,-0.73619633913 l-0.595440790057,-2.1042560041 -0.42881835252,-1.34789988399 l-2.32491879615e-05,-0.969608426094 1.46652370691,0.0064285058761 l3.28931003809,0.463838689029 8.27967464924,0.433349236846 l3.50744813681,0.273294206709 3.06925594807,0.119372038171 l0.562688931823,1.31544932723 0.195494722575,3.10458153486 l0.0043115313747,0.834838971496 0.0767337204888,0.754288360476 l0.122632747516,0.506898127496 1.66526228189,0.279694516212 l2.3574154079,0.313408225775 2.45995119214,0.390120893717 l2.4399754405,0.448820367455 2.10878834128,0.4560636729 l0.0603885762393,1.27386465669 -0.261654797941,2.44093880057 l-0.500286668539,0.390974767506 -15.3416645527,-0.104897245765 l-3.77224743366,-0.238058138639 -9.16058003902,-0.000160039235197 l-3.40849637985,-0.463637411594 -2.00272455812,-0.204662494361 l-1.27670943737,-0.295072998852 -0.951374545693,-0.582421794534 l-0.733232274652,-0.986130461097 9.25143012864e-05,-2.36159324646 l0.51925804466,-2.71760165691 0.663950517774,-0.759231373668 l0.560455881059,-0.192304179072 3.23203802109,-0.236328318715 l10.8670723438,0.377198942006 m15.1319766045,3.65544646978 l3.81168305874,0.584699474275 4.68393832445,0.25470232591 l2.95713692904,0.231362506747 2.08973512053,0.10535554029 l-0.462882630527,0.258936546743 -2.28616565466,1.11558906734 l-2.66716122627,0.570549443364 -6.57844185829,-0.000118205807667 l-3.24561953545,-0.346738956869 -9.52969610691,-0.522328168154 l-2.44194447994,-0.805395171046 -1.47007972002,-0.39112098515 l-4.77880477905,-0.443111024797 -3.85454297066,-0.000398044721805 l-4.83933210373,-0.236139968038 -2.33435943723,-0.194536242634 l-1.9875857234,-0.0842500198632 -1.11805140972,-0.0308111216873 l-9.42834321904e-05,-0.858241021633 0.882021337748,-2.48362526298 l0.566929318011,-0.523057617247 0.519664995372,-0.0960744265467 l7.56592690945,0.0397091638297 11.5582132339,0.208295676857 l10.4374158382,0.209092963487 3.28826159239,0.0641443254426 l3.57855349779,-7.43697501093e-05 0.192151982337,0.192128214985 m-4.42592293024,-0.16060795635 l-0.0564375054091,1.5812702477 m-4.12979215384,-1.69360294938 l-0.142230913043,0.832635760307 m-5.34449398518,-0.751793384552 l-0.260060057044,0.457233712077 -0.34631870687,0.375364981592 m-6.40315294266,-0.844799950719 l-0.40263235569,0.3140373528 -0.250612217933,0.585522912443 m-5.12857615948,-0.657959729433 l-0.434864796698,0.152589268982 -2.05164019462e-05,0.520313307643 l0.4419028759,0.0201035756618 0.341558009386,-0.000117558583952 l0.419356636703,-0.19950510934 -5.43130909136e-05,-0.356371849775 l-0.494620352983,-0.0875113066286 -0.36840505898,-0.0276982574724 m2.62187033892,0.151548637077 l-0.653814971447,0.0387273891829 -0.203496459872,0.254598408937 l0.572155378759,0.171816851944 0.671230256557,-0.000123107329273 l0.225909296423,-0.351839028299 -0.332490578294,-0.133469607681 l-0.432983823121,0.00393590948079 m4.74514991045,0.124767478555 l-0.768317356706,0.0402387464419 -0.161709524691,0.346008948982 l0.360580123961,0.139953782782 0.651588365436,-0.000147763566929 l0.563384667039,-0.000160819672601 -0.000137445267683,-0.18519917503 l-0.419420711696,-0.000168785991264 -0.438373312354,-0.000207592947845 m5.91394364834,-0.0330101768486 l-0.812260881066,0.100660519674 -0.191704295576,0.469364896417 l0.360640101135,0.176900941879 0.789735615253,-0.000154345270857 l0.229543354362,-0.300458762795 -0.152986003086,-0.230786893517 l-0.417761392891,-0.00011278412785 m7.26212739944,0.133851990104 l-0.888017266989,0.187365990132 -0.19449589774,0.487943813205 l0.219769198447,0.270786620677 0.898086279631,-0.000131055803649 l0.246715433896,-0.307870693505 -0.111856954172,-0.264588873833 l-0.414639487863,-0.00012343391063 m6.50281727314,-0.0623971829191 l-0.908522233367,0.573395602405 -0.0928581692278,0.418043099344 l0.397355221212,0.111971953884 0.754116252065,-0.000110250930447 l0.237642601132,-0.330615006387 -0.107775712386,-0.270033404231 l-0.556088276207,-8.68309507496e-05 m54.8034080162,-2.14721279674 l0.576249882579,-0.657738819718 0.0540502555668,-1.37662380934 l-0.105912396684,-3.17857921124 0.00247399817454,-1.44378662109 l1.31129086018,0.2889203839 3.44998419285,0.55849019438 l2.02327087522,0.111471526325 8.90452027321,0.147584946826 l1.79262459278,-0.147424470633 5.54787278175,-3.21463448927e-05 l0.371909439564,1.43562793732 0.134841240942,3.91416728497 l0.277195293456,0.819738358259 1.43761962652,0.133967911825 l3.12156915665,0.152055602521 3.43387782574,0.262827333063 l2.29942843318,0.247207060456 0.295009352267,0.430057533085 l0.227263327688,3.32706362009 -0.322499610484,0.615067072213 l-0.458380058408,0.227946322411 -1.7002774775,0.163875613362 l-7.53753781319,-6.41403403279e-05 -17.3141026497,-0.516761615872 l-4.13670271635,-0.401273816824 -5.05086004734,-0.000237639178522 l-2.00676187873,-0.301114693284 -3.44072043896,-0.34914880991 l-2.31558099389,-0.34594848752 -2.73994773626,-0.305953081697 l-1.57714247704,-0.188210625201 0.0961038190871,-3.6957025528 l1.29315853119,-2.25447669625 0.925650149584,-0.333271771669 l5.80800831318,-0.000285983096546 9.96850192547,0.530195087194 l4.56129014492,-0.0046902988106 3.77831339836,-0.0212449021637 l7.90341079235,-0.000123538993648 3.93542587757,-0.0247700302862 l2.95343667269,-0.0460799876601 m-4.09528583288,2.49020457268 l-0.101406387985,1.52888864279 -0.142418295145,1.69052153826 l-0.28573429212,2.02439382672 m-1.57918080688,-5.56866049767 l1.42022356391,0.149815147743 2.83333450556,0.105449017137 l0.154838031158,0.316420979798 -0.262661203742,4.03999477625 l-0.159305427223,1.15189582109 -0.19041147083,0.734840407968 l-0.833771973848,-0.120022408664 m-29.1902899742,-7.288813591 l1.69692918658,-0.000175465211214 4.70515519381,0.207851752639 l13.2050919533,0.571056269109 5.14947593212,0.300912559032 l5.79668939114,-0.00021185096557 2.17616453767,0.0497011421248 l1.6709908843,-0.0110890343785 1.39285057783,0.0128694844898 m-31.0951948166,-5.52376687527 l0.0978808384389,2.20853805542 0.177104752511,1.08621500432 l0.170046240091,0.83428837359 m5.21684110165,-3.76138657331 l0.51744248718,2.82305836678 0.351111963391,0.984178707004 l0.266326442361,0.156911481172 m5.78899085522,-3.78365218639 l0.749629810452,3.09018701315 0.468524880707,0.491859540343 l0.353732071817,-0.00853725650813 m5.54361701012,-3.23383897543 l0.897318571806,2.49118342996 0.43659619987,0.945089235902 l0.239267926663,0.116383014247 m4.78656470776,-3.38871717453 l1.01442910731,2.89468586445 0.371218845248,1.17386743426 l0.378145836294,0.602371022105 m-24.3468666077,3.34676086903 l-1.25101551414,0.103837726638 -0.945673286915,0.55397387594 l-0.789935290813,1.12702868879 -0.0792637467384,0.599402412772 l0.519235320389,1.01282969117 1.37082129717,0.832507759333 l1.72811076045,0.306310672313 1.73634126782,-9.1766623882e-05 l0.651660785079,-0.21196115762 0.848566219211,-0.749963223934 l5.91169225572e-06,-1.28863438964 -0.645295828581,-0.756398364902 l-1.12272754312,-0.655279904604 -1.60411968827,-0.456598214805 l-1.55811965466,-0.000189701349882 m26.9696974754,0.846580415964 l-1.59791484475,-0.00029610697311 -1.52147859335,0.614215992391 l-0.729926526546,0.676414594054 -0.353138782084,1.08871906996 l-3.06079687107e-05,0.837335735559 0.69167278707,0.980551987886 l0.599420629442,0.357648469508 1.4833047986,0.325746946037 l2.28589475155,-8.42847566673e-05 1.33887127042,-1.02478645742 l0.245425719768,-1.06662787497 -0.257597696036,-0.997521728277 l-0.799571722746,-0.820630937815 -1.46015584469,-0.792224481702 l-1.68061047792,-0.472595952451 m-29.8440265656,-5.21363675594 l0.634939819574,0.0294309481978 8.83153915405,0.18097428605 l4.82362151146,0.11661214754 5.01452565193,0.159020014107 l5.46618282795,0.126993078738 5.11264503002,0.14596725814 l1.78291469812,0.0109928462189 4.601816535,-6.10199413131e-05 l2.76153326035,0.06285878364 m37.0001563104,0.230233606783 l0.773810818791,-0.780032724142 0.272988919169,-2.32334703207 l0.22511491552,-3.47314298153 0.184976309538,-1.91972568631 l1.92811787128,0.780996754766 4.01163846254,0.744545310736 l4.35732960701,0.408964678645 4.38751965761,0.186248533428 l4.16760116816,0.119311353192 4.20186549425,0.00525766110513 l3.64925384521,0.0406110053882 3.01986187696,0.0447271158919 l0.250927116722,0.328645221889 -0.117834387347,5.74526965618 l0.0161475862842,0.851716846228 0.0719993188977,0.539017356932 l0.797013118863,0.025145499967 1.92286238074,-0.0110834510997 l2.69466936588,0.119563220069 2.1972347796,0.239456463605 l1.88705027103,0.229234006256 0.173245184124,1.63888141513 l-0.109046902508,2.83881932497 -0.509129203856,0.2707724832 l-10.6712400913,6.6709121711e-05 -20.2186942101,-0.519036091864 l-4.03884649277,-0.450172275305 -8.81336510181,-0.44698830694 l-1.00869007409,-0.597673766315 -0.608417242765,-0.756120234728 l0.207585059106,-2.23994508386 0.7310564816,-2.04503104091 l0.821128189564,-1.64324641228 0.494947731495,-0.30375642702 m4.12084043026,4.11362200975 l5.169968009,0.217308476567 5.27096748352,0.171645097435 l11.5321314335,0.374396033585 2.28255808353,0.0120746449102 l7.62313842773,-7.50488288759e-05 1.15880921483,-0.0370535789989 l1.6957886517,0.0312591996044 m-31.1058664322,-5.39704859257 l0.0570042617619,1.08446724713 -0.0881399214268,1.51235923171 l0.42782317847,0.174676049501 3.62102895975,-0.000173086027644 l1.46610021591,-0.081617468968 0.140145504847,-0.294351372868 l-2.35374227486e-05,-1.52856811881 -0.69556646049,-1.13646000624 l-0.787341371179,-0.269381459802 -3.63730818033,-0.000213211951632 m9.43131864071,1.19941912591 l-0.0041988180601,1.85372486711 0.292387064546,0.488059036434 l6.23452484608,-0.0399936176836 -0.416381135583,-1.84110671282 l-0.797046497464,-0.57077974081 -3.52693915367,-0.000170852890733 l-1.47142454982,-0.0216502696276 m10.3481698036,0.497786737978 l-0.181375201792,1.83700844646 0.359834134579,0.435759350657 l3.03960561752,0.0346830999479 2.09818184376,-0.188041422516 l0.21365981549,-0.319672822952 -7.59299746278e-05,-1.21715642512 l-0.265836324543,-0.24336155504 -5.06268084049,-0.471448302269 l-1.39919474721,-0.00597669859417 m9.89276170731,0.0828793551773 l-1.13283965675e-05,1.80148109794 0.346947200596,0.466093756258 l2.64591902494,0.0238319765776 0.235521178693,-0.227250512689 l0.160892996937,-0.732935741544 -0.559511817992,-1.2585529685 l-0.843542590737,-0.287528261542 -3.00104707479,-0.000225624698942 m-19.6321773529,7.38409042358 l-0.901262760162,0.0146772712469 -1.68149679899,0.703638568521 l-0.645077377558,0.795703530312 -7.07747994966e-05,0.949522033334 l0.301645323634,0.382154323161 1.13292463124,0.534128919244 l2.6229351759,-0.000102144886114 0.655227005482,-0.753250494599 l-1.07132882476e-05,-1.37524157763 -0.604641139507,-0.603416375816 l-1.15672841668,-0.522241704166 m20.1180315018,0.617494955659 l-1.43678978086,-0.000200604936254 -0.993494689465,0.387228839099 l-0.996910259128,0.933575183153 -0.305412840098,0.770391747355 l-1.5898745005e-05,1.00444167852 0.710157454014,0.784713327885 l1.40399307013,0.500174127519 2.25450396538,-7.18338105798e-05 l0.834328383207,-0.640552788973 0.318757481873,-1.02652564645 l5.03257660966e-05,-1.25412166119 -0.5726775527,-0.720833912492 l-1.09828725457,-0.504177622497 m-26.3925147057,-6.20228052139 l-0.559029579163,-0.0095378048718 -2.26619169116,0.4306403175 l-1.03231884539,0.670168474317 -0.234930254519,1.58446833491 l-2.13691600948e-05,1.39370322227 0.172374267131,0.422167815268 l1.69319614768,0.635837763548 3.86396497488,-5.03750698044e-05 l1.01378776133,-0.504933670163 0.150792319328,-0.494896508753 l3.10012205773e-05,-1.74102365971 -0.968177244067,-1.79080799222 l-0.855878219008,-0.526622980833 -1.40995636582,-0.348166339099 m18.9080548286,1.44115403295 l-0.061330748722,-9.8052305475e-05 -1.09743915498,0.906925052404 l-0.641183033586,1.21465943754 -4.65345738121e-05,1.20015159249 l0.262861158699,0.359237156808 1.08631111681,0.514072850347 l3.20742070675,2.37326673869e-06 0.878235846758,-0.506976805627 l0.179519671947,-0.494617894292 8.66047685122e-06,-1.45371094346 l-0.644826367497,-0.758478194475 -1.13258346915,-0.41206382215 \" fill=\"none\" stroke=\"black\" stroke-width=\"1\"/></svg>"
          },
          "metadata": {
            "tags": []
          }
        }
      ]
    },
    {
      "metadata": {
        "id": "flZ_OgzCFQwJ",
        "colab_type": "text"
      },
      "cell_type": "markdown",
      "source": [
        "Why stop here? Let's load the model trained on both elephants and pigs!!!"
      ]
    },
    {
      "metadata": {
        "id": "S8WwK8FPFQwK",
        "colab_type": "code",
        "colab": {}
      },
      "cell_type": "code",
      "source": [
        "model_dir = '/tmp/sketch_rnn/models/elephantpig/lstm'"
      ],
      "execution_count": 0,
      "outputs": []
    },
    {
      "metadata": {
        "id": "meOH4AFXFQwM",
        "colab_type": "code",
        "colab": {
          "base_uri": "https://localhost:8080/",
          "height": 255
        },
        "outputId": "764938a7-bbdc-4732-e688-a8a278ab3089"
      },
      "cell_type": "code",
      "source": [
        "[hps_model, eval_hps_model, sample_hps_model] = load_model_compatible(model_dir)\n",
        "# construct the sketch-rnn model here:\n",
        "reset_graph()\n",
        "model = Model(hps_model)\n",
        "eval_model = Model(eval_hps_model, reuse=True)\n",
        "sample_model = Model(sample_hps_model, reuse=True)\n",
        "sess = tf.InteractiveSession()\n",
        "sess.run(tf.global_variables_initializer())\n",
        "# loads the weights from checkpoint into our model\n",
        "load_checkpoint(sess, model_dir)"
      ],
      "execution_count": 81,
      "outputs": [
        {
          "output_type": "stream",
          "text": [
            "INFO:tensorflow:Model using gpu.\n",
            "INFO:tensorflow:Input dropout mode = False.\n",
            "INFO:tensorflow:Output dropout mode = False.\n",
            "INFO:tensorflow:Recurrent dropout mode = False.\n",
            "INFO:tensorflow:Model using gpu.\n",
            "INFO:tensorflow:Input dropout mode = 0.\n",
            "INFO:tensorflow:Output dropout mode = 0.\n",
            "INFO:tensorflow:Recurrent dropout mode = 0.\n",
            "INFO:tensorflow:Model using gpu.\n",
            "INFO:tensorflow:Input dropout mode = 0.\n",
            "INFO:tensorflow:Output dropout mode = 0.\n",
            "INFO:tensorflow:Recurrent dropout mode = 0.\n",
            "INFO:tensorflow:Loading model /tmp/sketch_rnn/models/elephantpig/lstm/vector.\n",
            "INFO:tensorflow:Restoring parameters from /tmp/sketch_rnn/models/elephantpig/lstm/vector\n"
          ],
          "name": "stdout"
        }
      ]
    },
    {
      "metadata": {
        "id": "foZiiYPdFQwO",
        "colab_type": "code",
        "colab": {
          "base_uri": "https://localhost:8080/",
          "height": 121
        },
        "outputId": "a09fc4fb-110f-4280-8515-c9b673cb6b90"
      },
      "cell_type": "code",
      "source": [
        "z_0 = np.random.randn(eval_model.hps.z_size)\n",
        "_ = decode(z_0)"
      ],
      "execution_count": 82,
      "outputs": [
        {
          "output_type": "display_data",
          "data": {
            "text/plain": [
              "<IPython.core.display.SVG object>"
            ],
            "image/svg+xml": "<svg baseProfile=\"full\" height=\"100.1374763\" version=\"1.1\" width=\"142.341965201\" xmlns=\"http://www.w3.org/2000/svg\" xmlns:ev=\"http://www.w3.org/2001/xml-events\" xmlns:xlink=\"http://www.w3.org/1999/xlink\"><defs/><rect fill=\"white\" height=\"100.1374763\" width=\"142.341965201\" x=\"0\" y=\"0\"/><path d=\"M75.6208756314,29.3256763004 m-0.582655221224,-1.41240119934 l-1.66317984462,-1.22074924409 -2.75809496641,-1.09683960676 l-3.07550758123,-0.595324225724 -3.89009475708,-0.0003620244388 l-2.75750011206,0.816095769405 -2.29113280773,1.42393887043 l-1.95413276553,1.73745810986 -2.5669786334,3.43614578247 l-1.2735286355,2.90598779917 -0.989861860871,4.62075203657 l-1.10287764699e-06,3.90399307013 0.0547751411796,2.40621611476 l-5.02344391862e-05,4.53562498093 -0.561834573746,2.95333892107 l-1.06312431395,2.36744016409 -1.39197811484,1.87399983406 l-1.81149438024,1.4499156177 -3.41289192438,1.46371915936 l-4.07461106777,0.591216534376 -2.99031198025,-0.000154946810653 l-2.05114141107,-0.504599288106 -3.31417560577,-2.18389704823 l-1.98922514915,-2.78586387634 -1.16057910025,-3.39478313923 l-0.749077796936,-1.05758979917 -1.1735855788,0.551885999739 l-1.12867623568,2.37056776881 -0.000225016756303,2.13919103146 l1.86253547668,3.32723408937 2.09212735295,2.05651387572 l2.78266966343,1.62848427892 2.35207825899,0.817296206951 l3.75963628292,0.627428814769 4.50475424528,-0.000153672626766 l2.55202025175,-0.602679848671 3.2840013504,-1.56706660986 l2.95549511909,-2.35042721033 2.25631594658,-2.8442376852 l1.56401470304,-3.43744754791 1.15526020527,-1.92337587476 l1.24448925257,-1.33059889078 1.20743431151,-0.737381130457 l2.127353549,-5.7606757764e-05 0.882499217987,0.618953853846 l0.892083570361,1.13026738167 0.919248387218,2.08400338888 l1.45457953215,1.42186954618 2.3826391995,0.643569454551 l3.19635272026,-7.14248699296e-05 1.80601090193,-0.769607052207 l2.01613679528,-1.80690050125 1.76834836602,-2.94737517834 l1.10689990222,-3.9570748806 -0.000208850142371,-3.89997035265 l-0.712704136968,-2.58619070053 -1.0928696394,-1.96944758296 l-1.35899797082,-1.44939050078 -2.53083497286,-1.57845303416 l-1.3102221489,-0.938470289111 m-8.47513616085,2.06321552396 l2.4355866015,-0.519107766449 m0.0358278979547,4.56360518932 l1.47531658411,0.13141923584 1.70170679688,0.58035377413 l1.42589494586,1.11343696713 1.35092258453,1.92930743098 l0.647478997707,3.07652205229 -0.000102521598819,4.67519849539 l-0.69078065455,2.5873413682 -1.09512798488,1.92682042718 l-1.49378657341,1.34781494737 -1.76812708378,0.683051273227 l-1.73257008195,-6.02221098234e-05 -1.2951849401,-1.2457408011 l-1.54103249311,-3.08542668819 -0.340462885797,-2.90916055441 l-9.72003363131e-05,-3.77835482359 m5.41582465172,-4.64801728725 l0.886888504028,1.27891331911 1.70460686088,2.93731004 l1.42219677567,3.44551324844 1.11802093685,3.74898761511 l1.05097316206,4.37461674213 0.681472197175,4.86078739166 l0.532193183899,4.21487510204 0.503655560315,3.45398724079 l0.972457081079,3.35574686527 4.5726788044,0.662470981479 l5.87475061417,0.0322064291686 0.792977139354,-0.890891775489 l-0.000170101102412,-6.2473064661 0.294471308589,-4.34204846621 l0.982625558972,-1.62652179599 6.85891509056,-0.797987431288 l7.57929980755,-0.391377769411 0.904950499535,0.837505757809 l0.270838290453,7.563611269 0.89445322752,4.74498152733 l0.910309106112,0.974612608552 7.57054567337,-0.12530952692 l1.04310050607,-0.603834278882 1.12687677145,-1.70403778553 l1.33766591549,-5.06121516228 0.211263485253,-5.79871416092 l0.121820848435,-4.75001722574 0.359147302806,-4.64286923409 l0.58768376708,-4.5747640729 -7.25926793166e-05,-4.30104911327 l-0.775724723935,-3.36740553379 -1.36360242963,-2.7925285697 l-1.96151554585,-2.37419635057 -4.03261274099,-2.97431200743 l-3.31938505173,-1.49296477437 -5.44422984123,-1.3656245172 l-6.53502523899,-0.000157591148309 -4.3574282527,0.902363657951 l-4.84326660633,1.89100310206 -2.40882813931,1.37651488185 \" fill=\"none\" stroke=\"black\" stroke-width=\"1\"/></svg>"
          },
          "metadata": {
            "tags": []
          }
        }
      ]
    },
    {
      "metadata": {
        "id": "6Gaz3QG1FQwS",
        "colab_type": "code",
        "colab": {
          "base_uri": "https://localhost:8080/",
          "height": 163
        },
        "outputId": "0cfc279c-1c59-419f-86d4-ed74d5e38a26"
      },
      "cell_type": "code",
      "source": [
        "z_1 = np.random.randn(eval_model.hps.z_size)\n",
        "_ = decode(z_1)"
      ],
      "execution_count": 84,
      "outputs": [
        {
          "output_type": "display_data",
          "data": {
            "text/plain": [
              "<IPython.core.display.SVG object>"
            ],
            "image/svg+xml": "<svg baseProfile=\"full\" height=\"142.446283479\" version=\"1.1\" width=\"121.156762694\" xmlns=\"http://www.w3.org/2000/svg\" xmlns:ev=\"http://www.w3.org/2001/xml-events\" xmlns:xlink=\"http://www.w3.org/1999/xlink\"><defs/><rect fill=\"white\" height=\"142.446283479\" width=\"121.156762694\" x=\"0\" y=\"0\"/><path d=\"M47.3451428087,38.8328450652 m-2.69179135561,-0.522680617869 l-2.46359333396,0.129737621173 -3.64385932684,1.0975138098 l-2.15494379401,1.07036538422 -2.08060890436,1.53608307242 l-1.96840047836,2.08357974887 -1.74982562661,2.6373142004 l-1.34052321315,3.16095918417 -0.773111879826,3.57092946768 l-0.00011535658814,6.66993737221 1.26118257642,3.88434410095 l2.23773092031,3.732226789 3.06275784969,3.34774464369 l3.70705157518,2.74497538805 4.19200122356,2.04243674874 l4.60648804903,1.16009183228 4.82164353132,0.346559546888 l4.85705465078,-0.46856187284 4.67804729939,-1.30255714059 l4.22396481037,-2.06189543009 3.67749035358,-2.70488619804 l2.9124763608,-3.24077129364 2.11292609572,-3.73789638281 l1.22385747731,-4.0058645606 0.389578789473,-4.10688310862 l-0.395166948438,-4.06808823347 -2.03144267201,-4.19365376234 l-2.74696111679,-3.68090391159 -3.35527479649,-3.11336934566 l-3.77657920122,-2.39820197225 -4.10039186478,-1.66519939899 l-4.22022551298,-0.929644852877 -4.23147052526,-0.284992158413 l-3.82128596306,0.320291407406 -3.23317825794,0.905640497804 l-2.34930440784,1.56960785389 m6.13138318062,16.7095828056 l-0.719936415553,1.17638163269 -0.0361430016346,3.35672169924 l1.70996874571,2.95245826244 2.10571438074,1.3426668942 l2.49130383134,0.738167464733 2.69166857004,0.112504223362 l2.34241992235,-1.29301711917 1.75146520138,-1.91541656852 l1.06740474701,-2.18215048313 0.356686748564,-2.17146858573 l-0.306813810021,-2.01713651419 -1.91864490509,-1.80962726474 l-2.74145185947,-0.976984575391 -3.70214641094,-9.05096749193e-05 l-2.21886113286,1.41673818231 -1.0569217056,2.1912111342 m3.31286668777,2.92156904936 l-0.00127496110508,9.13770236366e-05 m4.82796519995,-0.242250692099 l-0.00170641360455,8.72614782566e-05 m-6.82623028755,-0.151730859652 l-0.00119594427815,-9.57147790359e-06 m5.99596917629,0.11367588304 l-0.000914006886887,0.000136158987516 m-16.9885921478,-11.680355072 l-0.818383544683,-0.229816455394 m22.6836252213,-1.48830547929 l0.00150344174472,-0.000165050223586 m-29.3880820274,3.16085159779 l-3.24901610613,-5.98880529404 -4.6749702096,-12.1396255493 l0.10100627318,-2.48672604561 2.45123192668,-1.7078320682 l2.37694829702,0.495375953615 6.47590875626,4.74105596542 l5.4493445158,4.70880299807 2.04894557595,1.55856758356 m20.8354377747,0.784763395786 l0.355187766254,-2.05176264048 3.11466038227,-4.65667247772 l6.12619042397,-6.64859414101 1.80937632918,0.92253126204 l0.291855279356,9.25140440464 -0.0302001321688,7.49153196812 l-0.0555114913732,2.07715794444 m-30.3195738792,21.4522743225 l-2.83037006855,0.808310285211 -2.34350711107,1.84400230646 l-3.49290966988,4.2313721776 -2.72830665112,5.57296454906 l-1.28466308117,4.81901556253 -0.337231941521,4.46374237537 l0.522851757705,4.03009414673 1.33307233453,3.76228779554 l2.22003132105,3.50767344236 3.0556127429,2.98304110765 l3.85734289885,2.40282431245 4.55951154232,1.79839834571 l5.22038280964,1.19931094348 5.79709410667,0.56781925261 l6.00298702717,-0.112360613421 6.04290783405,-0.952734276652 l5.68931043148,-1.74580782652 5.14512181282,-2.44568526745 l4.47602778673,-3.17111521959 3.73202204704,-3.75576108694 l2.85150945187,-4.18114542961 1.86040177941,-4.58756119013 l0.776755735278,-4.70811665058 -0.167255941778,-4.60611075163 l-1.02364048362,-4.13730382919 -1.91024109721,-3.71803939342 l-2.63743102551,-3.18669259548 -3.32270681858,-2.57904231548 l-3.85786920786,-1.87214508653 -4.18146580458,-1.13132365048 l-4.41078215837,-0.471304915845 -4.28273439407,0.0765748461708 l-3.89084875584,0.625018998981 -3.32822203636,1.12325668335 m-17.0552754402,35.0428938866 l-1.10362760723,6.38467431068 -2.09086015821,8.7335306406 l-0.828807502985,4.63682770729 m14.5904958248,-15.6632947922 l0.0219103763811,10.053716898 0.203560218215,3.23187142611 \" fill=\"none\" stroke=\"black\" stroke-width=\"1\"/></svg>"
          },
          "metadata": {
            "tags": []
          }
        }
      ]
    },
    {
      "metadata": {
        "id": "oVtr7NnGFQwU",
        "colab_type": "text"
      },
      "cell_type": "markdown",
      "source": [
        "Tribute to an episode of [South Park](https://en.wikipedia.org/wiki/An_Elephant_Makes_Love_to_a_Pig): The interpolation between an Elephant and a Pig"
      ]
    },
    {
      "metadata": {
        "id": "lJs9JbROFQwU",
        "colab_type": "code",
        "colab": {}
      },
      "cell_type": "code",
      "source": [
        "z_list = [] # interpolate spherically between z_1 and z_0\n",
        "N = 10\n",
        "for t in np.linspace(0, 1, N):\n",
        "  z_list.append(slerp(z_0, z_1, t))\n",
        "# for every latent vector in z_list, sample a vector image\n",
        "reconstructions = []\n",
        "for i in range(N):\n",
        "  reconstructions.append([decode(z_list[i], draw_mode=False, temperature=0.15), [0, i]])"
      ],
      "execution_count": 0,
      "outputs": []
    },
    {
      "metadata": {
        "id": "0FOuNfJMFQwW",
        "colab_type": "code",
        "colab": {}
      },
      "cell_type": "code",
      "source": [
        "stroke_grid = make_grid_svg(reconstructions, grid_space_x=25.0)"
      ],
      "execution_count": 0,
      "outputs": []
    },
    {
      "metadata": {
        "id": "bZ6zpdiMFQwX",
        "colab_type": "code",
        "colab": {
          "base_uri": "https://localhost:8080/",
          "height": 130
        },
        "outputId": "70679bd1-4dba-4c08-b39f-bbde81d22019"
      },
      "cell_type": "code",
      "source": [
        "draw_strokes(stroke_grid, factor=0.3)"
      ],
      "execution_count": 87,
      "outputs": [
        {
          "output_type": "display_data",
          "data": {
            "text/plain": [
              "<IPython.core.display.SVG object>"
            ],
            "image/svg+xml": "<svg baseProfile=\"full\" height=\"109.00576679\" version=\"1.1\" width=\"862.546443792\" xmlns=\"http://www.w3.org/2000/svg\" xmlns:ev=\"http://www.w3.org/2001/xml-events\" xmlns:xlink=\"http://www.w3.org/1999/xlink\"><defs/><rect fill=\"white\" height=\"109.00576679\" width=\"862.546443792\" x=\"0\" y=\"0\"/><path d=\"M25,38.1831235842 m0.0,0.0 m40.3581455331,2.82800302197 l-0.378496597211,-0.942793885867 -1.08258038759,-0.83274135987 l-1.8540841341,-0.789756278197 -2.15390443802,-0.487522731225 l-2.79743472735,-0.000234783122626 -1.7284421126,0.606830815474 l-1.53313219547,1.02461586396 -1.29573484262,1.22345874707 l-1.58294657866,2.25630164146 -0.798018773397,1.92778845628 l-0.568047215541,2.96886920929 3.9221716482e-05,2.74062494437 l0.0825978443027,1.70337537924 0.0658295986553,1.83018108209 l-4.18956369685e-05,2.86497910817 -0.36412725846,2.06300278505 l-0.580140650272,1.543366611 -0.913490056992,1.52876536051 l-1.1813339591,1.22372478247 -1.29933635394,0.753335903088 l-2.1799403429,0.532850772142 -1.8045214812,-9.4624022798e-05 l-1.25179062287,-0.368923122684 -1.72518908978,-1.17050498724 l-1.45504683256,-1.84583723545 -0.755226860444,-2.00826346874 l-0.985868275166,0.210959662994 -1.00094437599,1.68799161911 l0.108616761863,2.33768125375 0.753759394089,1.22163434823 l0.915662447611,0.952262282372 1.72761420409,0.970152616501 l2.33942826589,0.738220065832 2.66645093759,-3.50273846076e-05 l1.60050223271,-0.253365536531 2.26083318392,-0.883591671785 l2.00808962186,-1.36971453826 1.50928040346,-1.65376057227 l1.37365102768,-2.43256568909 0.475250035524,-1.12122406562 l0.861239135265,-1.7592249314 0.846806466579,-1.2684978048 l0.72356586655,-0.473249256611 1.39712731043,-7.09822537222e-05 l0.63394472003,0.422367701928 0.62478368481,0.72414735953 l0.669047733148,1.25953455766 1.00913008054,0.764722476403 l1.81411385536,0.287176221609 2.47577369213,-2.5789419548e-05 l1.06462736924,-0.458767265081 1.30395621061,-1.1537061135 l1.06676538785,-1.77375157674 0.723564475775,-2.5575919946 l-0.000155070022932,-2.51510798931 -0.39561457932,-1.60602162282 l-0.643726934989,-1.38317296902 -0.854347546895,-1.06314480305 l-2.43696173032,-1.57457093398 -0.937446753184,-0.636196732521 l-1.48657073577,-0.648199866215 m-3.64236474037,2.49623179436 l-0.000173840526259,0.84529966116 m1.12244407336,0.867857038975 l-0.0002331820239,1.01362705231 m3.33216090997,1.85423254967 l-0.00010090814006,2.0757273833 0.197403617203,1.46861940622 l0.372601772348,3.40051015218 0.380365500847,3.70887160301 l0.185999895136,4.0286608537 0.213129892945,2.76001870632 l0.464647163947,0.665376186371 3.83311033249,0.32306474944 l0.50651734074,-0.563532114029 -0.000109039259163,-3.79998922348 l0.536116858323,-3.05108428001 0.671009868383,-0.686208158731 l1.75060470899,-0.408555269241 0.567283580701,0.4294462502 l0.309656634927,0.863170226415 0.0688720370332,4.64280088743 l0.611871977647,1.92999521891 0.656995574633,0.521012445291 l1.82740231355,0.000106826288781 0.691714435816,-0.423030406237 l1.00126475096,-1.99268082778 0.305511454741,-5.19896666209 l0.746012379726,-1.12652818362 4.29864366849,-0.407001078129 l4.13205067317,-0.32341239353 0.506373544534,0.531463126342 l-0.0732465833426,4.37028686206 0.458998382092,3.29502264659 l1.4017272989,0.839974880219 1.68818195661,-6.1790979089e-05 l0.671848207712,-0.514399906 0.926823019981,-2.3958359162 l0.368392691016,-2.92728265127 -7.74879360203e-05,-2.11215595404 l0.469564547141,-0.575836400191 0.643949558338,0.636035899321 l0.616255005201,4.11497950554 0.562191704909,3.1211344401 l0.556699385246,0.607586105665 2.47283756733,-0.480076819658 l0.643956561883,-0.682924042145 0.572394082944,-1.56708449125 l0.27671555678,-2.55557676156 -0.23298509419,-3.28345259031 l-1.5864850084,-7.74031877518 -0.352423340082,-1.64118091265 l-0.655504117409,-1.61060283581 -1.01384510597,-1.44528677066 l-1.4810226361,-1.34819507599 -2.83679922422,-1.56789163748 l-3.74763170878,-1.24461640914 -4.67546860377,-0.805585235357 l-5.31808018684,-0.000146045761843 -3.03719202677,0.46410664916 l-3.24039161205,1.0053323706 m79.7116583084,-5.13219681341 l-0.534425328175,-0.964543720086 -1.18314961592,-0.770847549041 l-2.07376460234,-0.744169702133 -2.1265121301,-0.292076120774 l-2.80123472214,-0.000243839604082 -1.96544647217,0.556908349196 l-1.16316884756,0.57935471336 -2.22630143166,1.6610784332 l-1.31700525681,1.58782680829 -0.867328047752,1.66680733363 l-0.918102065722,2.9907176892 -0.183018743992,1.4225028952 l3.67350518597e-05,3.36017052333 0.0934144792457,1.85742298762 l1.74072420123e-05,3.28979412715 -0.288573130965,2.11588561535 l-0.531477679809,1.81433618069 -0.749007413785,1.56301945448 l-0.993230640888,1.26051257054 -1.2416540583,0.92407176892 l-2.32341766357,0.966442426046 -2.55559941133,0.401263435682 l-2.18913296858,-4.30526779382e-05 -1.22439950705,-0.136788686117 l-1.54078394175,-0.480284790198 -1.54578864574,-1.04070593913 l-1.1411378781,-1.50937368472 -0.627775837978,-0.787282536427 l-0.96553593874,-1.31941934427 -0.691318909327,0.104696303606 l-0.310184185704,0.844540099303 -0.000117097576246,1.56131396691 l1.40984346469,2.5635834535 1.92644695441,1.93178574244 l1.8845230341,0.959753592809 2.53824969133,0.700077911218 l1.97615305583,0.16793658336 3.50420753161,-1.93783853319e-05 l1.95971866449,-0.527037382126 2.38549470901,-1.24050954978 l2.15361714363,-1.85225844383 1.65720085303,-2.36476858457 l1.15816503763,-2.84471869469 0.80541079243,-2.26260741552 l0.746504664421,-1.46713803212 0.821268161138,-0.539925595125 l1.55364175638,-1.90746031118e-06 0.730584015449,0.371394455433 l0.852735837301,1.02067460616 1.14939173063,0.605365733306 l2.13381290436,-4.34023543979e-05 1.17937932412,-0.55977900823 l0.790538340807,-0.857036411762 m-3.63712867101,-14.1274038951 l1.3760972023,-0.912242233753 1.55219137669,-0.430446763833 l2.39244083563,-0.0503830829014 0.857728024324,0.355421875914 l1.29307945569,1.30189627409 0.739156752825,1.24422649542 l0.660279293855,2.20664203167 0.289188126723,3.14302126567 l-8.30073016308e-05,3.1806153059 -0.52254597346,1.75252715747 l-0.862245559692,1.25282615423 -1.85159166654,1.26960009336 l-1.65028591951,0.366788829366 -2.25817700227,-0.214088335633 l-0.803025116523,-0.409304474791 -1.24818940957,-1.3160615166 l-0.378351633747,-1.59562071164 -0.000143288210287,-2.24053442478 m-2.62423614661,-3.76348574956 l-0.0199473897616,0.000118513659496 m1.4131774505,3.57199748357 l-0.00226518566099,-0.000180833934185 m3.06408603986,2.23802169164 l0.451335062583,0.76301202178 0.771556695302,2.30067213376 l1.1384382844,6.79978450139 0.482720434666,4.13218776385 l0.462354371945,3.28245719274 0.521697103977,0.661311795314 l3.84202162425,0.258036305507 0.600000619888,-0.425707697868 l-0.000196825300615,-3.90051960945 0.507809619109,-3.28396201134 l0.903975168864,-1.05325698853 4.45390383403,-0.68353826801 l0.523834874233,0.603774885337 -0.0570204046865,4.91134643555 l0.373570298155,2.66630868117 0.619552284479,0.685947885116 l3.51276914279,0.0567222572863 1.18031442165,-0.538840293884 l0.440325041612,-0.764643847942 -0.000151193380589,-3.97840579351 l0.190573843817,-2.80719002088 0.668379018704,-0.860503216585 l2.33252326647,3.47267329441e-05 0.679913262526,0.514319837093 l0.43888002634,0.823498268922 0.26270399491,4.79691545169 l0.555342882872,2.22365399202 3.36935361226,-0.0917274442812 l0.659233778715,-0.603580772877 0.651618242264,-1.52456849813 l0.368426019947,-3.6311451594 0.345245997111,-1.78049067656 l0.538131246964,-0.827623556058 0.90218881766,-0.806671530008 l0.700119634469,0.415915946166 0.72043304642,3.49637468656 l0.421292185783,3.69639555613 0.73510641853,0.658034980297 l2.76178518931,-0.4612797002 1.15869561831,-1.09328111013 l0.845655699571,-1.93027396997 0.42413264513,-2.78382837772 l-0.00011981192074,-4.58570599556 -0.524333765109,-2.44391679764 l-0.790698478619,-1.94302380085 -1.16065432628,-1.85378154119 l-2.43557810783,-2.37028360367 -3.46931060155,-2.14082181454 l-4.22654827436,-1.65003468593 -4.79891777039,-0.981968442599 l-4.46155667305,-0.000143765670752 -3.40217192968,0.413642177979 l-2.61940618356,0.558153837919 m75.5132760441,-8.40224927805 l-0.647881726424,-0.960763891538 -1.26269598802,-0.726388494174 l-2.15833147367,-0.63084974885 -2.21422175566,-0.284533600012 l-2.65532354514,-0.000208413475775 -2.12707161903,0.545661002398 l-1.88203990459,0.811405132214 -1.69594566027,1.04265034199 l-1.50009642045,1.27114037673 -1.24306132396,1.51177565257 l-1.01501643658,1.76229854425 -0.710816433032,1.96989476681 l-0.425152728955,2.17080930869 6.39894763784e-05,3.37467153867 l0.291962871949,2.17578053474 0.879583954811,2.53084381421 l1.06266836325,2.12567985058 0.704809476932,1.8490922451 l1.12576633692,2.60938028495 0.497678667307,1.7729049921 l-0.000165063502209,2.50708401203 -0.475227087736,1.73998773098 l-0.817156980435,1.4180385073 -1.78509771824,1.59424990416 l-2.47498353322,1.028607289 -1.83643897374,0.152688051263 l-1.33292396863,-0.26259072125 -1.96042160193,-1.10797444979 l-2.19042738279,-2.75286436081 -1.08127564192,0.303873121738 l-1.056719323,1.64147913456 -0.0979286494354,0.913392106692 l0.67027464509,1.07767870029 0.79878722628,0.530536919832 l2.83552885056,0.918850501378 3.89806747437,1.26897166173 l2.87489195665,-8.76343923058e-05 1.91488385201,-0.452749629815 l2.37889866034,-1.14426493645 1.62321607272,-1.12925757964 l1.1673121651,-1.19755993287 1.28890474637,-2.07585493724 l0.969984928767,-2.94090072314 0.449963708719,-3.29785267512 l-7.33243299085e-05,-3.25279374917 0.241634150346,-2.25258529186 l0.797278185685,-1.72163466612 0.938709676266,-1.06643905242 l1.75387680531,-1.10440423091 m-2.72444506486,-11.6758179665 l0.286355639497,-0.546262462934 0.626622637113,-0.599536846081 l1.96319381396,-1.06431772312 3.32770168781,-0.510656734308 l0.910985271136,0.309930344423 1.47711018721,1.25898162524 l0.879173477491,1.27136657635 0.855350494385,2.29548195998 l0.291337395708,1.82810862859 -6.38236754943e-05,3.02494565646 l-0.560714403788,1.63099984328 -0.879491269588,1.19493295749 l-1.19411458572,0.82881535093 -2.26322690646,0.712331881126 l-1.92267358303,-0.000178198606591 -0.809875279665,-0.336018204689 l-1.23175481955,-1.1898213625 m-3.60740145048,-8.77147992452 l0.112482607365,-0.916004876296 m6.78384542465,1.62390093009 l0.00462777485761,-0.000229786043443 m-5.29548724492,3.76700321833 l0.701081156731,0.640078534683 0.649882505337,0.549351771673 l0.658070196708,0.417485684156 0.375042979916,-0.696687251329 l-0.423174848159,-0.806962251663 m8.33309014638,-2.42909451326 l2.59452342987,-0.691444476446 8.31813017527,-0.879020492236 l6.52191758156,-0.000213119055843 2.52151290576,0.619594405095 l2.68112421036,1.31535361211 1.98535958926,1.6590466102 l1.51564031839,2.15068459511 0.827713012695,1.84072415034 l0.691826293866,3.000395298 0.221509610613,3.94432544708 l-0.000106671189618,5.18694122632 -0.377974982063,4.84821677208 l-0.531290521224,2.14587787787 -0.884785453478,1.43681834141 l-1.106886367,0.695691605409 -3.0740104119,0.477965424458 l-1.22377961874,-1.09733621279 -0.672897746166,-4.44076895714 l-0.954189896584,-3.58174880346 -0.673738668362,-0.745817323526 l-2.1784255902,-0.000104247543883 -1.35562231143,1.14838172992 l-0.395587881406,0.890419781208 -0.0263374081502,5.17324050268 l-0.41999856631,1.27704113722 -0.870176255703,0.783225695292 l-1.1245076855,0.217171783249 -1.88552260399,-0.264673605561 l-1.07135802507,-1.80652896563 -0.704059700171,-4.45305307706 l-0.692573289076,-2.02652732531 -0.730614215136,-0.559645990531 l-5.43788989385,0.476517528296 -1.40619466702,0.533642868201 l-0.846010446548,1.2559680144 -0.451127588749,4.80163057645 l-0.877423783143,1.90282503764 -0.993545552095,0.782089432081 l-0.979502598445,0.015260844181 -0.870530605316,-0.779929608107 l-0.542356520891,-1.51098887126 -0.000193568812392,-2.57950762908 l0.0536111245553,-2.12659657001 -0.285916179419,-1.28255575895 l-0.652279953162,-0.869114995003 -0.864738921324,-0.355312824249 l-0.830605526765,-0.0214746175334 m106.564250326,-23.5015943551 l-0.8359186848,-0.929940342903 -1.35635276635,-0.626590549946 l-3.30032467842,-0.707925061385 -2.62112597624,-0.000154627668962 l-1.37689153353,0.255354270339 -1.45128508409,0.515303810438 l-2.70540734132,1.52670313915 -1.77777806918,1.64565642675 l-1.44258250793,1.77874346574 -1.19033147891,1.96556707223 l-0.943043828011,2.18005875746 -0.627740869919,2.191375494 l-0.30909443895,2.65537758668 0.0233746242399,2.60044296583 l0.342031295101,2.46173938115 0.648016234239,2.2791882356 l0.899914105733,2.09712306658 1.16107106209,1.88844124476 l1.38155132532,1.63490841786 1.57233804464,1.34339034557 l1.67730510235,1.01052035888 1.72975341479,0.699525078138 l1.76832238833,0.421768526236 3.04851174355,0.211225201686 l1.36665115754,-0.151399299502 2.62260635694,-0.834602018197 l2.14200556278,-1.11699114243 1.75690690676,-1.35029186805 l1.39558106661,-1.55723164479 1.10926111539,-1.7773793141 l1.20828429858,-3.21798543135 0.541600733995,-2.82770117124 l2.44123596834e-05,-3.71589422226 -0.574120829503,-2.461181283 l-0.955669184526,-2.21420407295 -1.9205413262,-2.94648309549 l-1.71447734038,-1.78497274717 -2.5896825393,-1.93284829458 l-1.0084293286,-0.506071597338 m-9.47815100352,9.65227206548 l-0.734680344661,0.0389110421141 -0.829777568579,0.926441550255 l-0.37808428208,1.77599092325 1.11476292213,1.76648199558 l1.72395904859,0.27697339654 0.946897367636,-0.56112964948 l0.51002835234,-0.957122445107 -9.69209274141e-05,-1.54203285774 l-0.669279346863,-0.827829390764 -0.998748938243,-0.389768605431 m9.53479448954,-0.066328595082 l-1.17765317361,0.164036837717 -0.992639660835,0.874088009199 l-0.492218534152,1.26288791498 0.774726271629,0.887711842855 l1.77228053411,-0.0798784134289 0.755056589842,-0.693933566411 l0.292042319973,-0.956574380398 -0.831689089537,-1.10622733831 m-7.53762483597,2.89732416471 l-1.04216466347,-0.173462728659 -1.09594245752,0.608825584253 l-0.628698815902,0.775323311488 -0.570402592421,1.60968770583 l-9.47604712564e-05,1.47077997526 0.923709173997,0.898469090462 l1.39354914427,0.222882504265 1.035810709,-0.478303283453 l0.795981486638,-0.805468509595 0.765095502138,-1.63640151421 l-0.000129469784345,-1.37817243735 -0.646793246269,-0.619074006875 l-0.952570339044,-0.161220344404 m-1.68619930744,2.19518939654 l0.00620740000159,-0.000125235989496 m2.2027405103,0.203363224864 l0.000737955027337,-0.000154809422384 m-3.31751366456,-2.91773796082 l-0.829815715551,-2.11923201879 -0.926848848661,-2.0820804437 l-2.05889503161,-3.87685338656 -3.32043727239,-3.7465830644 l-2.90969689687,-1.89979036649 -3.20946355661,-1.03506485621 l-2.58579969406,-0.262776762247 -2.48687704404,0.173400963346 l-2.33726004759,0.762948840857 -3.27855606874,1.9306888183 l-1.9774689277,1.90409680208 -2.11966355642,3.11410407225 l-0.648252765338,1.49559527636 -0.714023311933,3.22091182073 l-0.000252689060289,3.98094177246 0.355246936282,1.42744024595 l1.27472807964,2.58043309053 2.33363330364,2.57866382599 l3.27625274658,2.27672477563 2.60706722736,1.23861183723 l3.89643867811,1.07744902372 3.09864858786,0.402763113379 l4.17006572088,2.56110403522e-05 2.16243743896,-0.477393666903 l2.98316737016,-1.26785218716 2.06276595592,-1.3172930479 l2.22246905168,-2.10604826609 1.3653537631,-1.94781422615 l0.895709395409,-2.46929506461 m-28.2464059194,2.10712095102 l-0.699154039224,1.00234945615 -0.876231789589,2.26576268673 l-1.07568065325,4.38429077466 -0.281238580743,3.04650743802 l0.823096980651,2.14937667052 1.89702987671,0.0923477113247 l1.39577716589,-1.3576216499 1.48643483718,-4.86939787865 l0.60297931234,-3.64050626755 0.203342499832,-1.17834041516 m11.4486122131,2.94936021169 l-0.371311629812,1.19553267956 -0.275327836474,6.04178706805 l0.574972977241,1.67146941026 1.78780794144,0.195531696081 l1.56743486722,-0.917878448963 1.14330857992,-1.1637343963 l0.710085978111,-1.28386169672 0.575541208188,-2.54204293092 l-8.93843692514e-05,-2.91641930739 -0.453836818536,-1.5562642614 m79.2748980218,-24.5869792199 l-0.971046884855,-0.867474973202 -1.46589348714,-0.548089792331 l-2.50363588333,-0.398507937789 -2.81543215116,-0.000246229853171 l-1.5938436985,0.256129826109 -1.60785883665,0.541033148766 l-1.65196935336,0.868580142657 -1.60556922356,1.2014601628 l-2.42566823959,2.61060198148 -1.70039653778,2.50495175521 l-1.29592676957,2.55882680416 -0.882117251555,2.52986967564 l-0.511224021514,2.55692323049 -0.161388317744,2.43827839692 l0.152242469291,2.42023507754 0.4939387242,2.34771807988 l0.80506230394,2.20353364944 1.13302191099,2.09953566392 l1.43125146627,1.95468525092 1.70369187991,1.70558194319 l1.94754024347,1.42887145281 2.09610760212,1.11256092787 l2.17502454917,0.766866207123 2.28775342306,0.461097906033 l2.41460720698,0.165045186877 2.37554212411,-0.179974312584 l2.20721860727,-0.543061246475 2.12297916412,-0.899475415548 l1.89038614432,-1.18651260932 1.64752890666,-1.46011521419 l2.23011295001,-2.99575229486 1.45581156015,-2.92031566302 l0.909846425056,-2.8982202212 0.518105576436,-4.19644792875 l-6.07771410917e-05,-4.05354976654 -0.794159521659,-2.87876149019 l-1.22556885084,-2.25557386875 -3.98277123769,-4.44009542465 l-1.37672275305,-1.05448037386 -2.62145062288,-1.312918365 l-3.19632649422,-0.888634324074 -1.96316679319,-0.000108636716808 m-3.15690696239,13.7105512619 l-0.911082327366,0.464108784993 -1.05955272913,1.75624271234 l-0.365458130836,1.83434089025 0.292165453235,2.59661912918 l0.934684475263,1.32930805286 1.2224282821,1.01929644744 l1.40903741121,0.603738427162 1.46144151688,0.23846099774 l1.50598456462,-0.116787801186 1.36866162221,-0.472453435262 l1.1826718847,-0.781601071358 0.942946374416,-1.0143789649 l0.835218429565,-1.96845670541 -0.000106776945662,-1.7903594176 l-0.927516321341,-1.60546263059 -0.900430977345,-0.781974693139 l-3.03200105826,-1.34614785512 -2.36951212088,-0.000103803710469 l-1.0144524773,0.779593487581 m0.931751430035,3.35369825363 l0.139859132469,1.31571918726 m3.34500153859,-1.1733725667 l0.182694134613,1.51068518559 m-9.2307917277,-11.1255200704 l-0.684735576312,0.353486388922 -0.489250322183,0.741163740555 l0.610224207242,0.680586844683 1.28118256728,-0.444026986758 l-0.0803244300187,-0.700259457032 -0.728257447481,-0.0351024698466 m13.9569711685,-0.197812095284 l-0.958401064078,0.0771875617405 -0.444495578607,1.05291763941 l1.34977012873,0.00803965609521 0.418375879526,-0.850986838341 l-0.778843810161,-0.545880099138 m-17.2221088409,5.82247773806 l-2.30158567429,-3.29793492953 -1.24518980583,-1.61968012651 l-1.03709052006,-1.5229767561 -1.42911007007,-2.35543509324 l-1.58790787061,-2.82951394717 -1.00155373414,-2.03411122163 l-0.687705179056,-1.7156992356 -0.000296567741316,-1.89972778161 l0.886005560557,-1.46123031775 1.2970679005,-1.07330421607 l1.50214781364,-0.761126826207 2.79205103715,-0.704377094905 l2.48654047648,-0.000174955494003 1.19051992893,0.469954262177 l1.92136963209,1.50538424651 1.85721496741,2.37062553565 l0.992246568203,1.95169488589 0.490452001492,1.78709208965 l-0.000137650871087,2.18647539616 m11.5213624636,-0.00323995132931 l-0.0061827719522,-1.23110572497 0.644080390533,-1.55405431986 l3.32051813602,-4.12689010302 3.14325869083,-1.97320997715 l1.86947305997,-0.365746418635 1.87651475271,-3.16206690817e-05 l1.55931343635,0.395172635714 0.97892810901,0.756886551778 l0.725336621205,1.0902022322 0.612259904544,2.43105987708 l-4.62302674957e-05,2.82746752103 -0.693606038888,2.2895381848 l-1.15415821473,1.94172163804 -2.52516686916,2.69734462102 l-1.8296444416,1.17921600739 -1.7508739233,0.54782902201 m-17.0965019862,17.8230158488 l1.19395524263,2.3029345274 1.66545371215,3.07791848977 l2.56119529406,4.26382422447 1.64490302404,1.8324893713 l3.49543054899,2.20730721951 5.378784736,1.59658203522 l6.03188673655,0.493043164412 7.53635327021,-0.483198712269 l3.03412357966,-0.906266967456 3.12817931175,-1.75696531932 l1.03163450956,-0.988749563694 1.33504668872,-2.27975050608 l0.680062572161,-2.29333500067 0.172047540545,-2.14742918809 l-0.441866070032,-3.23812862237 -1.11529936393,-2.5451918443 l-2.3084272941,-3.00364136696 -1.21870050828,-1.10482643048 l-2.72103309631,-1.59819851319 -5.54970026016,-1.4857874314 l-2.73417274157,-0.396461958687 m62.8230965459,-14.3194284929 l-1.12981756528,-0.79553609093 -1.51499976714,-0.40155266722 l-2.56092270215,-0.246127694845 -2.63685047626,-0.000207019741841 l-1.64243986209,0.275693212946 -1.64336035649,0.571189274391 l-1.66727701823,0.886213580767 -1.60440852245,1.22024248044 l-1.47552947203,1.58163964748 -1.25351468722,1.93842113018 l-1.03738854329,2.24545478821 -0.757979154587,2.49335726102 l-0.463715990384,2.71908442179 -0.141741981109,2.80386865139 l0.217911303043,2.86284804344 0.61844120423,2.81956374645 l0.979833602905,2.62819806735 1.29883070787,2.39105045795 l1.6482407848,2.17134435972 1.90934975942,1.80664757888 l2.10616072019,1.44580821196 2.25942333539,1.0632883509 l2.29105710983,0.616307357947 2.39800512791,0.264259452621 l2.42815037568,-0.0741599376003 3.84582797686,-0.921137531598 l2.31999754906,-1.2993490696 2.05285509427,-1.66162580252 l1.76031728586,-2.00528581937 1.39533172051,-2.20441480478 l1.00474476814,-2.40260402362 0.603589067856,-2.50433564186 l0.232039019465,-2.53064413865 -4.87302380255e-05,-4.03476675351 l-0.727755129337,-3.23116759459 -1.22170855602,-2.7129693826 l-2.52184947332,-3.57185562452 -3.4118950367,-3.13405851523 l-2.2431798776,-1.35283648968 -2.98334777355,-1.10996544361 l-2.17325905959,-0.231633558869 m-3.38734110196,13.0691671371 l-1.15866154432,0.0176173976312 -1.32292807102,1.42227043708 l-0.593822797139,1.77099704742 -0.195343929032,1.77967528502 l1.39771550894,2.92918523153 1.52879486481,1.01846218109 l1.76056901614,0.62690620621 1.81700487932,0.182609880964 l1.55074814955,-0.622192273537 1.20919942856,-1.01416895787 l0.876050889492,-1.27239535252 0.496501326561,-1.41692062219 l0.126541989545,-1.48920685053 -0.762240886688,-1.59016340971 l-1.50445570548,-1.20410054922 -2.49162534873,-1.05361739794 l-1.03541374207,-0.17597147574 -1.51379664739,0.165620831152 m0.114982662102,3.95725727081 l-0.00212222958604,-9.09899184383e-05 m3.6805609862,0.508363246918 l-0.0013551087856,2.97475253319e-05 m-7.92772134145,-9.47361389796 l-0.624754726887,0.0123871684385 -0.407270292441,0.629617621501 l0.70410763224,0.313035150369 0.0610893281798,-0.688668092092 l-0.554729998112,0.163368272285 m13.0640610059,0.457083831231 l-0.439965029558,0.267499536276 0.39439484477,-0.191245327393 l-0.62076985836,-0.0818899273872 m-0.188667873542,-7.06979751587 l0.367778961857,-0.966143608093 1.76057199637,-2.22478469213 l1.79595371087,-1.74843947093 3.40641975403,-2.2789500157 l0.859870612621,0.775059958299 -0.145454009374,4.55823699633 l-0.760518014431,4.39687053363 -0.436667154233,2.71394272645 m-17.948975563,-3.95501097043 l-1.04256480932,-1.05839957794 -2.80719121297,-3.64308834076 l-2.14341839155,-1.38905922572 -1.17021759351,0.706025063992 l-0.531506786744,3.04805298646 0.0729408301413,5.29054760933 l0.399306640029,1.35889540116 m11.5204222997,14.8954216639 l0.327262505889,2.45253145695 0.907413562139,2.45075702667 l1.62405987581,2.22683429718 2.61703590552,2.00698991617 l2.38111078739,1.19970152775 2.55230565866,0.842008690039 l2.67303268115,0.496984372536 2.8960643212,0.235458339254 l4.77244853973,-9.05550715894e-07 2.61509418488,-0.450668831666 l2.34903931618,-0.771254400412 2.02198704084,-1.06630772352 l2.31478134791,-1.9957925876 1.54211223125,-2.035531799 l1.01542939742,-2.17738767465 0.579651792844,-2.20768868923 l0.141118379931,-2.21472700437 -0.259724333882,-2.1388365825 l-1.03616386652,-1.91387573878 -2.75118966897,-2.85303254922 l-2.69380152225,-1.54069473346 -4.10057981809,-1.24231646458 l-3.0968383948,-0.227525358399 -3.89745910962,0.404270266493 l-1.96112612883,0.798618396123 -1.53197298447,0.985711912314 m19.5063622793,3.78476381302 l0.30770589908,-1.14298045635 0.897249082724,-1.22823625803 l2.23945399125,-2.33136018117 1.69085323811,-1.35114302238 l1.68240070343,-1.05445732673 1.6200063626,-0.781077692906 l1.57256374756,-0.606565425793 1.59098555644,-0.534715503454 m45.8303083918,-5.90680368802 l-1.32181316614,-0.696566601594 -1.58976713816,-0.301895911495 l-3.60098401705,-0.000175939773423 -1.64404183626,0.251635164022 l-1.66423847278,0.499990185102 -1.66564941406,0.786929180225 l-1.63026213646,1.11218680938 -1.55468136072,1.45253608624 l-1.42192373673,1.85324589411 -1.19377762079,2.1664061149 l-0.940565268199,2.47203330199 -0.593357384205,2.74756173293 l-0.226263006528,2.8936924537 0.176474315425,2.88355271022 l0.566379676263,2.82301882903 1.01368019978,2.76032606761 l1.38232588768,2.50653386116 1.77576005459,2.21076528231 l2.12171534697,1.85825069745 2.46179163456,1.51492377122 l2.63183693091,1.08334531387 2.67756144206,0.607339690129 l2.82218674819,0.183441701035 2.81528353691,-0.242782384157 l2.73338615894,-0.714932084084 2.51052061717,-1.09496206045 l2.29596714179,-1.45826925834 1.93428675334,-1.75643523534 l1.60605420669,-2.1057120959 1.27954582373,-2.40260998408 l0.884186724822,-2.69420683384 0.443954914808,-2.82279670238 l0.0560313463211,-2.82183766365 -0.358153358102,-2.7446860075 l-0.711788336436,-2.49340931575 -0.988173882167,-2.2741462787 l-1.27684295177,-2.07788189252 -2.80687967936,-3.0312560002 l-1.59823089838,-1.24876091878 -3.2732129097,-1.78628842036 l-3.90987038612,-1.23308817546 -1.46195958058,-0.172827318311 m-3.2530862093,14.3450276057 l-1.06376171112,0.352055976788 -0.919103225072,1.04612181584 l-0.542291253805,1.64825091759 -7.46418057436e-05,2.22931702932 l0.445475280285,1.24240338802 1.4945062995,1.80860201518 l1.62670691808,0.804269860188 1.80704156558,0.335259512067 l1.7467212677,-0.107152486841 1.56035761038,-0.501735260089 l1.25533511241,-0.85783491532 1.42317324877,-2.77207553387 l0.098462831229,-1.27712736527 -0.291458194455,-1.36740118265 l-1.15637342135,-1.34330123663 -1.65502876043,-0.890019635359 l-1.78598225117,-0.363053853313 -2.57903158665,0.00635731926498 l-1.0318612059,0.663161973159 m1.10991577307,3.88962546984 l-0.00173378250717,1.14884255709e-05 m4.00564750036,0.0490565411747 l-0.00154553728256,3.28662963511e-07 m-9.79116678238,-9.39455111821 l-0.484281877677,0.197227622072 m14.2398643494,0.239721387625 l-0.000398427558442,-0.000119846178374 m-17.3471196493,-1.2746566534 l-0.848305424054,-1.67860031128 -2.34099368254,-6.14722768466 l-0.143376712998,-2.02999750773 1.38131966194,-0.721318721771 l4.18757398923,2.40136722724 3.44883203506,2.39246249199 l1.19005203247,0.555234948794 m11.830672423,1.01278712352 l0.460150589546,-1.21497799953 2.15295771758,-2.58260846138 l3.88810356458,-3.67513140043 0.761789778868,1.03507846594 l-0.44854114453,6.16551240285 -0.676013727983,4.44737911224 l-0.0511569002022,0.738421827555 m0.0916396578153,4.3244600296 l0.546169777711,-1.08410398165 1.74984236558,-1.10997100671 l2.24057575067,-0.895387927691 2.41800069809,-0.540547569593 l2.39722808202,-0.194439875583 3.51889093717,0.317560955882 l1.65592779716,0.545362432798 1.56011551619,0.85773696502 l2.13013211886,1.92813237508 1.38341426849,1.9092386961 l0.958067675432,1.93765719732 0.611312886079,2.04729775588 l0.291144624352,2.08628575007 -0.0104794480527,2.06369082133 l-0.633243868748,2.1263786157 -1.32506022851,1.92677716414 l-3.06176682313,2.70227928956 -4.26020900408,2.19193061193 l-3.45575769742,0.969866613547 -4.84162211418,0.438048988581 l-4.42209124565,-0.000127416230195 -3.23569138845,-0.997970799605 l-4.22260522842,-2.85607556502 -0.852894882361,-0.911983251572 m27.4007511139,-15.9365193049 l0.503930399815,-1.02240463098 0.929850041866,-1.32664779822 l2.10241019726,-3.03084115187 0.688845564922,-1.36864046256 l0.593670904636,-1.99623147647 -0.000224924976161,-2.07261244456 l-0.928399264812,-1.431265076 -1.36018484831,-0.718771914641 l-1.34613295396,0.0285808338473 -1.00855698188,0.91886729002 l1.05499943097,1.20988508066 2.1756196022,-0.403363108635 l1.05629185836,-0.928923288981 0.827449460824,-1.28292292356 l0.517874608437,-1.48052314917 0.209566255411,-2.48330036799 l-0.718021690845,-1.07242296139 -1.34092966715,-0.18439779679 l-0.933951437473,0.776631484429 1.62936757008,0.0197266073277 l0.774137973785,-0.867503186067 0.709690451622,-1.86191638311 m51.0899237143,4.68367130498 l-1.46161884069,-0.589436093966 -1.64665023486,-0.186042065422 l-3.61164331436,-0.000100468114397 -1.55333012342,0.293790722887 l-1.55213445425,0.570590645075 -1.55243128538,0.89785138766 l-1.4977350831,1.2358725071 -1.43548429012,1.64466450612 l-1.29282146692,2.09179957708 -0.995212197304,2.39210307598 l-0.651239305735,2.67156898975 -0.273681605856,2.87805259228 l0.15343029052,2.96559552352 0.626682937145,3.02495539188 l1.11735860507,2.89976100127 1.61798020204,2.73741205533 l2.12272822857,2.40050772826 2.47413337231,1.96888446808 l2.72084037463,1.48087441921 2.9285856088,0.911441644033 l3.07068228722,0.361154203614 3.15516491731,-0.132037065923 l3.0301574866,-0.674668500821 2.82169620196,-1.19654347499 l2.54271090031,-1.64692978064 2.12220648925,-2.01448877652 l1.72840893269,-2.36347814401 1.28058036168,-2.69981880983 l0.770718405644,-2.92060156663 0.256923511624,-2.99926638603 l-0.217114662131,-2.93231447538 -0.658936897914,-2.72753278414 l-1.05396260818,-2.50780820847 -1.37999494871,-2.2618685166 l-1.68910523256,-2.04465091228 -1.99708898862,-1.71702504158 l-2.20039586226,-1.30773504575 -2.42953379949,-0.957416594028 l-2.49800384045,-0.514884541432 -2.48033006986,-0.133820213377 l-2.25542843342,0.238529567917 m-1.54537598292,13.8446998596 l-1.1204229792,0.569832772017 -0.934725602468,1.34150316318 l-0.357298726837,1.79524362087 -7.05453931005e-05,2.31591264407 l1.0312585036,1.57619814078 1.6628091534,0.900755822659 l2.02849328518,0.427333613237 2.06287364165,-0.056061030676 l1.88290437063,-0.503461807966 1.50101780891,-0.806097487609 l1.04566663504,-1.03521327178 0.642404903968,-1.20244969924 l0.222838247816,-1.32968227069 -0.192809924483,-1.36315474908 l-1.13850702842,-1.4717545112 -1.71471039454,-0.954918662707 l-4.01137193044,-0.600130508343 -1.49768680334,0.539856106043 m0.714773088694,3.87007753054 l-0.00164859055076,3.33549845285e-05 m3.83308291435,-0.0188673784335 l-0.00137152227884,4.76843221501e-06 m-4.36463991801,0.059255703042 l-0.00185161499151,9.3761923381e-06 m4.53161040942,-0.138652237753 l-0.000803405855549,9.78712281115e-05 m-11.233013471,-10.4561511676 l-0.771210988363,-0.107924640179 -0.718666861455,-0.00237152756502 l-0.418020784855,0.307284593582 0.986230472724,0.721948742867 l1.3296888272,-0.249519993862 -0.335626130303,-0.795592814684 l-0.921093622843,0.184992638727 m16.1117617289,-0.232940067848 l-0.739849160115,0.310364812613 0.770353277524,-0.022822949104 l-0.670238981644,-0.27428475519 -0.619672387838,0.357408498724 m-19.8956108093,1.76494936148 l-1.32334212462,-5.21192550659 -0.400069504976,-2.20627129078 l-0.539675752322,-5.30498345693 1.16140166918,-1.48734847705 l1.4076072971,0.43156315883 4.04451131821,3.23102355003 l1.83800935745,1.46470308304 1.90260887146,0.981245140235 m14.4703435898,1.3726974527 l0.603384226561,-1.27301315467 2.51566727956,-2.82044231892 l4.8469376564,-4.05288259188 0.723629097144,0.789434959491 l-0.335668673118,5.87437033653 -0.515396744013,4.80881134669 l-0.0246084745352,1.2197158734 m-20.052728653,11.5548849106 l-1.5471414725,0.463134547075 -1.69760604699,1.35502487421 l-1.37199898561,1.91954533259 -0.945563515027,1.95617894332 l-0.856473346551,3.48090688388 -0.000244164524095,3.45399260521 l0.835961500804,2.13755428791 1.42730941375,2.07014520963 l1.95239623388,1.78955634435 2.48640100161,1.47927671671 l2.81486411889,1.06686681509 3.16457529863,0.64704110225 l3.40652704239,0.230923344692 3.53764931361,-0.169698918859 l3.40371568998,-0.71231380105 3.15722227097,-1.10904256503 l2.84178992112,-1.43467297157 2.492005229,-1.74762368202 l2.07201441129,-2.07410434882 1.46291941404,-2.29974985123 l0.847171843052,-2.38564729691 0.341619004806,-2.44608382384 l-0.11460715284,-2.39028473695 -0.558941115936,-2.09136803945 l-1.01069281499,-1.84863050779 -1.40132844448,-1.59244974454 l-1.74015462399,-1.28584086895 -3.37736209234,-1.41153881947 l-4.30128693581,-0.726999888817 -2.91198949019,0.040121016403 m71.4433437421,-17.5735492087 l-1.63755943378,-0.469317535559 -1.69701576233,-0.000340789192705 l-2.62595792611,0.581840326389 -1.52271529039,0.614345322053 l-1.51888032754,0.923145711422 -1.52209480604,1.30204856396 l-1.43471668164,1.67408963044 -1.17241799831,1.97539488475 l-0.862792332967,2.28667537371 -0.486824661493,2.56655037403 l-8.64292663512e-06,4.08079703649 0.777864704529,2.75147815545 l1.34847035011,2.63842840989 1.85315628846,2.39225069682 l2.28420495987,2.08048164845 2.63270417849,1.61817024151 l2.92661229769,1.16573850314 3.14861178398,0.636889735858 l3.21038782597,0.103679889192 3.04424067338,-0.436700681845 l2.82411158085,-1.00400298834 2.58349339167,-1.48568650087 l2.24600891272,-1.9051194191 1.80454154809,-2.30325380961 l1.29677206278,-2.57238805294 0.775262216727,-2.87138720353 l0.252687285344,-2.84526586533 -0.247946828604,-2.68074095249 l-0.702405621608,-2.46929486593 -1.09877735376,-2.34156668186 l-1.5010535717,-2.12546805541 -1.88574135303,-1.85426314672 l-2.15773502986,-1.52488331 -2.44423846404,-1.1000948151 l-2.57615804672,-0.671981622775 -2.71075546741,-0.27560668687 l-2.5855855147,0.106267097096 -2.15132375558,0.701732486486 m2.02970683575,13.5818465551 l-1.23466312885,0.240752771497 -1.02904717127,1.00934455792 l-0.635560800632,1.60222192605 1.6045075655,4.89949822426 l1.73991044362,1.06189131737 1.99662446976,0.603887587786 l2.10874776045,0.111046545208 1.89018885295,-0.931353271008 l1.34837160508,-1.30149890979 0.843083659808,-1.45443757375 l0.346061438322,-1.57829274734 -0.0833679611484,-1.56333684921 l-0.561589499315,-1.40427629153 -1.01921478907,-1.20712290208 l-3.16869914532,-1.34360820055 -1.73723081748,0.0253729708493 l-1.268483301,0.630470315615 m0.406878640254,4.48041200638 l-0.00163814033537,3.8590293722e-05 m4.11048650742,-0.276151100794 l-0.000843053179172,1.28989891361e-06 m-4.740913709,-0.00795647501945 l-0.00130956032081,-5.32867973864e-05 m3.65847587585,-0.108995859822 l-0.000955953728408,7.10736094334e-05 m-11.5020012856,-10.6277267138 l-0.744920323292,-0.0142610895758 -0.773680259784,0.48008903861 l-0.27732004722,0.992059806983 1.27825727065,0.669582535823 l1.20822330316,-0.993079145749 -0.361053794622,-0.9868735075 l-1.01295779149,0.11632754157 m16.8697579702,-0.958219269911 l-0.49055437247,0.77730635802 1.0056194663,0.0934953615069 l-0.533240338167,-0.902876158555 -0.894079109033,0.0866193386416 m-20.9178733826,3.35438847542 l-0.986487666766,-1.95855816205 -3.50214838982,-8.13902854919 l-0.665541142225,-3.00869146983 0.903049210707,-1.30944391092 l4.94446714719,1.94208999475 2.53083368142,1.59120907386 l3.45012307167,2.31429696083 m15.7994604111,-0.268123199542 l0.592768241962,-1.35797411203 3.93571813901,-5.09357452393 l1.57163421313,-1.57091488441 1.10246976217,0.48931106925 l0.390671541293,2.87630875905 0.182514203091,6.88545624415 l-0.0405222239594,4.17704065641 m-23.1385453542,11.6297117869 l-1.1181379358,1.26545667648 -0.596457868814,1.94198111693 l-0.536693880955,5.67499955495 0.433028240999,2.36899554729 l0.844451387723,2.24435587724 1.33408953746,2.15338269869 l1.80900077025,1.9228241841 2.22263216972,1.60869320234 l2.61142273744,1.28098855416 2.75146345297,0.858944058418 l3.0099550883,0.446067601442 3.28554968039,0.0683729040126 l3.31799566746,-0.423494329055 3.19932758808,-0.941425263882 l2.96616872152,-1.3988083601 2.63926843802,-1.76775077979 l2.1677039067,-2.09127803644 1.67873481909,-2.38884627819 l1.05445295572,-2.52002974351 0.450034489234,-2.56835103035 l-0.0363159676393,-2.59690642357 -0.518939594428,-2.43875881036 l-1.01729035378,-2.1888222297 -1.38440042734,-1.87624851863 l-1.732716163,-1.55491948128 -2.05496470133,-1.18665625652 l-2.25048542023,-0.821206768354 -2.33091215293,-0.467357337475 l-2.25630442301,-0.129234194756 m-14.6096261342,22.7624464035 l-0.398737092813,4.07105962435 -0.827292700609,5.31417965889 l-1.04038665692,4.66028014819 m80.384479359,-47.7685667272 l-1.7799325784,-0.346906855702 -1.60599102577,0.0984109876057 l-2.45357652505,0.782148788373 -1.40148530404,0.747911632061 l-1.33596599102,1.02808117867 -1.31613403559,1.44058654706 l-1.12530211608,1.81326548258 -0.799872279167,2.13622848193 l-0.450851370891,2.42564837138 -6.18645450838e-05,4.36292767525 l0.916829506556,2.68656770388 1.51150594155,2.52968887488 l2.04324980577,2.21321463585 2.50365416209,1.81471765041 l2.7922753493,1.27285907666 3.10120006402,0.700123310089 l3.31829329332,0.184469272693 3.43862692515,-0.373696337144 l3.16966672738,-0.983436107635 2.8843408823,-1.49523556232 l2.40508377552,-1.92678411802 1.8813620011,-2.2262942791 l1.33235305548,-2.4640639623 0.761458327373,-2.63166904449 l0.21060715119,-2.67002622286 -0.312490413586,-2.66163388888 l-0.893534521262,-2.52349714438 -1.43924037615,-2.2799440225 l-1.8315354983,-1.94499929746 -2.22607413928,-1.58614337444 l-2.58146226406,-1.1538006862 -2.81016727289,-0.684278905392 l-2.86908884843,-0.24706274271 -2.8270359834,0.100575188796 l-2.45312392712,0.485829611619 -2.11323022842,0.796019832293 m1.82418882847,10.7767963409 l-0.395047267278,1.18946880102 0.197338014841,2.24040428797 l1.08484695355,1.47299150626 2.39997982979,1.13776654005 l4.99560832977,-0.441179772218 1.71261012554,-1.32802178462 l1.08891477187,-1.4270033439 0.524890770515,-1.43678764502 l-0.000105563825249,-1.63786143064 -1.30881130695,-1.43235474825 l-2.00567662716,-0.765687078238 -3.37104360263,-0.388208081325 l-2.29051172733,0.584722906351 -1.34317020575,1.38183414936 l-0.5618904531,1.41753107309 m3.38123480479,1.37523720662 l-0.00185986321109,4.50252749336e-05 m3.58984827995,-0.62196329236 l-0.000949436216615,2.96870469659e-05 m-4.05746738116,0.0748276089629 l-0.00119994976558,-3.46440901922e-05 m4.3977646033,-0.202284480135 l-0.000668745584941,9.03994077817e-05 m-11.0866936048,-7.53950595856 l-0.569374412298,-0.140721797943 m14.3129205704,-1.02532198032 l0.000671730328274,-0.000104998228683 m-19.42334493,7.27741241455 l-0.385870585839,-2.76769975821 -1.30964140097,-7.69222577413 l-0.25873777767,-2.47373878956 -0.205133991937,-5.05959351858 l1.38352821271,-1.16475413243 4.41600640615,1.75749142965 l4.18522040049,3.22441220284 2.04930146535,1.95081373056 l1.1651028196,1.5461319685 m10.2245457967,0.621845622857 l0.41521285971,-1.4425043265 3.56690724691,-5.02633253733 l2.7192701896,-2.90212174257 1.05130195618,-0.815930267175 l0.81989377737,1.0077308615 0.367615744472,6.62094116211 l0.0997425491611,6.13498767217 -0.01205467619,3.60100388527 m-19.2438793182,10.8544699351 l-1.66092813015,0.833097646634 -3.597732385,3.49430282911 l-1.04678134123,1.60094896952 -0.902550121148,1.91326280435 l-0.596699317296,2.15334375699 -0.00023311447876,2.97665496667 l0.981343487899,1.94245576859 1.6829842329,1.83996975422 l2.32937693596,1.59419198831 2.86514838537,1.23050908248 l3.31043601036,0.868666668733 3.65881005923,0.497064987818 l3.85388334592,0.103291875372 3.79082322121,-0.407898525397 l3.67592612902,-0.868691603343 3.34602157275,-1.31523251534 l2.97551850478,-1.76200052102 2.53512501717,-2.12186912696 l2.00850526492,-2.41193433603 1.35326604048,-2.66758998235 l0.649622778098,-2.7155504624 0.0526951253414,-2.62998819351 l-0.499456177155,-2.46039628983 -1.01804335912,-2.12879598141 l-1.5276530385,-1.83860162894 -1.99974914392,-1.55601888895 l-2.40382889907,-1.11662268639 -2.5874565045,-0.664739459753 l-2.61301020781,-0.273802528779 -4.08655405045,0.169742529591 l-2.24178850651,0.814428428809 -1.72744452953,1.03293160597 m-9.98446544011,20.0650962194 l-1.16230845451,1.89099729061 -2.37270454566,5.43327490489 l-1.13452424606,3.06284944216 -0.479233711958,2.15164601803 m22.8371588389,-11.2040750186 l0.548797547817,6.37616038322 0.507819801569,5.71570515633 l0.365977014105,1.16984794537 \" fill=\"none\" stroke=\"black\" stroke-width=\"1\"/></svg>"
          },
          "metadata": {
            "tags": []
          }
        }
      ]
    },
    {
      "metadata": {
        "id": "KUgVRGnSFQwa",
        "colab_type": "code",
        "colab": {}
      },
      "cell_type": "code",
      "source": [
        ""
      ],
      "execution_count": 0,
      "outputs": []
    }
  ]
}